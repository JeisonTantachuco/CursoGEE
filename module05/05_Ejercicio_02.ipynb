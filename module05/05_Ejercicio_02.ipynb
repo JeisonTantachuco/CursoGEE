{
  "nbformat": 4,
  "nbformat_minor": 0,
  "metadata": {
    "colab": {
      "name": "05_Ejercicio_02.ipynb",
      "provenance": [],
      "toc_visible": true,
      "include_colab_link": true
    },
    "kernelspec": {
      "name": "python3",
      "display_name": "Python 3"
    }
  },
  "cells": [
    {
      "cell_type": "markdown",
      "metadata": {
        "id": "view-in-github",
        "colab_type": "text"
      },
      "source": [
        "<a href=\"https://colab.research.google.com/github/JeisonTantachuco/CursoGEE/blob/main/module05/05_Ejercicio_02.ipynb\" target=\"_parent\"><img src=\"https://colab.research.google.com/assets/colab-badge.svg\" alt=\"Open In Colab\"/></a>"
      ]
    },
    {
      "cell_type": "markdown",
      "metadata": {
        "id": "lGc7epKGa4i-"
      },
      "source": [
        "<!--COURSE_INFORMATION-->\n",
        "<img align=\"left\" style=\"padding-right:10px;\" src=\"https://user-images.githubusercontent.com/16768318/73986808-75b3ca00-4936-11ea-90f1-3a6c352766ce.png\" width=10% >\n",
        "<img align=\"right\" style=\"padding-left:10px;\" src=\"https://user-images.githubusercontent.com/16768318/73986811-764c6080-4936-11ea-9653-a3eacc47caed.png\" width=10% >\n",
        "\n",
        "**Bienvenidos!** Este *colab notebook* es parte del curso [**Introduccion a Google Earth Engine con Python**](https://github.com/csaybar/EarthEngineMasterGIS) desarrollado por el equipo [**MasterGIS**](https://www.mastergis.com/). Obten mas informacion del curso en este [**enlace**](https://www.mastergis.com/product/google-earth-engine/). El contenido del curso esta disponible en [**GitHub**](https://github.com/csaybar/EarthEngineMasterGIS) bajo licencia [**MIT**](https://opensource.org/licenses/MIT)."
      ]
    },
    {
      "cell_type": "markdown",
      "metadata": {
        "id": "FAGmoEYk7ZCm"
      },
      "source": [
        "### **Ejercicio N°02:**\n",
        " - Cree una funcion (o funciones) que simplifique el proceso de control de calidad de imagenes sentinel2. Esta funcion debe tener como argumentos:\n",
        "   **clean_s2(init_date, last_date, roi, cloud_per, calendar, bands)**\n",
        "   - **init_data** : La fecha de inicio\n",
        "   - **last_date** : La fecha de fin.\n",
        "   - **roi** : El ambito de estudio.\n",
        "   - **cloud_per** : El porcentaje de nubes.\n",
        "   - **calendar** : Los meses a considerar para la seleccion de imagenes.\n",
        "   - **bands** : Las bandas de interes.\n",
        "\n",
        "<img src=\"https://user-images.githubusercontent.com/16768318/73661182-8bed2c00-4691-11ea-8c5d-f96a0ad3e827.png\" align=\"right\" width = 60%/>"
      ]
    },
    {
      "cell_type": "markdown",
      "metadata": {
        "id": "l8ZAX9tD_E7M"
      },
      "source": [
        "#### **1) Autenticar y inicializar GEE**"
      ]
    },
    {
      "cell_type": "code",
      "metadata": {
        "id": "TNrAP31B_FZY",
        "colab": {
          "base_uri": "https://localhost:8080/"
        },
        "outputId": "27bf398b-9537-4896-9916-2fb62d3b8cc8"
      },
      "source": [
        "import ee\n",
        "ee.Authenticate()\n",
        "ee.Initialize(project = 'ee-jtantaroman')"
      ],
      "execution_count": 1,
      "outputs": [
        {
          "output_type": "stream",
          "name": "stderr",
          "text": [
            "*** Earth Engine *** Share your feedback by taking our Annual Developer Satisfaction Survey: https://google.qualtrics.com/jfe/form/SV_0JLhFqfSY1uiEaW?source=Init\n"
          ]
        }
      ]
    },
    {
      "cell_type": "markdown",
      "metadata": {
        "id": "joZXwVgc_FyY"
      },
      "source": [
        "#### **2) Carga nuestra funcion de mapeo**"
      ]
    },
    {
      "cell_type": "code",
      "metadata": {
        "id": "xYSB9Sxl_GGf",
        "cellView": "form"
      },
      "source": [
        "#@title mapdisplay: Crea mapas interactivos usando folium\n",
        "import folium\n",
        "def mapdisplay(center, dicc, Tiles=\"OpensTreetMap\",zoom_start=10):\n",
        "    '''\n",
        "    :param center: Center of the map (Latitude and Longitude).\n",
        "    :param dicc: Earth Engine Geometries or Tiles dictionary\n",
        "    :param Tiles: Mapbox Bright,Mapbox Control Room,Stamen Terrain,Stamen Toner,stamenwatercolor,cartodbpositron.\n",
        "    :zoom_start: Initial zoom level for the map.\n",
        "    :return: A folium.Map object.\n",
        "    '''\n",
        "    center = center[::-1]\n",
        "    mapViz = folium.Map(location=center,tiles=Tiles, zoom_start=zoom_start)\n",
        "    for k,v in dicc.items():\n",
        "      if ee.image.Image in [type(x) for x in v.values()]:\n",
        "        folium.TileLayer(\n",
        "            tiles = v[\"tile_fetcher\"].url_format,\n",
        "            attr  = 'Google Earth Engine',\n",
        "            overlay =True,\n",
        "            name  = k\n",
        "          ).add_to(mapViz)\n",
        "      else:\n",
        "        folium.GeoJson(\n",
        "        data = v,\n",
        "        name = k\n",
        "          ).add_to(mapViz)\n",
        "    mapViz.add_child(folium.LayerControl())\n",
        "    return mapViz"
      ],
      "execution_count": 2,
      "outputs": []
    },
    {
      "cell_type": "markdown",
      "metadata": {
        "id": "AFN3ZkRE-oVf"
      },
      "source": [
        "####**3) Area de Estudio**"
      ]
    },
    {
      "cell_type": "code",
      "metadata": {
        "id": "Q0-kIxaUzTHQ",
        "cellView": "form"
      },
      "source": [
        "#@title piura\n",
        "piura =  {\n",
        "  \"type\": \"FeatureCollection\",\n",
        "  \"features\": [\n",
        "    {\n",
        "      \"type\": \"Feature\",\n",
        "      \"properties\": {},\n",
        "      \"geometry\": {\n",
        "        \"type\": \"Polygon\",\n",
        "        \"coordinates\": [\n",
        "          [\n",
        "            [\n",
        "              -80.70144653320312,\n",
        "              -5.247546429206079\n",
        "            ],\n",
        "            [\n",
        "              -80.59295654296875,\n",
        "              -5.247546429206079\n",
        "            ],\n",
        "            [\n",
        "              -80.59295654296875,\n",
        "              -5.153521331735138\n",
        "            ],\n",
        "            [\n",
        "              -80.70144653320312,\n",
        "              -5.153521331735138\n",
        "            ],\n",
        "            [\n",
        "              -80.70144653320312,\n",
        "              -5.247546429206079\n",
        "            ]\n",
        "          ]\n",
        "        ]\n",
        "      }\n",
        "    }\n",
        "  ]\n",
        "}\n",
        "\n",
        "ee_piura = ee.Feature(piura['features'][0])\n",
        "centroide = ee_piura.geometry().centroid().getInfo()['coordinates']"
      ],
      "execution_count": 4,
      "outputs": []
    },
    {
      "cell_type": "code",
      "metadata": {
        "id": "iVHiVr1Z-7LO",
        "outputId": "9a90ad74-4559-43ff-f18d-25168a6e9b9e",
        "colab": {
          "base_uri": "https://localhost:8080/",
          "height": 685
        }
      },
      "source": [
        "dicc = {'area_de_estudio':ee_piura.getInfo()}\n",
        "mapdisplay(centroide, dicc, zoom_start= 10)"
      ],
      "execution_count": 5,
      "outputs": [
        {
          "output_type": "execute_result",
          "data": {
            "text/plain": [
              "<folium.folium.Map at 0x7ba0b80a88b0>"
            ],
            "text/html": [
              "<div style=\"width:100%;\"><div style=\"position:relative;width:100%;height:0;padding-bottom:60%;\"><span style=\"color:#565656\">Make this Notebook Trusted to load map: File -> Trust Notebook</span><iframe srcdoc=\"&lt;!DOCTYPE html&gt;\n",
              "&lt;html&gt;\n",
              "&lt;head&gt;\n",
              "    \n",
              "    &lt;meta http-equiv=&quot;content-type&quot; content=&quot;text/html; charset=UTF-8&quot; /&gt;\n",
              "    \n",
              "        &lt;script&gt;\n",
              "            L_NO_TOUCH = false;\n",
              "            L_DISABLE_3D = false;\n",
              "        &lt;/script&gt;\n",
              "    \n",
              "    &lt;style&gt;html, body {width: 100%;height: 100%;margin: 0;padding: 0;}&lt;/style&gt;\n",
              "    &lt;style&gt;#map {position:absolute;top:0;bottom:0;right:0;left:0;}&lt;/style&gt;\n",
              "    &lt;script src=&quot;https://cdn.jsdelivr.net/npm/leaflet@1.9.3/dist/leaflet.js&quot;&gt;&lt;/script&gt;\n",
              "    &lt;script src=&quot;https://code.jquery.com/jquery-3.7.1.min.js&quot;&gt;&lt;/script&gt;\n",
              "    &lt;script src=&quot;https://cdn.jsdelivr.net/npm/bootstrap@5.2.2/dist/js/bootstrap.bundle.min.js&quot;&gt;&lt;/script&gt;\n",
              "    &lt;script src=&quot;https://cdnjs.cloudflare.com/ajax/libs/Leaflet.awesome-markers/2.0.2/leaflet.awesome-markers.js&quot;&gt;&lt;/script&gt;\n",
              "    &lt;link rel=&quot;stylesheet&quot; href=&quot;https://cdn.jsdelivr.net/npm/leaflet@1.9.3/dist/leaflet.css&quot;/&gt;\n",
              "    &lt;link rel=&quot;stylesheet&quot; href=&quot;https://cdn.jsdelivr.net/npm/bootstrap@5.2.2/dist/css/bootstrap.min.css&quot;/&gt;\n",
              "    &lt;link rel=&quot;stylesheet&quot; href=&quot;https://netdna.bootstrapcdn.com/bootstrap/3.0.0/css/bootstrap-glyphicons.css&quot;/&gt;\n",
              "    &lt;link rel=&quot;stylesheet&quot; href=&quot;https://cdn.jsdelivr.net/npm/@fortawesome/fontawesome-free@6.2.0/css/all.min.css&quot;/&gt;\n",
              "    &lt;link rel=&quot;stylesheet&quot; href=&quot;https://cdnjs.cloudflare.com/ajax/libs/Leaflet.awesome-markers/2.0.2/leaflet.awesome-markers.css&quot;/&gt;\n",
              "    &lt;link rel=&quot;stylesheet&quot; href=&quot;https://cdn.jsdelivr.net/gh/python-visualization/folium/folium/templates/leaflet.awesome.rotate.min.css&quot;/&gt;\n",
              "    \n",
              "            &lt;meta name=&quot;viewport&quot; content=&quot;width=device-width,\n",
              "                initial-scale=1.0, maximum-scale=1.0, user-scalable=no&quot; /&gt;\n",
              "            &lt;style&gt;\n",
              "                #map_064c24af0d95e03575f041d29603d3c2 {\n",
              "                    position: relative;\n",
              "                    width: 100.0%;\n",
              "                    height: 100.0%;\n",
              "                    left: 0.0%;\n",
              "                    top: 0.0%;\n",
              "                }\n",
              "                .leaflet-container { font-size: 1rem; }\n",
              "            &lt;/style&gt;\n",
              "        \n",
              "&lt;/head&gt;\n",
              "&lt;body&gt;\n",
              "    \n",
              "    \n",
              "            &lt;div class=&quot;folium-map&quot; id=&quot;map_064c24af0d95e03575f041d29603d3c2&quot; &gt;&lt;/div&gt;\n",
              "        \n",
              "&lt;/body&gt;\n",
              "&lt;script&gt;\n",
              "    \n",
              "    \n",
              "            var map_064c24af0d95e03575f041d29603d3c2 = L.map(\n",
              "                &quot;map_064c24af0d95e03575f041d29603d3c2&quot;,\n",
              "                {\n",
              "                    center: [-5.200535028102756, -80.6472015380852],\n",
              "                    crs: L.CRS.EPSG3857,\n",
              "                    zoom: 10,\n",
              "                    zoomControl: true,\n",
              "                    preferCanvas: false,\n",
              "                }\n",
              "            );\n",
              "\n",
              "            \n",
              "\n",
              "        \n",
              "    \n",
              "            var tile_layer_e5b12e19ff361bdd423f5e770c2371c3 = L.tileLayer(\n",
              "                &quot;https://tile.openstreetmap.org/{z}/{x}/{y}.png&quot;,\n",
              "                {&quot;attribution&quot;: &quot;\\u0026copy; \\u003ca href=\\&quot;https://www.openstreetmap.org/copyright\\&quot;\\u003eOpenStreetMap\\u003c/a\\u003e contributors&quot;, &quot;detectRetina&quot;: false, &quot;maxNativeZoom&quot;: 19, &quot;maxZoom&quot;: 19, &quot;minZoom&quot;: 0, &quot;noWrap&quot;: false, &quot;opacity&quot;: 1, &quot;subdomains&quot;: &quot;abc&quot;, &quot;tms&quot;: false}\n",
              "            );\n",
              "        \n",
              "    \n",
              "            tile_layer_e5b12e19ff361bdd423f5e770c2371c3.addTo(map_064c24af0d95e03575f041d29603d3c2);\n",
              "        \n",
              "    \n",
              "\n",
              "        function geo_json_33c4812e37e711fb8ad785a83877a332_onEachFeature(feature, layer) {\n",
              "            layer.on({\n",
              "            });\n",
              "        };\n",
              "        var geo_json_33c4812e37e711fb8ad785a83877a332 = L.geoJson(null, {\n",
              "                onEachFeature: geo_json_33c4812e37e711fb8ad785a83877a332_onEachFeature,\n",
              "            \n",
              "        });\n",
              "\n",
              "        function geo_json_33c4812e37e711fb8ad785a83877a332_add (data) {\n",
              "            geo_json_33c4812e37e711fb8ad785a83877a332\n",
              "                .addData(data);\n",
              "        }\n",
              "            geo_json_33c4812e37e711fb8ad785a83877a332_add({&quot;geometry&quot;: {&quot;coordinates&quot;: [[[-80.70144653320312, -5.247546429206079], [-80.59295654296875, -5.247546429206079], [-80.59295654296875, -5.153521331735138], [-80.70144653320312, -5.153521331735138], [-80.70144653320312, -5.247546429206079]]], &quot;type&quot;: &quot;Polygon&quot;}, &quot;properties&quot;: {}, &quot;type&quot;: &quot;Feature&quot;});\n",
              "        geo_json_33c4812e37e711fb8ad785a83877a332.setStyle(function(feature) {return feature.properties.style;});\n",
              "\n",
              "        \n",
              "    \n",
              "            geo_json_33c4812e37e711fb8ad785a83877a332.addTo(map_064c24af0d95e03575f041d29603d3c2);\n",
              "        \n",
              "    \n",
              "            var layer_control_60585a66426e19be6ea24a67da23d653_layers = {\n",
              "                base_layers : {\n",
              "                    &quot;openstreetmap&quot; : tile_layer_e5b12e19ff361bdd423f5e770c2371c3,\n",
              "                },\n",
              "                overlays :  {\n",
              "                    &quot;area_de_estudio&quot; : geo_json_33c4812e37e711fb8ad785a83877a332,\n",
              "                },\n",
              "            };\n",
              "            let layer_control_60585a66426e19be6ea24a67da23d653 = L.control.layers(\n",
              "                layer_control_60585a66426e19be6ea24a67da23d653_layers.base_layers,\n",
              "                layer_control_60585a66426e19be6ea24a67da23d653_layers.overlays,\n",
              "                {&quot;autoZIndex&quot;: true, &quot;collapsed&quot;: true, &quot;position&quot;: &quot;topright&quot;}\n",
              "            ).addTo(map_064c24af0d95e03575f041d29603d3c2);\n",
              "\n",
              "        \n",
              "&lt;/script&gt;\n",
              "&lt;/html&gt;\" style=\"position:absolute;width:100%;height:100%;left:0;top:0;border:none !important;\" allowfullscreen webkitallowfullscreen mozallowfullscreen></iframe></div></div>"
            ]
          },
          "metadata": {},
          "execution_count": 5
        }
      ]
    },
    {
      "cell_type": "markdown",
      "metadata": {
        "id": "9f0bDEc585lp"
      },
      "source": [
        "####**4) Funcion para crear ee.ImageCollection**`\n",
        "En realidad este 512, deberia ser 2048 porque ese bit representa a 1x2^11\n",
        "\n",
        "<center>\n",
        "<img src=\"https://user-images.githubusercontent.com/16768318/72954392-1b403880-3d90-11ea-9956-15e607f00fcb.png\" align=\"right\" width = 60%/>\n",
        "</center>\n",
        "\n",
        "\n"
      ]
    },
    {
      "cell_type": "markdown",
      "source": [
        "En la siguiente función se utiliza el bitwiseand donde esta operador trabaja de la sgte forma:\n",
        "caso 1: 1 y 0 -> 0\n",
        "caso 2: 0 y 1 -> 0\n",
        "caso 3: 0 y 0 -> 0\n",
        "caso 4: 1 y 1 -> 1\n",
        "\n",
        "Es decir al performar esa operacion por ejemplo en un pixel que no tiene nube opaca:\n",
        "\n",
        "\n",
        "\n",
        "*   01000000000  (opaque_cloud)\n",
        "*   00001101001  (qa)\n",
        "*   resulta:\n",
        "*   00000000000\n",
        "\n",
        "\n",
        "Como este valor es igual a 0, al compararlo si es igual a 0 nos dará True (1). Estos valores son los que queremos utilizar en la máscara.\n",
        "\n",
        "Pero para el caso donde el pixel si sea una nube opaca:\n",
        "\n",
        "\n",
        "*   01000000000  (opaque_cloud)\n",
        "*   01001101001  (qa)\n",
        "*   resulta:\n",
        "*   01000000000\n",
        "\n",
        "\n",
        "Este valor no es igual a 0 sino a 1*2^10, asi que al hacerle el eq(0) (compararlo si es igual a 0) nos dará False que es 0. Estos valores no se enmascarán y de esa forma se limpiarán.\n",
        "\n",
        "\n",
        "De esa forma también se va a considerar las nubes cirrus donde finalmente se aplicará el .And\n",
        "\n",
        "\n",
        "\n",
        "\n",
        "\n",
        "*   sin nube opaca? sin nube cirrus?\n",
        "*   1             and   1        -> 1 ( sin nube opaca y sin nube cirrus)\n",
        "*   0             and   1        -> 0 (solo sin nube opaca, pero si hay cirrus)\n",
        "*   1             and   0        -> 0 (solo sin nube cirrus, pero si hay opaca\n",
        "*   0             and   0        -> 0 (con nube opaca y cirrus)\n",
        "\n",
        "\n",
        "\n",
        "\n",
        "\n"
      ],
      "metadata": {
        "id": "nFmT05Nq6DTZ"
      }
    },
    {
      "cell_type": "code",
      "metadata": {
        "id": "_lGxFyfw_vq0"
      },
      "source": [
        "def clean_s2(init_date, last_date, roi, cloud_per, calendar, bands):\n",
        "  def maskS2clouds(image):\n",
        "    qa = image.select('QA60')\n",
        "    opaque_cloud = 1 << 10\n",
        "    cirrus_cloud = 1 << 11\n",
        "    mask = qa.bitwiseAnd(opaque_cloud).eq(0)\\\n",
        "             .And(qa.bitwiseAnd(cirrus_cloud).eq(0))\n",
        "    clean_image = image.updateMask(mask).select(bands)\n",
        "    return clean_image.copyProperties(image, ['system:time_start']) #luego de utilizar una funcion map las propiedades de entrada de la imagen se pierden por eso se utiliza copy properties\n",
        "  ic_s2 = ee.ImageCollection(\"COPERNICUS/S2_SR\")\\\n",
        "               .filterBounds(roi)\\\n",
        "               .filterDate(init_date, last_date)\\\n",
        "               .filter(ee.Filter.calendarRange(calendar[0], calendar[1],'month'))\\\n",
        "               .filter(ee.Filter.lt('CLOUDY_PIXEL_PERCENTAGE', cloud_per))\\\n",
        "               .map(maskS2clouds)\n",
        "  return ic_s2"
      ],
      "execution_count": 6,
      "outputs": []
    },
    {
      "cell_type": "markdown",
      "metadata": {
        "id": "oUOTOph4kwuM"
      },
      "source": [
        "#### **5) Funcion para obtener las fechas en Google Earth Engine**"
      ]
    },
    {
      "cell_type": "code",
      "metadata": {
        "id": "Rc6m7S7pkxRu"
      },
      "source": [
        "from datetime import datetime as dt\n",
        "def get_dates(ic):\n",
        "  dates = ic.aggregate_array('system:time_start').getInfo()\n",
        "  anonym = lambda x: dt.utcfromtimestamp(x/1000).strftime('%Y-%m-%d %H:%M:%S') #Se divide /1000 porque las fechas en python son en segundos y en GEE en milisegundos\n",
        "  return list(map(anonym, dates))"
      ],
      "execution_count": 13,
      "outputs": []
    },
    {
      "cell_type": "markdown",
      "metadata": {
        "id": "st6L9iazkYXn"
      },
      "source": [
        "#### **6) Funcion para monitorear las descargar automaticamente**"
      ]
    },
    {
      "cell_type": "code",
      "metadata": {
        "id": "dDndTqIkkYwv"
      },
      "source": [
        "from ee.batch import Export\n",
        "from datetime import datetime\n",
        "import time\n",
        "\n",
        "def ee_monitoring(ee_task):\n",
        "  while ee_task.active():\n",
        "    print('Sondeo de la tarea (id: {}).'.format(ee_task.id))\n",
        "    time.sleep(5)"
      ],
      "execution_count": 15,
      "outputs": []
    },
    {
      "cell_type": "markdown",
      "metadata": {
        "id": "0OCkFoqd_wkB"
      },
      "source": [
        "#### **7) Funcion para descargar automaticamente**"
      ]
    },
    {
      "cell_type": "code",
      "metadata": {
        "id": "nzOe3xT3_zSP"
      },
      "source": [
        "def ee_download_images(ic, region, prefix, folder, scale):\n",
        "  nimages = ic.size().getInfo() #obteniendo el nro de imagenes\n",
        "  ic_list = ic.toList(nimages)  #pasando el imagecollection a una lista de imagenes(todas las imagenes en una lista)\n",
        "  for n_img in range(nimages):\n",
        "    to_download = ee.Image(ic_list.get(n_img))\n",
        "    timestamp = to_download.get('system:time_start').getInfo()\n",
        "    dt_object = datetime.fromtimestamp(timestamp/1000).strftime('%Y_%m_%d_%H_%M_%S')\n",
        "    task = Export.image.toDrive(\n",
        "      image=to_download,\n",
        "      description= prefix+dt_object,\n",
        "      folder=folder,\n",
        "      scale=scale,\n",
        "      region = region\n",
        "    )\n",
        "    print('Descargando: '+prefix+dt_object+'.tif')\n",
        "    task.start()\n",
        "    ee_monitoring(task)"
      ],
      "execution_count": 16,
      "outputs": []
    },
    {
      "cell_type": "markdown",
      "metadata": {
        "id": "Lka3bVU1mUjr"
      },
      "source": [
        "#### **8) Usa tus funciones para descargar masivamente los datos**"
      ]
    },
    {
      "cell_type": "code",
      "metadata": {
        "id": "lMZ_ikk5m7yb",
        "cellView": "form"
      },
      "source": [
        "#@title piura\n",
        "piura =  {\n",
        "  \"type\": \"FeatureCollection\",\n",
        "  \"features\": [\n",
        "    {\n",
        "      \"type\": \"Feature\",\n",
        "      \"properties\": {},\n",
        "      \"geometry\": {\n",
        "        \"type\": \"Polygon\",\n",
        "        \"coordinates\": [\n",
        "          [\n",
        "            [\n",
        "              -80.70144653320312,\n",
        "              -5.247546429206079\n",
        "            ],\n",
        "            [\n",
        "              -80.59295654296875,\n",
        "              -5.247546429206079\n",
        "            ],\n",
        "            [\n",
        "              -80.59295654296875,\n",
        "              -5.153521331735138\n",
        "            ],\n",
        "            [\n",
        "              -80.70144653320312,\n",
        "              -5.153521331735138\n",
        "            ],\n",
        "            [\n",
        "              -80.70144653320312,\n",
        "              -5.247546429206079\n",
        "            ]\n",
        "          ]\n",
        "        ]\n",
        "      }\n",
        "    }\n",
        "  ]\n",
        "}\n",
        "\n",
        "ee_piura = ee.Feature(piura['features'][0])\n",
        "centroide = ee_piura.geometry().centroid().getInfo()['coordinates']"
      ],
      "execution_count": 12,
      "outputs": []
    },
    {
      "cell_type": "code",
      "metadata": {
        "id": "YN_X2KAUmT87",
        "colab": {
          "base_uri": "https://localhost:8080/"
        },
        "outputId": "b9575b00-ff3d-4034-bcc7-e31f4fff53bd"
      },
      "source": [
        "s2 = clean_s2(init_date = '2019-01-01',\n",
        "              last_date = '2019-12-01',\n",
        "              roi = ee_piura.geometry(),\n",
        "              cloud_per = 1,\n",
        "              calendar =  [4,10],\n",
        "              bands =  ['B4','B3','B2'])"
      ],
      "execution_count": 7,
      "outputs": [
        {
          "output_type": "stream",
          "name": "stderr",
          "text": [
            "/usr/local/lib/python3.10/dist-packages/ee/deprecation.py:207: DeprecationWarning: \n",
            "\n",
            "Attention required for COPERNICUS/S2_SR! You are using a deprecated asset.\n",
            "To ensure continued functionality, please update it.\n",
            "Learn more: https://developers.google.com/earth-engine/datasets/catalog/COPERNICUS_S2_SR\n",
            "\n",
            "  warnings.warn(warning, category=DeprecationWarning)\n"
          ]
        }
      ]
    },
    {
      "cell_type": "code",
      "source": [
        "#Tenemos 14 imagenes pero si queremos saber las fechas de obtencion?\n",
        "s2.size().getInfo()"
      ],
      "metadata": {
        "id": "LzKCZxg-9Va9",
        "outputId": "1b070db7-8bc6-45fe-87b4-b4eea6d1deec",
        "colab": {
          "base_uri": "https://localhost:8080/"
        }
      },
      "execution_count": 11,
      "outputs": [
        {
          "output_type": "execute_result",
          "data": {
            "text/plain": [
              "14"
            ]
          },
          "metadata": {},
          "execution_count": 11
        }
      ]
    },
    {
      "cell_type": "code",
      "source": [
        "get_dates(s2) #Utilizando la funcion get dates"
      ],
      "metadata": {
        "id": "_t3JIbTd-kDh",
        "outputId": "1880c411-0fc0-4cdc-e5a0-1b4f2940b845",
        "colab": {
          "base_uri": "https://localhost:8080/"
        }
      },
      "execution_count": 14,
      "outputs": [
        {
          "output_type": "execute_result",
          "data": {
            "text/plain": [
              "['2019-04-10 15:54:38',\n",
              " '2019-04-12 15:44:46',\n",
              " '2019-04-30 15:54:40',\n",
              " '2019-06-09 15:54:39',\n",
              " '2019-07-11 15:44:50',\n",
              " '2019-07-16 15:44:46',\n",
              " '2019-07-21 15:44:50',\n",
              " '2019-07-31 15:44:49',\n",
              " '2019-08-13 15:54:43',\n",
              " '2019-08-28 15:54:37',\n",
              " '2019-09-07 15:54:35',\n",
              " '2019-09-12 15:54:40',\n",
              " '2019-09-14 15:44:40',\n",
              " '2019-10-14 15:44:44']"
            ]
          },
          "metadata": {},
          "execution_count": 14
        }
      ]
    },
    {
      "cell_type": "code",
      "metadata": {
        "id": "9uM2DbzzJHbK",
        "colab": {
          "base_uri": "https://localhost:8080/"
        },
        "outputId": "24962e40-b98b-45de-c3a1-2b2b9084e8d6"
      },
      "source": [
        "ee_download_images(ic = s2,\n",
        "                   region =  ee_piura.geometry(),\n",
        "                   prefix =  'PIURA_SENTINEL2_',\n",
        "                   folder = 'MASTERGIS_GEE2',\n",
        "                   scale =  10)"
      ],
      "execution_count": 18,
      "outputs": [
        {
          "output_type": "stream",
          "name": "stdout",
          "text": [
            "Descargando: PIURA_SENTINEL2_2019_04_10_15_54_38.tif\n",
            "Sondeo de la tarea (id: CMFYQ5X7B5ZRR3XPKTTWYBUA).\n",
            "Sondeo de la tarea (id: CMFYQ5X7B5ZRR3XPKTTWYBUA).\n",
            "Sondeo de la tarea (id: CMFYQ5X7B5ZRR3XPKTTWYBUA).\n",
            "Sondeo de la tarea (id: CMFYQ5X7B5ZRR3XPKTTWYBUA).\n",
            "Sondeo de la tarea (id: CMFYQ5X7B5ZRR3XPKTTWYBUA).\n",
            "Sondeo de la tarea (id: CMFYQ5X7B5ZRR3XPKTTWYBUA).\n",
            "Sondeo de la tarea (id: CMFYQ5X7B5ZRR3XPKTTWYBUA).\n",
            "Sondeo de la tarea (id: CMFYQ5X7B5ZRR3XPKTTWYBUA).\n",
            "Sondeo de la tarea (id: CMFYQ5X7B5ZRR3XPKTTWYBUA).\n",
            "Sondeo de la tarea (id: CMFYQ5X7B5ZRR3XPKTTWYBUA).\n",
            "Sondeo de la tarea (id: CMFYQ5X7B5ZRR3XPKTTWYBUA).\n",
            "Descargando: PIURA_SENTINEL2_2019_04_12_15_44_46.tif\n",
            "Sondeo de la tarea (id: RTA4UUTMPKD72PN7Y2Q4MCZZ).\n",
            "Sondeo de la tarea (id: RTA4UUTMPKD72PN7Y2Q4MCZZ).\n",
            "Sondeo de la tarea (id: RTA4UUTMPKD72PN7Y2Q4MCZZ).\n",
            "Sondeo de la tarea (id: RTA4UUTMPKD72PN7Y2Q4MCZZ).\n",
            "Sondeo de la tarea (id: RTA4UUTMPKD72PN7Y2Q4MCZZ).\n",
            "Sondeo de la tarea (id: RTA4UUTMPKD72PN7Y2Q4MCZZ).\n",
            "Sondeo de la tarea (id: RTA4UUTMPKD72PN7Y2Q4MCZZ).\n",
            "Sondeo de la tarea (id: RTA4UUTMPKD72PN7Y2Q4MCZZ).\n",
            "Sondeo de la tarea (id: RTA4UUTMPKD72PN7Y2Q4MCZZ).\n",
            "Sondeo de la tarea (id: RTA4UUTMPKD72PN7Y2Q4MCZZ).\n",
            "Sondeo de la tarea (id: RTA4UUTMPKD72PN7Y2Q4MCZZ).\n",
            "Sondeo de la tarea (id: RTA4UUTMPKD72PN7Y2Q4MCZZ).\n",
            "Descargando: PIURA_SENTINEL2_2019_04_30_15_54_40.tif\n",
            "Sondeo de la tarea (id: QKX66RYTU57G4PXKSMKSN4OP).\n",
            "Sondeo de la tarea (id: QKX66RYTU57G4PXKSMKSN4OP).\n",
            "Sondeo de la tarea (id: QKX66RYTU57G4PXKSMKSN4OP).\n",
            "Sondeo de la tarea (id: QKX66RYTU57G4PXKSMKSN4OP).\n",
            "Sondeo de la tarea (id: QKX66RYTU57G4PXKSMKSN4OP).\n",
            "Sondeo de la tarea (id: QKX66RYTU57G4PXKSMKSN4OP).\n",
            "Sondeo de la tarea (id: QKX66RYTU57G4PXKSMKSN4OP).\n",
            "Sondeo de la tarea (id: QKX66RYTU57G4PXKSMKSN4OP).\n",
            "Sondeo de la tarea (id: QKX66RYTU57G4PXKSMKSN4OP).\n",
            "Sondeo de la tarea (id: QKX66RYTU57G4PXKSMKSN4OP).\n",
            "Sondeo de la tarea (id: QKX66RYTU57G4PXKSMKSN4OP).\n",
            "Descargando: PIURA_SENTINEL2_2019_06_09_15_54_39.tif\n",
            "Sondeo de la tarea (id: RNB356NULV3M2V7ZSAUECCP2).\n",
            "Sondeo de la tarea (id: RNB356NULV3M2V7ZSAUECCP2).\n",
            "Sondeo de la tarea (id: RNB356NULV3M2V7ZSAUECCP2).\n",
            "Sondeo de la tarea (id: RNB356NULV3M2V7ZSAUECCP2).\n",
            "Sondeo de la tarea (id: RNB356NULV3M2V7ZSAUECCP2).\n",
            "Sondeo de la tarea (id: RNB356NULV3M2V7ZSAUECCP2).\n",
            "Sondeo de la tarea (id: RNB356NULV3M2V7ZSAUECCP2).\n",
            "Sondeo de la tarea (id: RNB356NULV3M2V7ZSAUECCP2).\n",
            "Sondeo de la tarea (id: RNB356NULV3M2V7ZSAUECCP2).\n",
            "Sondeo de la tarea (id: RNB356NULV3M2V7ZSAUECCP2).\n",
            "Sondeo de la tarea (id: RNB356NULV3M2V7ZSAUECCP2).\n",
            "Sondeo de la tarea (id: RNB356NULV3M2V7ZSAUECCP2).\n",
            "Sondeo de la tarea (id: RNB356NULV3M2V7ZSAUECCP2).\n",
            "Sondeo de la tarea (id: RNB356NULV3M2V7ZSAUECCP2).\n",
            "Sondeo de la tarea (id: RNB356NULV3M2V7ZSAUECCP2).\n",
            "Sondeo de la tarea (id: RNB356NULV3M2V7ZSAUECCP2).\n",
            "Descargando: PIURA_SENTINEL2_2019_07_11_15_44_50.tif\n",
            "Sondeo de la tarea (id: RLOM7YKVVJAGFSIERVD4HXGK).\n",
            "Sondeo de la tarea (id: RLOM7YKVVJAGFSIERVD4HXGK).\n",
            "Sondeo de la tarea (id: RLOM7YKVVJAGFSIERVD4HXGK).\n",
            "Sondeo de la tarea (id: RLOM7YKVVJAGFSIERVD4HXGK).\n",
            "Sondeo de la tarea (id: RLOM7YKVVJAGFSIERVD4HXGK).\n",
            "Sondeo de la tarea (id: RLOM7YKVVJAGFSIERVD4HXGK).\n",
            "Sondeo de la tarea (id: RLOM7YKVVJAGFSIERVD4HXGK).\n",
            "Sondeo de la tarea (id: RLOM7YKVVJAGFSIERVD4HXGK).\n",
            "Sondeo de la tarea (id: RLOM7YKVVJAGFSIERVD4HXGK).\n",
            "Sondeo de la tarea (id: RLOM7YKVVJAGFSIERVD4HXGK).\n",
            "Sondeo de la tarea (id: RLOM7YKVVJAGFSIERVD4HXGK).\n",
            "Descargando: PIURA_SENTINEL2_2019_07_16_15_44_46.tif\n",
            "Sondeo de la tarea (id: W7Z65VAE4FPACDNELCRYPNNM).\n",
            "Sondeo de la tarea (id: W7Z65VAE4FPACDNELCRYPNNM).\n",
            "Sondeo de la tarea (id: W7Z65VAE4FPACDNELCRYPNNM).\n",
            "Sondeo de la tarea (id: W7Z65VAE4FPACDNELCRYPNNM).\n",
            "Sondeo de la tarea (id: W7Z65VAE4FPACDNELCRYPNNM).\n",
            "Sondeo de la tarea (id: W7Z65VAE4FPACDNELCRYPNNM).\n",
            "Sondeo de la tarea (id: W7Z65VAE4FPACDNELCRYPNNM).\n",
            "Sondeo de la tarea (id: W7Z65VAE4FPACDNELCRYPNNM).\n",
            "Sondeo de la tarea (id: W7Z65VAE4FPACDNELCRYPNNM).\n",
            "Descargando: PIURA_SENTINEL2_2019_07_21_15_44_50.tif\n",
            "Sondeo de la tarea (id: BFI2YG6E23EFMUUAFMTSAQP5).\n",
            "Sondeo de la tarea (id: BFI2YG6E23EFMUUAFMTSAQP5).\n",
            "Sondeo de la tarea (id: BFI2YG6E23EFMUUAFMTSAQP5).\n",
            "Sondeo de la tarea (id: BFI2YG6E23EFMUUAFMTSAQP5).\n",
            "Sondeo de la tarea (id: BFI2YG6E23EFMUUAFMTSAQP5).\n",
            "Sondeo de la tarea (id: BFI2YG6E23EFMUUAFMTSAQP5).\n",
            "Sondeo de la tarea (id: BFI2YG6E23EFMUUAFMTSAQP5).\n",
            "Sondeo de la tarea (id: BFI2YG6E23EFMUUAFMTSAQP5).\n",
            "Sondeo de la tarea (id: BFI2YG6E23EFMUUAFMTSAQP5).\n",
            "Sondeo de la tarea (id: BFI2YG6E23EFMUUAFMTSAQP5).\n",
            "Sondeo de la tarea (id: BFI2YG6E23EFMUUAFMTSAQP5).\n",
            "Descargando: PIURA_SENTINEL2_2019_07_31_15_44_49.tif\n",
            "Sondeo de la tarea (id: EY3TL7HOW45OKZV6CFOP5RXD).\n",
            "Sondeo de la tarea (id: EY3TL7HOW45OKZV6CFOP5RXD).\n",
            "Sondeo de la tarea (id: EY3TL7HOW45OKZV6CFOP5RXD).\n",
            "Sondeo de la tarea (id: EY3TL7HOW45OKZV6CFOP5RXD).\n",
            "Sondeo de la tarea (id: EY3TL7HOW45OKZV6CFOP5RXD).\n",
            "Sondeo de la tarea (id: EY3TL7HOW45OKZV6CFOP5RXD).\n",
            "Sondeo de la tarea (id: EY3TL7HOW45OKZV6CFOP5RXD).\n",
            "Sondeo de la tarea (id: EY3TL7HOW45OKZV6CFOP5RXD).\n",
            "Sondeo de la tarea (id: EY3TL7HOW45OKZV6CFOP5RXD).\n",
            "Sondeo de la tarea (id: EY3TL7HOW45OKZV6CFOP5RXD).\n",
            "Sondeo de la tarea (id: EY3TL7HOW45OKZV6CFOP5RXD).\n",
            "Descargando: PIURA_SENTINEL2_2019_08_13_15_54_43.tif\n",
            "Sondeo de la tarea (id: TWSGODVXMQGDTQXYZ7AMJN5J).\n",
            "Sondeo de la tarea (id: TWSGODVXMQGDTQXYZ7AMJN5J).\n",
            "Sondeo de la tarea (id: TWSGODVXMQGDTQXYZ7AMJN5J).\n",
            "Sondeo de la tarea (id: TWSGODVXMQGDTQXYZ7AMJN5J).\n",
            "Sondeo de la tarea (id: TWSGODVXMQGDTQXYZ7AMJN5J).\n",
            "Sondeo de la tarea (id: TWSGODVXMQGDTQXYZ7AMJN5J).\n",
            "Sondeo de la tarea (id: TWSGODVXMQGDTQXYZ7AMJN5J).\n",
            "Sondeo de la tarea (id: TWSGODVXMQGDTQXYZ7AMJN5J).\n",
            "Sondeo de la tarea (id: TWSGODVXMQGDTQXYZ7AMJN5J).\n",
            "Sondeo de la tarea (id: TWSGODVXMQGDTQXYZ7AMJN5J).\n",
            "Sondeo de la tarea (id: TWSGODVXMQGDTQXYZ7AMJN5J).\n",
            "Descargando: PIURA_SENTINEL2_2019_08_28_15_54_37.tif\n",
            "Sondeo de la tarea (id: 4Y4GQPEDHTSZDTESSD3RGSDA).\n",
            "Sondeo de la tarea (id: 4Y4GQPEDHTSZDTESSD3RGSDA).\n",
            "Sondeo de la tarea (id: 4Y4GQPEDHTSZDTESSD3RGSDA).\n",
            "Sondeo de la tarea (id: 4Y4GQPEDHTSZDTESSD3RGSDA).\n",
            "Sondeo de la tarea (id: 4Y4GQPEDHTSZDTESSD3RGSDA).\n",
            "Sondeo de la tarea (id: 4Y4GQPEDHTSZDTESSD3RGSDA).\n",
            "Sondeo de la tarea (id: 4Y4GQPEDHTSZDTESSD3RGSDA).\n",
            "Sondeo de la tarea (id: 4Y4GQPEDHTSZDTESSD3RGSDA).\n",
            "Sondeo de la tarea (id: 4Y4GQPEDHTSZDTESSD3RGSDA).\n",
            "Sondeo de la tarea (id: 4Y4GQPEDHTSZDTESSD3RGSDA).\n",
            "Sondeo de la tarea (id: 4Y4GQPEDHTSZDTESSD3RGSDA).\n",
            "Sondeo de la tarea (id: 4Y4GQPEDHTSZDTESSD3RGSDA).\n",
            "Descargando: PIURA_SENTINEL2_2019_09_07_15_54_35.tif\n",
            "Sondeo de la tarea (id: UIDIGAA5CF7HWSIXPVUXBGDX).\n",
            "Sondeo de la tarea (id: UIDIGAA5CF7HWSIXPVUXBGDX).\n",
            "Sondeo de la tarea (id: UIDIGAA5CF7HWSIXPVUXBGDX).\n",
            "Sondeo de la tarea (id: UIDIGAA5CF7HWSIXPVUXBGDX).\n",
            "Sondeo de la tarea (id: UIDIGAA5CF7HWSIXPVUXBGDX).\n",
            "Sondeo de la tarea (id: UIDIGAA5CF7HWSIXPVUXBGDX).\n",
            "Sondeo de la tarea (id: UIDIGAA5CF7HWSIXPVUXBGDX).\n",
            "Sondeo de la tarea (id: UIDIGAA5CF7HWSIXPVUXBGDX).\n",
            "Sondeo de la tarea (id: UIDIGAA5CF7HWSIXPVUXBGDX).\n",
            "Sondeo de la tarea (id: UIDIGAA5CF7HWSIXPVUXBGDX).\n",
            "Descargando: PIURA_SENTINEL2_2019_09_12_15_54_40.tif\n",
            "Sondeo de la tarea (id: QVFHLFUZMGDQNFUYUN63B3ED).\n",
            "Sondeo de la tarea (id: QVFHLFUZMGDQNFUYUN63B3ED).\n",
            "Sondeo de la tarea (id: QVFHLFUZMGDQNFUYUN63B3ED).\n",
            "Sondeo de la tarea (id: QVFHLFUZMGDQNFUYUN63B3ED).\n",
            "Sondeo de la tarea (id: QVFHLFUZMGDQNFUYUN63B3ED).\n",
            "Sondeo de la tarea (id: QVFHLFUZMGDQNFUYUN63B3ED).\n",
            "Sondeo de la tarea (id: QVFHLFUZMGDQNFUYUN63B3ED).\n",
            "Sondeo de la tarea (id: QVFHLFUZMGDQNFUYUN63B3ED).\n",
            "Sondeo de la tarea (id: QVFHLFUZMGDQNFUYUN63B3ED).\n",
            "Sondeo de la tarea (id: QVFHLFUZMGDQNFUYUN63B3ED).\n",
            "Sondeo de la tarea (id: QVFHLFUZMGDQNFUYUN63B3ED).\n",
            "Sondeo de la tarea (id: QVFHLFUZMGDQNFUYUN63B3ED).\n",
            "Descargando: PIURA_SENTINEL2_2019_09_14_15_44_40.tif\n",
            "Sondeo de la tarea (id: D7GIH2W6BK4XSCEXQQIBNF27).\n",
            "Sondeo de la tarea (id: D7GIH2W6BK4XSCEXQQIBNF27).\n",
            "Sondeo de la tarea (id: D7GIH2W6BK4XSCEXQQIBNF27).\n",
            "Sondeo de la tarea (id: D7GIH2W6BK4XSCEXQQIBNF27).\n",
            "Sondeo de la tarea (id: D7GIH2W6BK4XSCEXQQIBNF27).\n",
            "Sondeo de la tarea (id: D7GIH2W6BK4XSCEXQQIBNF27).\n",
            "Sondeo de la tarea (id: D7GIH2W6BK4XSCEXQQIBNF27).\n",
            "Sondeo de la tarea (id: D7GIH2W6BK4XSCEXQQIBNF27).\n",
            "Sondeo de la tarea (id: D7GIH2W6BK4XSCEXQQIBNF27).\n",
            "Sondeo de la tarea (id: D7GIH2W6BK4XSCEXQQIBNF27).\n",
            "Sondeo de la tarea (id: D7GIH2W6BK4XSCEXQQIBNF27).\n",
            "Sondeo de la tarea (id: D7GIH2W6BK4XSCEXQQIBNF27).\n",
            "Sondeo de la tarea (id: D7GIH2W6BK4XSCEXQQIBNF27).\n",
            "Descargando: PIURA_SENTINEL2_2019_10_14_15_44_44.tif\n",
            "Sondeo de la tarea (id: EC7XWKJGJ6X74THPTY2YPA7C).\n",
            "Sondeo de la tarea (id: EC7XWKJGJ6X74THPTY2YPA7C).\n",
            "Sondeo de la tarea (id: EC7XWKJGJ6X74THPTY2YPA7C).\n",
            "Sondeo de la tarea (id: EC7XWKJGJ6X74THPTY2YPA7C).\n",
            "Sondeo de la tarea (id: EC7XWKJGJ6X74THPTY2YPA7C).\n",
            "Sondeo de la tarea (id: EC7XWKJGJ6X74THPTY2YPA7C).\n",
            "Sondeo de la tarea (id: EC7XWKJGJ6X74THPTY2YPA7C).\n",
            "Sondeo de la tarea (id: EC7XWKJGJ6X74THPTY2YPA7C).\n",
            "Sondeo de la tarea (id: EC7XWKJGJ6X74THPTY2YPA7C).\n",
            "Sondeo de la tarea (id: EC7XWKJGJ6X74THPTY2YPA7C).\n",
            "Sondeo de la tarea (id: EC7XWKJGJ6X74THPTY2YPA7C).\n",
            "Sondeo de la tarea (id: EC7XWKJGJ6X74THPTY2YPA7C).\n"
          ]
        }
      ]
    },
    {
      "cell_type": "markdown",
      "metadata": {
        "id": "73S40nn1atJJ"
      },
      "source": [
        "### **¿Dudas con este Jupyer-Notebook?**\n",
        "\n",
        "Estaremos felices de ayudarte!. Create una cuenta Github si es que no la tienes, luego detalla tu problema ampliamente en: https://github.com/csaybar/EarthEngineMasterGIS/issues\n",
        "\n",
        "**Tienes que dar clic en el boton verde!**\n",
        "\n",
        "<center>\n",
        "<img src=\"https://user-images.githubusercontent.com/16768318/79680748-d5511000-81d8-11ea-9f89-44bd010adf69.png\" width = 70%>\n",
        "</center>"
      ]
    }
  ]
}