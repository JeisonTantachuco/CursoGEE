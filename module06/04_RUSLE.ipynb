{
  "nbformat": 4,
  "nbformat_minor": 0,
  "metadata": {
    "colab": {
      "name": "04_RUSLE.ipynb",
      "provenance": []
    },
    "kernelspec": {
      "name": "python3",
      "display_name": "Python 3"
    }
  },
  "cells": [
    {
      "cell_type": "markdown",
      "metadata": {
        "id": "-Zl2SU5CqJsJ"
      },
      "source": [
        "<!--COURSE_INFORMATION-->\n",
        "<img align=\"left\" style=\"padding-right:10px;\" src=\"https://user-images.githubusercontent.com/16768318/73986808-75b3ca00-4936-11ea-90f1-3a6c352766ce.png\" width=10% >\n",
        "<img align=\"right\" style=\"padding-left:10px;\" src=\"https://user-images.githubusercontent.com/16768318/73986811-764c6080-4936-11ea-9653-a3eacc47caed.png\" width=10% >\n",
        "\n",
        "**Bienvenidos!** Este *colab notebook* es parte del curso [**Introduccion a Google Earth Engine con Python**](https://github.com/csaybar/EarthEngineMasterGIS) desarrollado por el equipo [**MasterGIS**](https://www.mastergis.com/). Obten mas informacion del curso en este [**enlace**](https://www.mastergis.com/product/google-earth-engine/). El contenido del curso esta disponible en [**GitHub**](https://github.com/csaybar/EarthEngineMasterGIS) bajo licencia [**MIT**](https://opensource.org/licenses/MIT)."
      ]
    },
    {
      "cell_type": "markdown",
      "metadata": {
        "id": "4HfdNOuz37oi"
      },
      "source": [
        "### **Ejercicio N°01: RUSLE a Nivel Mundial**\n",
        "  <img src=\"https://user-images.githubusercontent.com/16768318/73690808-1604b700-46c9-11ea-8bdd-43e0e490a0a3.gif\" align=\"right\" width = 60%/>\n",
        "\n",
        "Genere una funcion para calcular la Ecuacion Universal de Perdida de Suelo (RUSLE) para cualquier parte del mundo. La funcion debe tener los siguientes parametros.**rusle(roi, prefix, folder, scale)**\n",
        "\n",
        "http://cybertesis.unmsm.edu.pe/handle/cybertesis/10078\n"
      ]
    },
    {
      "cell_type": "code",
      "metadata": {
        "id": "tGfUCO7Vgv2Q"
      },
      "source": [
        "#@title Credenciales Google Earth Engine\n",
        "import ee\n",
        "ee.Authenticate()\n",
        "ee.Initialize(project = 'ee-jtantaroman')"
      ],
      "execution_count": 2,
      "outputs": []
    },
    {
      "cell_type": "code",
      "metadata": {
        "id": "EiCTu4NB4yAk",
        "cellView": "form"
      },
      "source": [
        "#@title mapdisplay: Crea mapas interactivos usando folium\n",
        "import folium\n",
        "def mapdisplay(center, dicc, Tiles=\"OpensTreetMap\",zoom_start=10):\n",
        "    '''\n",
        "    :param center: Center of the map (Latitude and Longitude).\n",
        "    :param dicc: Earth Engine Geometries or Tiles dictionary\n",
        "    :param Tiles: Mapbox Bright,Mapbox Control Room,Stamen Terrain,Stamen Toner,stamenwatercolor,cartodbpositron.\n",
        "    :zoom_start: Initial zoom level for the map.\n",
        "    :return: A folium.Map object.\n",
        "    '''\n",
        "    center = center[::-1]\n",
        "    mapViz = folium.Map(location=center,tiles=Tiles, zoom_start=zoom_start)\n",
        "    for k,v in dicc.items():\n",
        "      if ee.image.Image in [type(x) for x in v.values()]:\n",
        "        folium.TileLayer(\n",
        "            tiles = v[\"tile_fetcher\"].url_format,\n",
        "            attr  = 'Google Earth Engine',\n",
        "            overlay =True,\n",
        "            name  = k\n",
        "          ).add_to(mapViz)\n",
        "      else:\n",
        "        folium.GeoJson(\n",
        "        data = v,\n",
        "        name = k\n",
        "          ).add_to(mapViz)\n",
        "    mapViz.add_child(folium.LayerControl())\n",
        "    return mapViz"
      ],
      "execution_count": 3,
      "outputs": []
    },
    {
      "cell_type": "markdown",
      "metadata": {
        "id": "PKlMu7elDd-I"
      },
      "source": [
        "### **1) Factor R**\n",
        "\n",
        "El **factor R** es el factor de erosividad de la lluvia. Este factor indica el potencial erosivo de la lluvia que afecta en el proceso de erosion del suelo. Haciendo una analogia, se podria decir que una lluvia fuerte un dia al año puede producir suficiente energia para erosionar el suelo que varias lluvias de mediana intensidad a lo largo de un ano.\n",
        "\n",
        "El factor erosividad (R) es definido como la sumatoria anual de los promedios de los valores individuales del indice de tormenta de erosion (EI30). Donde E es la energia cinetica por unidad de area e I30 es la maxima intensidad en 30 minutos de precipitacion. Esto se puede definir en la siguiente ecuacion:\n",
        "\n",
        "<img src=\"https://user-images.githubusercontent.com/16768318/73694650-67fd0b00-46d0-11ea-87f6-4ed9501cf964.png\"  width = 60%>\n",
        "\n",
        "Por tanto, la energia de la tormenta (EI o R) indica el volumen de lluvia y escurrimiento, pero una larga y suave lluvia puede tener el mismo valor de E que una lluvia de corta y mas alta intensidad. (Mannaerts, 1999). La energia se calcula a partir de la formula de Brown y Foster:\n",
        "\n",
        "<img src=\"https://user-images.githubusercontent.com/16768318/73694782-b3171e00-46d0-11ea-94fe-94f3f57941c5.png\"  width = 40%>\n",
        "\n",
        "A partir de la ecuación anterior, el calculo del factor R es un proceso complejo y requiere datos horarios o diarios de varios anos. Por lo que se han desarrollado diferentes ecuaciones que adaptan la erosividad local mediante una formula que solo requiera una data mensual o anual de precipitacion. A continuacion, se muestran algunas de las formulas adaptadas para una precipitacion media anual.\n",
        "\n",
        "<img src=\"https://user-images.githubusercontent.com/16768318/73694993-228d0d80-46d1-11ea-8bc4-9962963850b7.png\">\n",
        "\n",
        "\n",
        "Si bien es cierto, se usa ampliamente una precipitacion media anual para estimar el **factor R** debido a la escasez de informacion, para este ejemplo se ha optado por  utilizar la formula desarrollada por **(Wischmeier & Smith, 1978)** debido a que se cuenta con una serie historica de informacion de precipitacion mensual. La formula es:\n",
        "\n",
        "\n",
        "<img src=\"https://user-images.githubusercontent.com/16768318/73695488-2b321380-46d2-11ea-8033-0063f27698d8.png\" width = 50%>"
      ]
    },
    {
      "cell_type": "code",
      "metadata": {
        "id": "eImkby9KHNuf"
      },
      "source": [
        "# Monthly precipitation in mm at 1 km resolution:\n",
        "# https://zenodo.org/record/3256275#.XjibuDJKiM8\n",
        "clim_rainmap = ee.Image(\"OpenLandMap/CLM/CLM_PRECIPITATION_SM2RAIN_M/v01\")\n",
        "#Este producto tiene los datos mensuales en cada una de sus bandas por eso se hara un reduce y se sumarizara para obtener el anual\n",
        "#Se aplica el reduce en la imagen de muchas bandas (todos los datos mes a mes) para obtener una sola banda\n",
        "year = clim_rainmap.reduce(ee.Reducer.sum())\n",
        "#R calculado mensualmente para todos los meses\n",
        "R_monthly = ee.Image(10).pow(ee.Image(1.5).multiply(clim_rainmap.pow(2).divide(year).log10().subtract(-0.08188))).multiply(1.735)\n",
        "#Sumamos todos los R para tener un R anual, esta es la erosividad por la lluvia\n",
        "factorR = R_monthly.reduce(ee.Reducer.sum())"
      ],
      "execution_count": null,
      "outputs": []
    },
    {
      "cell_type": "code",
      "source": [
        "R_monthly.bandNames().getInfo()"
      ],
      "metadata": {
        "id": "yeIO7d3mRJbo",
        "outputId": "afe859a3-b073-4762-dc21-f83df11aa3d0",
        "colab": {
          "base_uri": "https://localhost:8080/"
        }
      },
      "execution_count": null,
      "outputs": [
        {
          "output_type": "execute_result",
          "data": {
            "text/plain": [
              "['jan',\n",
              " 'feb',\n",
              " 'mar',\n",
              " 'apr',\n",
              " 'may',\n",
              " 'jun',\n",
              " 'jul',\n",
              " 'aug',\n",
              " 'sep',\n",
              " 'oct',\n",
              " 'nov',\n",
              " 'dec']"
            ]
          },
          "metadata": {},
          "execution_count": 5
        }
      ]
    },
    {
      "cell_type": "code",
      "metadata": {
        "id": "erho-vrbLtYi",
        "colab": {
          "base_uri": "https://localhost:8080/",
          "height": 419
        },
        "outputId": "e0935fd2-a8c9-49c7-a9d6-b9531d71b106"
      },
      "source": [
        "#Viendo la erosividad por la lluvia\n",
        "center_coordinate = [0,0]\n",
        "palette_rain = [\"#450155\", \"#3B528C\", \"#21918D\", \"#5DCA63\",\"#FFE925\"]\n",
        "mapdisplay(center_coordinate, {'Factor_R':factorR.getMapId({'min':0,'max':6000,'palette':palette_rain})},zoom_start=3)"
      ],
      "execution_count": null,
      "outputs": [
        {
          "output_type": "execute_result",
          "data": {
            "text/plain": [
              "<folium.folium.Map at 0x7b8ffe84e680>"
            ],
            "text/html": [
              "<div style=\"width:100%;\"><div style=\"position:relative;width:100%;height:0;padding-bottom:60%;\"><span style=\"color:#565656\">Make this Notebook Trusted to load map: File -> Trust Notebook</span><iframe srcdoc=\"&lt;!DOCTYPE html&gt;\n",
              "&lt;html&gt;\n",
              "&lt;head&gt;\n",
              "    \n",
              "    &lt;meta http-equiv=&quot;content-type&quot; content=&quot;text/html; charset=UTF-8&quot; /&gt;\n",
              "    \n",
              "        &lt;script&gt;\n",
              "            L_NO_TOUCH = false;\n",
              "            L_DISABLE_3D = false;\n",
              "        &lt;/script&gt;\n",
              "    \n",
              "    &lt;style&gt;html, body {width: 100%;height: 100%;margin: 0;padding: 0;}&lt;/style&gt;\n",
              "    &lt;style&gt;#map {position:absolute;top:0;bottom:0;right:0;left:0;}&lt;/style&gt;\n",
              "    &lt;script src=&quot;https://cdn.jsdelivr.net/npm/leaflet@1.9.3/dist/leaflet.js&quot;&gt;&lt;/script&gt;\n",
              "    &lt;script src=&quot;https://code.jquery.com/jquery-3.7.1.min.js&quot;&gt;&lt;/script&gt;\n",
              "    &lt;script src=&quot;https://cdn.jsdelivr.net/npm/bootstrap@5.2.2/dist/js/bootstrap.bundle.min.js&quot;&gt;&lt;/script&gt;\n",
              "    &lt;script src=&quot;https://cdnjs.cloudflare.com/ajax/libs/Leaflet.awesome-markers/2.0.2/leaflet.awesome-markers.js&quot;&gt;&lt;/script&gt;\n",
              "    &lt;link rel=&quot;stylesheet&quot; href=&quot;https://cdn.jsdelivr.net/npm/leaflet@1.9.3/dist/leaflet.css&quot;/&gt;\n",
              "    &lt;link rel=&quot;stylesheet&quot; href=&quot;https://cdn.jsdelivr.net/npm/bootstrap@5.2.2/dist/css/bootstrap.min.css&quot;/&gt;\n",
              "    &lt;link rel=&quot;stylesheet&quot; href=&quot;https://netdna.bootstrapcdn.com/bootstrap/3.0.0/css/bootstrap-glyphicons.css&quot;/&gt;\n",
              "    &lt;link rel=&quot;stylesheet&quot; href=&quot;https://cdn.jsdelivr.net/npm/@fortawesome/fontawesome-free@6.2.0/css/all.min.css&quot;/&gt;\n",
              "    &lt;link rel=&quot;stylesheet&quot; href=&quot;https://cdnjs.cloudflare.com/ajax/libs/Leaflet.awesome-markers/2.0.2/leaflet.awesome-markers.css&quot;/&gt;\n",
              "    &lt;link rel=&quot;stylesheet&quot; href=&quot;https://cdn.jsdelivr.net/gh/python-visualization/folium/folium/templates/leaflet.awesome.rotate.min.css&quot;/&gt;\n",
              "    \n",
              "            &lt;meta name=&quot;viewport&quot; content=&quot;width=device-width,\n",
              "                initial-scale=1.0, maximum-scale=1.0, user-scalable=no&quot; /&gt;\n",
              "            &lt;style&gt;\n",
              "                #map_60c7647f0cab5954848ebcdfc464c1a7 {\n",
              "                    position: relative;\n",
              "                    width: 100.0%;\n",
              "                    height: 100.0%;\n",
              "                    left: 0.0%;\n",
              "                    top: 0.0%;\n",
              "                }\n",
              "                .leaflet-container { font-size: 1rem; }\n",
              "            &lt;/style&gt;\n",
              "        \n",
              "&lt;/head&gt;\n",
              "&lt;body&gt;\n",
              "    \n",
              "    \n",
              "            &lt;div class=&quot;folium-map&quot; id=&quot;map_60c7647f0cab5954848ebcdfc464c1a7&quot; &gt;&lt;/div&gt;\n",
              "        \n",
              "&lt;/body&gt;\n",
              "&lt;script&gt;\n",
              "    \n",
              "    \n",
              "            var map_60c7647f0cab5954848ebcdfc464c1a7 = L.map(\n",
              "                &quot;map_60c7647f0cab5954848ebcdfc464c1a7&quot;,\n",
              "                {\n",
              "                    center: [0.0, 0.0],\n",
              "                    crs: L.CRS.EPSG3857,\n",
              "                    zoom: 3,\n",
              "                    zoomControl: true,\n",
              "                    preferCanvas: false,\n",
              "                }\n",
              "            );\n",
              "\n",
              "            \n",
              "\n",
              "        \n",
              "    \n",
              "            var tile_layer_53b09f2f5a0ad0891dfe8520e6727c0b = L.tileLayer(\n",
              "                &quot;https://tile.openstreetmap.org/{z}/{x}/{y}.png&quot;,\n",
              "                {&quot;attribution&quot;: &quot;\\u0026copy; \\u003ca href=\\&quot;https://www.openstreetmap.org/copyright\\&quot;\\u003eOpenStreetMap\\u003c/a\\u003e contributors&quot;, &quot;detectRetina&quot;: false, &quot;maxNativeZoom&quot;: 19, &quot;maxZoom&quot;: 19, &quot;minZoom&quot;: 0, &quot;noWrap&quot;: false, &quot;opacity&quot;: 1, &quot;subdomains&quot;: &quot;abc&quot;, &quot;tms&quot;: false}\n",
              "            );\n",
              "        \n",
              "    \n",
              "            tile_layer_53b09f2f5a0ad0891dfe8520e6727c0b.addTo(map_60c7647f0cab5954848ebcdfc464c1a7);\n",
              "        \n",
              "    \n",
              "            var tile_layer_ce1c773d2302b83cbd248d7fec341e70 = L.tileLayer(\n",
              "                &quot;https://earthengine.googleapis.com/v1/projects/ee-jtantaroman/maps/8340ad527336bd18bcb003d6d1a24190-23fd99001c3cddcdf39e27e363b3f9d3/tiles/{z}/{x}/{y}&quot;,\n",
              "                {&quot;attribution&quot;: &quot;Google Earth Engine&quot;, &quot;detectRetina&quot;: false, &quot;maxZoom&quot;: 18, &quot;minZoom&quot;: 0, &quot;noWrap&quot;: false, &quot;opacity&quot;: 1, &quot;subdomains&quot;: &quot;abc&quot;, &quot;tms&quot;: false}\n",
              "            );\n",
              "        \n",
              "    \n",
              "            tile_layer_ce1c773d2302b83cbd248d7fec341e70.addTo(map_60c7647f0cab5954848ebcdfc464c1a7);\n",
              "        \n",
              "    \n",
              "            var layer_control_8f0d794e2492389df44e4c68ced88cf2_layers = {\n",
              "                base_layers : {\n",
              "                    &quot;openstreetmap&quot; : tile_layer_53b09f2f5a0ad0891dfe8520e6727c0b,\n",
              "                },\n",
              "                overlays :  {\n",
              "                    &quot;Factor_R&quot; : tile_layer_ce1c773d2302b83cbd248d7fec341e70,\n",
              "                },\n",
              "            };\n",
              "            let layer_control_8f0d794e2492389df44e4c68ced88cf2 = L.control.layers(\n",
              "                layer_control_8f0d794e2492389df44e4c68ced88cf2_layers.base_layers,\n",
              "                layer_control_8f0d794e2492389df44e4c68ced88cf2_layers.overlays,\n",
              "                {&quot;autoZIndex&quot;: true, &quot;collapsed&quot;: true, &quot;position&quot;: &quot;topright&quot;}\n",
              "            ).addTo(map_60c7647f0cab5954848ebcdfc464c1a7);\n",
              "\n",
              "        \n",
              "&lt;/script&gt;\n",
              "&lt;/html&gt;\" style=\"position:absolute;width:100%;height:100%;left:0;top:0;border:none !important;\" allowfullscreen webkitallowfullscreen mozallowfullscreen></iframe></div></div>"
            ]
          },
          "metadata": {},
          "execution_count": 4
        }
      ]
    },
    {
      "cell_type": "markdown",
      "metadata": {
        "id": "TtGuoiN15n0R"
      },
      "source": [
        "### **2) Factor K**\n",
        "\n",
        "A diferencia del factor R, el factor K muestra qué tan susceptible es el suelo a la erosion hidrica, esto es determinado por las propiedades fisicas y quimicas del suelo, que dependen de las caracteristicas de estos. Para determinar el factor K, existen una gran cantidad de formulas empiricas, adecuadas para diversos lugares del mundo y donde intervienen caracteristicas del suelo como porcentaje de arena, limo, arcilla; estructura del suelo; contenido de carbono organico o materia orgánica; entre otros.\n",
        "\n",
        "El factor K puede variar en una escala de 0 a 1, donde 0 indica suelos con la menor susceptibilidad a la erosion y 1 indica suelos altamente susceptibles a la erosion hidrica del suelo; cabe mencionar que esta escala fue hecha para el sistema de unidades americanas, y adaptandose al sistema internacional, la escala varia a normalmente entre 0 y 0.07.\n",
        "\n",
        "A continuacion, se muestran algunas ecuaciones para la estimación de este factor:\n",
        "\n",
        "<img src=\"https://user-images.githubusercontent.com/16768318/73704444-039b7500-46eb-11ea-9ccd-b7850bb17911.png\" width = 50%>\n",
        "<img src=\"https://user-images.githubusercontent.com/16768318/73704442-039b7500-46eb-11ea-870c-a557ca50b777.png\" width = 50%>\n",
        "<img src=\"https://user-images.githubusercontent.com/16768318/73704443-039b7500-46eb-11ea-9469-104f04983dfd.png\" width = 50%>\n",
        "\n",
        "\n",
        "Para este ejemplo se ha optado por  utilizar la formula desarrollada por **Williams (1975)**.\n",
        "\n"
      ]
    },
    {
      "cell_type": "code",
      "metadata": {
        "id": "c2f4KFJY5rwQ"
      },
      "source": [
        "# Cargamos toda la informacion necesaria para estimar el factor K\n",
        "sand = ee.Image(\"OpenLandMap/SOL/SOL_CLAY-WFRACTION_USDA-3A1A1A_M/v02\").select('b0')\n",
        "silt = ee.Image('users/aschwantes/SLTPPT_I').divide(100)\n",
        "clay = ee.Image(\"OpenLandMap/SOL/SOL_SAND-WFRACTION_USDA-3A1A1A_M/v02\").select('b0')\n",
        "morg = ee.Image(\"OpenLandMap/SOL/SOL_ORGANIC-CARBON_USDA-6A1C_M/v02\").select('b0').multiply(0.58)\n",
        "sn1 = sand.expression('1 - b0 / 100', {'b0': sand})\n",
        "orgcar = ee.Image(\"OpenLandMap/SOL/SOL_ORGANIC-CARBON_USDA-6A1C_M/v02\").select('b0')"
      ],
      "execution_count": null,
      "outputs": []
    },
    {
      "cell_type": "code",
      "metadata": {
        "id": "uRHRfFcO3Q1O"
      },
      "source": [
        "#Juntando todas las imagenes en una sola\n",
        "soil = ee.Image([sand, silt, clay, morg, sn1, orgcar]).rename(['sand', 'silt', 'clay', 'morg', 'sn1', 'orgcar'] )"
      ],
      "execution_count": null,
      "outputs": []
    },
    {
      "cell_type": "code",
      "metadata": {
        "id": "lB1wV7ECyKFh"
      },
      "source": [
        "factorK = soil.expression(\n",
        "  '(0.2 + 0.3 * exp(-0.0256 * SAND * (1 - (SILT / 100)))) * (1 - (0.25 * CLAY / (CLAY + exp(3.72 - 2.95 * CLAY)))) * (1 - (0.7 * SN1 / (SN1 + exp(-5.51 + 22.9 * SN1))))',\n",
        "  {\n",
        "    'SAND': soil.select('sand'),\n",
        "    'SILT': soil.select('silt'),\n",
        "    'CLAY': soil.select('clay'),\n",
        "    'MORG': soil.select('morg'),\n",
        "    'SN1':  soil.select('sn1'),\n",
        "    'CORG': soil.select('orgcar')\n",
        "  });"
      ],
      "execution_count": null,
      "outputs": []
    },
    {
      "cell_type": "code",
      "metadata": {
        "id": "RzP4Ta2h7c8_",
        "colab": {
          "base_uri": "https://localhost:8080/",
          "height": 419
        },
        "outputId": "343db72d-efd4-4619-9b00-9038c19ca21c"
      },
      "source": [
        "center_coordinate = [0,0]\n",
        "palette_k = palette = [\n",
        "    'FFFFFF', 'CE7E45', 'DF923D', 'F1B555', 'FCD163', '99B718', '74A901',\n",
        "    '66A000', '529400', '3E8601', '207401', '056201', '004C00', '023B01',\n",
        "    '012E01', '011D01', '011301'\n",
        "  ]\n",
        "viz_param_k = {'min': 0.0, 'max': 0.5, 'palette': palette_k};\n",
        "mapdisplay(center_coordinate, {'Factor_K':factorK.getMapId(viz_param_k)},zoom_start=3)"
      ],
      "execution_count": null,
      "outputs": [
        {
          "output_type": "execute_result",
          "data": {
            "text/plain": [
              "<folium.folium.Map at 0x7b8ffeaa78e0>"
            ],
            "text/html": [
              "<div style=\"width:100%;\"><div style=\"position:relative;width:100%;height:0;padding-bottom:60%;\"><span style=\"color:#565656\">Make this Notebook Trusted to load map: File -> Trust Notebook</span><iframe srcdoc=\"&lt;!DOCTYPE html&gt;\n",
              "&lt;html&gt;\n",
              "&lt;head&gt;\n",
              "    \n",
              "    &lt;meta http-equiv=&quot;content-type&quot; content=&quot;text/html; charset=UTF-8&quot; /&gt;\n",
              "    \n",
              "        &lt;script&gt;\n",
              "            L_NO_TOUCH = false;\n",
              "            L_DISABLE_3D = false;\n",
              "        &lt;/script&gt;\n",
              "    \n",
              "    &lt;style&gt;html, body {width: 100%;height: 100%;margin: 0;padding: 0;}&lt;/style&gt;\n",
              "    &lt;style&gt;#map {position:absolute;top:0;bottom:0;right:0;left:0;}&lt;/style&gt;\n",
              "    &lt;script src=&quot;https://cdn.jsdelivr.net/npm/leaflet@1.9.3/dist/leaflet.js&quot;&gt;&lt;/script&gt;\n",
              "    &lt;script src=&quot;https://code.jquery.com/jquery-3.7.1.min.js&quot;&gt;&lt;/script&gt;\n",
              "    &lt;script src=&quot;https://cdn.jsdelivr.net/npm/bootstrap@5.2.2/dist/js/bootstrap.bundle.min.js&quot;&gt;&lt;/script&gt;\n",
              "    &lt;script src=&quot;https://cdnjs.cloudflare.com/ajax/libs/Leaflet.awesome-markers/2.0.2/leaflet.awesome-markers.js&quot;&gt;&lt;/script&gt;\n",
              "    &lt;link rel=&quot;stylesheet&quot; href=&quot;https://cdn.jsdelivr.net/npm/leaflet@1.9.3/dist/leaflet.css&quot;/&gt;\n",
              "    &lt;link rel=&quot;stylesheet&quot; href=&quot;https://cdn.jsdelivr.net/npm/bootstrap@5.2.2/dist/css/bootstrap.min.css&quot;/&gt;\n",
              "    &lt;link rel=&quot;stylesheet&quot; href=&quot;https://netdna.bootstrapcdn.com/bootstrap/3.0.0/css/bootstrap-glyphicons.css&quot;/&gt;\n",
              "    &lt;link rel=&quot;stylesheet&quot; href=&quot;https://cdn.jsdelivr.net/npm/@fortawesome/fontawesome-free@6.2.0/css/all.min.css&quot;/&gt;\n",
              "    &lt;link rel=&quot;stylesheet&quot; href=&quot;https://cdnjs.cloudflare.com/ajax/libs/Leaflet.awesome-markers/2.0.2/leaflet.awesome-markers.css&quot;/&gt;\n",
              "    &lt;link rel=&quot;stylesheet&quot; href=&quot;https://cdn.jsdelivr.net/gh/python-visualization/folium/folium/templates/leaflet.awesome.rotate.min.css&quot;/&gt;\n",
              "    \n",
              "            &lt;meta name=&quot;viewport&quot; content=&quot;width=device-width,\n",
              "                initial-scale=1.0, maximum-scale=1.0, user-scalable=no&quot; /&gt;\n",
              "            &lt;style&gt;\n",
              "                #map_42a3b139091e63878772d59babfc4d9e {\n",
              "                    position: relative;\n",
              "                    width: 100.0%;\n",
              "                    height: 100.0%;\n",
              "                    left: 0.0%;\n",
              "                    top: 0.0%;\n",
              "                }\n",
              "                .leaflet-container { font-size: 1rem; }\n",
              "            &lt;/style&gt;\n",
              "        \n",
              "&lt;/head&gt;\n",
              "&lt;body&gt;\n",
              "    \n",
              "    \n",
              "            &lt;div class=&quot;folium-map&quot; id=&quot;map_42a3b139091e63878772d59babfc4d9e&quot; &gt;&lt;/div&gt;\n",
              "        \n",
              "&lt;/body&gt;\n",
              "&lt;script&gt;\n",
              "    \n",
              "    \n",
              "            var map_42a3b139091e63878772d59babfc4d9e = L.map(\n",
              "                &quot;map_42a3b139091e63878772d59babfc4d9e&quot;,\n",
              "                {\n",
              "                    center: [0.0, 0.0],\n",
              "                    crs: L.CRS.EPSG3857,\n",
              "                    zoom: 3,\n",
              "                    zoomControl: true,\n",
              "                    preferCanvas: false,\n",
              "                }\n",
              "            );\n",
              "\n",
              "            \n",
              "\n",
              "        \n",
              "    \n",
              "            var tile_layer_fcea2d73a3c62a505a43d69c8f819d1c = L.tileLayer(\n",
              "                &quot;https://tile.openstreetmap.org/{z}/{x}/{y}.png&quot;,\n",
              "                {&quot;attribution&quot;: &quot;\\u0026copy; \\u003ca href=\\&quot;https://www.openstreetmap.org/copyright\\&quot;\\u003eOpenStreetMap\\u003c/a\\u003e contributors&quot;, &quot;detectRetina&quot;: false, &quot;maxNativeZoom&quot;: 19, &quot;maxZoom&quot;: 19, &quot;minZoom&quot;: 0, &quot;noWrap&quot;: false, &quot;opacity&quot;: 1, &quot;subdomains&quot;: &quot;abc&quot;, &quot;tms&quot;: false}\n",
              "            );\n",
              "        \n",
              "    \n",
              "            tile_layer_fcea2d73a3c62a505a43d69c8f819d1c.addTo(map_42a3b139091e63878772d59babfc4d9e);\n",
              "        \n",
              "    \n",
              "            var tile_layer_d172e643499f625f4f31f50608a8c51a = L.tileLayer(\n",
              "                &quot;https://earthengine.googleapis.com/v1/projects/ee-jtantaroman/maps/88cc271966bc024af5e4d35e9d6b87fc-71f4aeae3054a6c8909dffbd5e6684f5/tiles/{z}/{x}/{y}&quot;,\n",
              "                {&quot;attribution&quot;: &quot;Google Earth Engine&quot;, &quot;detectRetina&quot;: false, &quot;maxZoom&quot;: 18, &quot;minZoom&quot;: 0, &quot;noWrap&quot;: false, &quot;opacity&quot;: 1, &quot;subdomains&quot;: &quot;abc&quot;, &quot;tms&quot;: false}\n",
              "            );\n",
              "        \n",
              "    \n",
              "            tile_layer_d172e643499f625f4f31f50608a8c51a.addTo(map_42a3b139091e63878772d59babfc4d9e);\n",
              "        \n",
              "    \n",
              "            var layer_control_17d5fe8261cf477cf0ce84fb1de0444c_layers = {\n",
              "                base_layers : {\n",
              "                    &quot;openstreetmap&quot; : tile_layer_fcea2d73a3c62a505a43d69c8f819d1c,\n",
              "                },\n",
              "                overlays :  {\n",
              "                    &quot;Factor_K&quot; : tile_layer_d172e643499f625f4f31f50608a8c51a,\n",
              "                },\n",
              "            };\n",
              "            let layer_control_17d5fe8261cf477cf0ce84fb1de0444c = L.control.layers(\n",
              "                layer_control_17d5fe8261cf477cf0ce84fb1de0444c_layers.base_layers,\n",
              "                layer_control_17d5fe8261cf477cf0ce84fb1de0444c_layers.overlays,\n",
              "                {&quot;autoZIndex&quot;: true, &quot;collapsed&quot;: true, &quot;position&quot;: &quot;topright&quot;}\n",
              "            ).addTo(map_42a3b139091e63878772d59babfc4d9e);\n",
              "\n",
              "        \n",
              "&lt;/script&gt;\n",
              "&lt;/html&gt;\" style=\"position:absolute;width:100%;height:100%;left:0;top:0;border:none !important;\" allowfullscreen webkitallowfullscreen mozallowfullscreen></iframe></div></div>"
            ]
          },
          "metadata": {},
          "execution_count": 9
        }
      ]
    },
    {
      "cell_type": "markdown",
      "metadata": {
        "id": "Kknq-v_33f68"
      },
      "source": [
        "### **3) Factor LS**\n",
        "\n",
        "El factor LS expresa el efecto de la topografia local sobre la tasa de erosion del suelo, combinando los efectos de la longitud de la pendiente (L) y la inclinación de la pendiente (S). A medida que mayor sea la longitud de la pendiente, mayor sera la cantidad de escorrentia acumulada y de la misma forma, mientras mas pronunciada sea la pendiente de la superficie, mayor sera la velocidad de la escorrentia, que influye directamente en la erosion. Existen diversas metodologias basadas en SIG para calcular estos factores, como se pueden mostrar a continuación:\n",
        "\n",
        "<img src=\"https://user-images.githubusercontent.com/16768318/73706484-7ce99680-46f0-11ea-8e0e-5fbb4a00731d.png\" width = 50%>"
      ]
    },
    {
      "cell_type": "code",
      "metadata": {
        "id": "Gtu7sQ2h9bur"
      },
      "source": [
        "facc = ee.Image(\"WWF/HydroSHEDS/15ACC\")\n",
        "dem = ee.Image(\"WWF/HydroSHEDS/03CONDEM\")\n",
        "slope = ee.Terrain.slope(dem)\n",
        "\n",
        "ls_factors = ee.Image([facc, slope]).rename(['facc','slope'])"
      ],
      "execution_count": null,
      "outputs": []
    },
    {
      "cell_type": "code",
      "metadata": {
        "id": "Yv4kdbmZFcHf"
      },
      "source": [
        "factorLS = ls_factors.expression(\n",
        "  '(FACC*270/22.13)**0.4*(SLOPE/0.0896)**1.3',\n",
        "  {\n",
        "    'FACC': ls_factors.select('facc'),\n",
        "    'SLOPE': ls_factors.select('slope')\n",
        "  });"
      ],
      "execution_count": null,
      "outputs": []
    },
    {
      "cell_type": "code",
      "metadata": {
        "id": "2c98Zn_1GaOn",
        "colab": {
          "base_uri": "https://localhost:8080/",
          "height": 419
        },
        "outputId": "d2e9be02-caa5-4601-d88f-522034687645"
      },
      "source": [
        "center_coordinate = [0,0]\n",
        "palette_ls = palette = [\n",
        "    'FFFFFF', 'CE7E45', 'DF923D', 'F1B555', 'FCD163', '99B718', '74A901',\n",
        "    '66A000', '529400', '3E8601', '207401', '056201', '004C00', '023B01',\n",
        "    '012E01', '011D01', '011301'\n",
        "  ]\n",
        "viz_param_k = {'min': 0, 'max': 600, 'palette': palette_ls};\n",
        "mapdisplay(center_coordinate, {'Factor_LS':factorLS.getMapId(viz_param_k)},zoom_start=3)"
      ],
      "execution_count": null,
      "outputs": [
        {
          "output_type": "execute_result",
          "data": {
            "text/plain": [
              "<folium.folium.Map at 0x7b8ffe8d8340>"
            ],
            "text/html": [
              "<div style=\"width:100%;\"><div style=\"position:relative;width:100%;height:0;padding-bottom:60%;\"><span style=\"color:#565656\">Make this Notebook Trusted to load map: File -> Trust Notebook</span><iframe srcdoc=\"&lt;!DOCTYPE html&gt;\n",
              "&lt;html&gt;\n",
              "&lt;head&gt;\n",
              "    \n",
              "    &lt;meta http-equiv=&quot;content-type&quot; content=&quot;text/html; charset=UTF-8&quot; /&gt;\n",
              "    \n",
              "        &lt;script&gt;\n",
              "            L_NO_TOUCH = false;\n",
              "            L_DISABLE_3D = false;\n",
              "        &lt;/script&gt;\n",
              "    \n",
              "    &lt;style&gt;html, body {width: 100%;height: 100%;margin: 0;padding: 0;}&lt;/style&gt;\n",
              "    &lt;style&gt;#map {position:absolute;top:0;bottom:0;right:0;left:0;}&lt;/style&gt;\n",
              "    &lt;script src=&quot;https://cdn.jsdelivr.net/npm/leaflet@1.9.3/dist/leaflet.js&quot;&gt;&lt;/script&gt;\n",
              "    &lt;script src=&quot;https://code.jquery.com/jquery-3.7.1.min.js&quot;&gt;&lt;/script&gt;\n",
              "    &lt;script src=&quot;https://cdn.jsdelivr.net/npm/bootstrap@5.2.2/dist/js/bootstrap.bundle.min.js&quot;&gt;&lt;/script&gt;\n",
              "    &lt;script src=&quot;https://cdnjs.cloudflare.com/ajax/libs/Leaflet.awesome-markers/2.0.2/leaflet.awesome-markers.js&quot;&gt;&lt;/script&gt;\n",
              "    &lt;link rel=&quot;stylesheet&quot; href=&quot;https://cdn.jsdelivr.net/npm/leaflet@1.9.3/dist/leaflet.css&quot;/&gt;\n",
              "    &lt;link rel=&quot;stylesheet&quot; href=&quot;https://cdn.jsdelivr.net/npm/bootstrap@5.2.2/dist/css/bootstrap.min.css&quot;/&gt;\n",
              "    &lt;link rel=&quot;stylesheet&quot; href=&quot;https://netdna.bootstrapcdn.com/bootstrap/3.0.0/css/bootstrap-glyphicons.css&quot;/&gt;\n",
              "    &lt;link rel=&quot;stylesheet&quot; href=&quot;https://cdn.jsdelivr.net/npm/@fortawesome/fontawesome-free@6.2.0/css/all.min.css&quot;/&gt;\n",
              "    &lt;link rel=&quot;stylesheet&quot; href=&quot;https://cdnjs.cloudflare.com/ajax/libs/Leaflet.awesome-markers/2.0.2/leaflet.awesome-markers.css&quot;/&gt;\n",
              "    &lt;link rel=&quot;stylesheet&quot; href=&quot;https://cdn.jsdelivr.net/gh/python-visualization/folium/folium/templates/leaflet.awesome.rotate.min.css&quot;/&gt;\n",
              "    \n",
              "            &lt;meta name=&quot;viewport&quot; content=&quot;width=device-width,\n",
              "                initial-scale=1.0, maximum-scale=1.0, user-scalable=no&quot; /&gt;\n",
              "            &lt;style&gt;\n",
              "                #map_dcf297614a47200bcdfbf7d42e4b8d98 {\n",
              "                    position: relative;\n",
              "                    width: 100.0%;\n",
              "                    height: 100.0%;\n",
              "                    left: 0.0%;\n",
              "                    top: 0.0%;\n",
              "                }\n",
              "                .leaflet-container { font-size: 1rem; }\n",
              "            &lt;/style&gt;\n",
              "        \n",
              "&lt;/head&gt;\n",
              "&lt;body&gt;\n",
              "    \n",
              "    \n",
              "            &lt;div class=&quot;folium-map&quot; id=&quot;map_dcf297614a47200bcdfbf7d42e4b8d98&quot; &gt;&lt;/div&gt;\n",
              "        \n",
              "&lt;/body&gt;\n",
              "&lt;script&gt;\n",
              "    \n",
              "    \n",
              "            var map_dcf297614a47200bcdfbf7d42e4b8d98 = L.map(\n",
              "                &quot;map_dcf297614a47200bcdfbf7d42e4b8d98&quot;,\n",
              "                {\n",
              "                    center: [0.0, 0.0],\n",
              "                    crs: L.CRS.EPSG3857,\n",
              "                    zoom: 3,\n",
              "                    zoomControl: true,\n",
              "                    preferCanvas: false,\n",
              "                }\n",
              "            );\n",
              "\n",
              "            \n",
              "\n",
              "        \n",
              "    \n",
              "            var tile_layer_a24f39808f546736f1b943424dbd59bb = L.tileLayer(\n",
              "                &quot;https://tile.openstreetmap.org/{z}/{x}/{y}.png&quot;,\n",
              "                {&quot;attribution&quot;: &quot;\\u0026copy; \\u003ca href=\\&quot;https://www.openstreetmap.org/copyright\\&quot;\\u003eOpenStreetMap\\u003c/a\\u003e contributors&quot;, &quot;detectRetina&quot;: false, &quot;maxNativeZoom&quot;: 19, &quot;maxZoom&quot;: 19, &quot;minZoom&quot;: 0, &quot;noWrap&quot;: false, &quot;opacity&quot;: 1, &quot;subdomains&quot;: &quot;abc&quot;, &quot;tms&quot;: false}\n",
              "            );\n",
              "        \n",
              "    \n",
              "            tile_layer_a24f39808f546736f1b943424dbd59bb.addTo(map_dcf297614a47200bcdfbf7d42e4b8d98);\n",
              "        \n",
              "    \n",
              "            var tile_layer_8f441f5fec7c22e95ff4875391912e8b = L.tileLayer(\n",
              "                &quot;https://earthengine.googleapis.com/v1/projects/ee-jtantaroman/maps/803a21010a2773339f0febef81730b30-9c2ed0b53b08989a9a94d75c548632da/tiles/{z}/{x}/{y}&quot;,\n",
              "                {&quot;attribution&quot;: &quot;Google Earth Engine&quot;, &quot;detectRetina&quot;: false, &quot;maxZoom&quot;: 18, &quot;minZoom&quot;: 0, &quot;noWrap&quot;: false, &quot;opacity&quot;: 1, &quot;subdomains&quot;: &quot;abc&quot;, &quot;tms&quot;: false}\n",
              "            );\n",
              "        \n",
              "    \n",
              "            tile_layer_8f441f5fec7c22e95ff4875391912e8b.addTo(map_dcf297614a47200bcdfbf7d42e4b8d98);\n",
              "        \n",
              "    \n",
              "            var layer_control_8a0b3d191ec5311bcc2a49f44486a0d4_layers = {\n",
              "                base_layers : {\n",
              "                    &quot;openstreetmap&quot; : tile_layer_a24f39808f546736f1b943424dbd59bb,\n",
              "                },\n",
              "                overlays :  {\n",
              "                    &quot;Factor_LS&quot; : tile_layer_8f441f5fec7c22e95ff4875391912e8b,\n",
              "                },\n",
              "            };\n",
              "            let layer_control_8a0b3d191ec5311bcc2a49f44486a0d4 = L.control.layers(\n",
              "                layer_control_8a0b3d191ec5311bcc2a49f44486a0d4_layers.base_layers,\n",
              "                layer_control_8a0b3d191ec5311bcc2a49f44486a0d4_layers.overlays,\n",
              "                {&quot;autoZIndex&quot;: true, &quot;collapsed&quot;: true, &quot;position&quot;: &quot;topright&quot;}\n",
              "            ).addTo(map_dcf297614a47200bcdfbf7d42e4b8d98);\n",
              "\n",
              "        \n",
              "&lt;/script&gt;\n",
              "&lt;/html&gt;\" style=\"position:absolute;width:100%;height:100%;left:0;top:0;border:none !important;\" allowfullscreen webkitallowfullscreen mozallowfullscreen></iframe></div></div>"
            ]
          },
          "metadata": {},
          "execution_count": 13
        }
      ]
    },
    {
      "cell_type": "markdown",
      "metadata": {
        "id": "HV4zlFetUH0I"
      },
      "source": [
        "### **4) Factor C**\n",
        "\n",
        "El factor C se utiliza para determinar la eficacia relativa de los sistemas de manejo del suelo y de los cultivos en terminos de prevencion o reduccion de la perdida de suelo. Este factor indica como la cobertura vegetal y los cultivos afectaran la perdida media anual de suelos y como se distribuira el potencial de perdida de suelos en el tiempo (Rahaman, 2015).\n",
        "\n",
        "El valor de C depende del tipo de vegetacion, la etapa de crecimiento y el porcentaje de cobertura. Valores mas altos del factor C indican que no hay efecto de cobertura y perdida de suelo, mientras que el menor valor de C significa un efecto de cobertura muy fuerte que no produce erosion.\n",
        "\n"
      ]
    },
    {
      "cell_type": "code",
      "metadata": {
        "id": "ZdTMn78VUj7b",
        "outputId": "4ce9161f-f3e1-4b5a-9331-01a14af51eaa",
        "colab": {
          "base_uri": "https://localhost:8080/"
        }
      },
      "source": [
        "ndvi_median = ee.ImageCollection(\"MODIS/006/MOD13A2\").median().multiply(0.0001).select('NDVI')"
      ],
      "execution_count": null,
      "outputs": [
        {
          "output_type": "stream",
          "name": "stderr",
          "text": [
            "/usr/local/lib/python3.10/dist-packages/ee/deprecation.py:207: DeprecationWarning: \n",
            "\n",
            "Attention required for MODIS/006/MOD13A2! You are using a deprecated asset.\n",
            "To ensure continued functionality, please update it.\n",
            "Learn more: https://developers.google.com/earth-engine/datasets/catalog/MODIS_006_MOD13A2\n",
            "\n",
            "  warnings.warn(warning, category=DeprecationWarning)\n"
          ]
        }
      ]
    },
    {
      "cell_type": "code",
      "metadata": {
        "id": "CEgvwdUzVNV0",
        "colab": {
          "base_uri": "https://localhost:8080/",
          "height": 419
        },
        "outputId": "c6fa7d35-c6c7-4895-8107-5f679c519815"
      },
      "source": [
        "geo_ndvi = [\n",
        "    'FFFFFF', 'CE7E45', 'DF923D', 'F1B555', 'FCD163', '99B718', '74A901',\n",
        "    '66A000', '529400', '3E8601', '207401', '056201', '004C00', '023B01',\n",
        "    '012E01', '011D01', '011301'\n",
        "]\n",
        "l8_viz_params = {'palette':geo_ndvi,'min':0,'max': 0.8}\n",
        "mapdisplay([0,0],{'composite_median':ndvi_median.getMapId(l8_viz_params)},zoom_start=3)"
      ],
      "execution_count": null,
      "outputs": [
        {
          "output_type": "execute_result",
          "data": {
            "text/plain": [
              "<folium.folium.Map at 0x7b8ffe8eb310>"
            ],
            "text/html": [
              "<div style=\"width:100%;\"><div style=\"position:relative;width:100%;height:0;padding-bottom:60%;\"><span style=\"color:#565656\">Make this Notebook Trusted to load map: File -> Trust Notebook</span><iframe srcdoc=\"&lt;!DOCTYPE html&gt;\n",
              "&lt;html&gt;\n",
              "&lt;head&gt;\n",
              "    \n",
              "    &lt;meta http-equiv=&quot;content-type&quot; content=&quot;text/html; charset=UTF-8&quot; /&gt;\n",
              "    \n",
              "        &lt;script&gt;\n",
              "            L_NO_TOUCH = false;\n",
              "            L_DISABLE_3D = false;\n",
              "        &lt;/script&gt;\n",
              "    \n",
              "    &lt;style&gt;html, body {width: 100%;height: 100%;margin: 0;padding: 0;}&lt;/style&gt;\n",
              "    &lt;style&gt;#map {position:absolute;top:0;bottom:0;right:0;left:0;}&lt;/style&gt;\n",
              "    &lt;script src=&quot;https://cdn.jsdelivr.net/npm/leaflet@1.9.3/dist/leaflet.js&quot;&gt;&lt;/script&gt;\n",
              "    &lt;script src=&quot;https://code.jquery.com/jquery-3.7.1.min.js&quot;&gt;&lt;/script&gt;\n",
              "    &lt;script src=&quot;https://cdn.jsdelivr.net/npm/bootstrap@5.2.2/dist/js/bootstrap.bundle.min.js&quot;&gt;&lt;/script&gt;\n",
              "    &lt;script src=&quot;https://cdnjs.cloudflare.com/ajax/libs/Leaflet.awesome-markers/2.0.2/leaflet.awesome-markers.js&quot;&gt;&lt;/script&gt;\n",
              "    &lt;link rel=&quot;stylesheet&quot; href=&quot;https://cdn.jsdelivr.net/npm/leaflet@1.9.3/dist/leaflet.css&quot;/&gt;\n",
              "    &lt;link rel=&quot;stylesheet&quot; href=&quot;https://cdn.jsdelivr.net/npm/bootstrap@5.2.2/dist/css/bootstrap.min.css&quot;/&gt;\n",
              "    &lt;link rel=&quot;stylesheet&quot; href=&quot;https://netdna.bootstrapcdn.com/bootstrap/3.0.0/css/bootstrap-glyphicons.css&quot;/&gt;\n",
              "    &lt;link rel=&quot;stylesheet&quot; href=&quot;https://cdn.jsdelivr.net/npm/@fortawesome/fontawesome-free@6.2.0/css/all.min.css&quot;/&gt;\n",
              "    &lt;link rel=&quot;stylesheet&quot; href=&quot;https://cdnjs.cloudflare.com/ajax/libs/Leaflet.awesome-markers/2.0.2/leaflet.awesome-markers.css&quot;/&gt;\n",
              "    &lt;link rel=&quot;stylesheet&quot; href=&quot;https://cdn.jsdelivr.net/gh/python-visualization/folium/folium/templates/leaflet.awesome.rotate.min.css&quot;/&gt;\n",
              "    \n",
              "            &lt;meta name=&quot;viewport&quot; content=&quot;width=device-width,\n",
              "                initial-scale=1.0, maximum-scale=1.0, user-scalable=no&quot; /&gt;\n",
              "            &lt;style&gt;\n",
              "                #map_da4bb5453969e15f184a0e2fa4f6e22a {\n",
              "                    position: relative;\n",
              "                    width: 100.0%;\n",
              "                    height: 100.0%;\n",
              "                    left: 0.0%;\n",
              "                    top: 0.0%;\n",
              "                }\n",
              "                .leaflet-container { font-size: 1rem; }\n",
              "            &lt;/style&gt;\n",
              "        \n",
              "&lt;/head&gt;\n",
              "&lt;body&gt;\n",
              "    \n",
              "    \n",
              "            &lt;div class=&quot;folium-map&quot; id=&quot;map_da4bb5453969e15f184a0e2fa4f6e22a&quot; &gt;&lt;/div&gt;\n",
              "        \n",
              "&lt;/body&gt;\n",
              "&lt;script&gt;\n",
              "    \n",
              "    \n",
              "            var map_da4bb5453969e15f184a0e2fa4f6e22a = L.map(\n",
              "                &quot;map_da4bb5453969e15f184a0e2fa4f6e22a&quot;,\n",
              "                {\n",
              "                    center: [0.0, 0.0],\n",
              "                    crs: L.CRS.EPSG3857,\n",
              "                    zoom: 3,\n",
              "                    zoomControl: true,\n",
              "                    preferCanvas: false,\n",
              "                }\n",
              "            );\n",
              "\n",
              "            \n",
              "\n",
              "        \n",
              "    \n",
              "            var tile_layer_19fe3b489c463b89964c5017506b6726 = L.tileLayer(\n",
              "                &quot;https://tile.openstreetmap.org/{z}/{x}/{y}.png&quot;,\n",
              "                {&quot;attribution&quot;: &quot;\\u0026copy; \\u003ca href=\\&quot;https://www.openstreetmap.org/copyright\\&quot;\\u003eOpenStreetMap\\u003c/a\\u003e contributors&quot;, &quot;detectRetina&quot;: false, &quot;maxNativeZoom&quot;: 19, &quot;maxZoom&quot;: 19, &quot;minZoom&quot;: 0, &quot;noWrap&quot;: false, &quot;opacity&quot;: 1, &quot;subdomains&quot;: &quot;abc&quot;, &quot;tms&quot;: false}\n",
              "            );\n",
              "        \n",
              "    \n",
              "            tile_layer_19fe3b489c463b89964c5017506b6726.addTo(map_da4bb5453969e15f184a0e2fa4f6e22a);\n",
              "        \n",
              "    \n",
              "            var tile_layer_ac0c2640ea5cd4975d223fc475480ec5 = L.tileLayer(\n",
              "                &quot;https://earthengine.googleapis.com/v1/projects/ee-jtantaroman/maps/244a82d61fc4099f1566f2e892c96bdc-0ce72859ca7e185ebb91d81140d52bf7/tiles/{z}/{x}/{y}&quot;,\n",
              "                {&quot;attribution&quot;: &quot;Google Earth Engine&quot;, &quot;detectRetina&quot;: false, &quot;maxZoom&quot;: 18, &quot;minZoom&quot;: 0, &quot;noWrap&quot;: false, &quot;opacity&quot;: 1, &quot;subdomains&quot;: &quot;abc&quot;, &quot;tms&quot;: false}\n",
              "            );\n",
              "        \n",
              "    \n",
              "            tile_layer_ac0c2640ea5cd4975d223fc475480ec5.addTo(map_da4bb5453969e15f184a0e2fa4f6e22a);\n",
              "        \n",
              "    \n",
              "            var layer_control_169812951dc21259f6705911fc42b110_layers = {\n",
              "                base_layers : {\n",
              "                    &quot;openstreetmap&quot; : tile_layer_19fe3b489c463b89964c5017506b6726,\n",
              "                },\n",
              "                overlays :  {\n",
              "                    &quot;composite_median&quot; : tile_layer_ac0c2640ea5cd4975d223fc475480ec5,\n",
              "                },\n",
              "            };\n",
              "            let layer_control_169812951dc21259f6705911fc42b110 = L.control.layers(\n",
              "                layer_control_169812951dc21259f6705911fc42b110_layers.base_layers,\n",
              "                layer_control_169812951dc21259f6705911fc42b110_layers.overlays,\n",
              "                {&quot;autoZIndex&quot;: true, &quot;collapsed&quot;: true, &quot;position&quot;: &quot;topright&quot;}\n",
              "            ).addTo(map_da4bb5453969e15f184a0e2fa4f6e22a);\n",
              "\n",
              "        \n",
              "&lt;/script&gt;\n",
              "&lt;/html&gt;\" style=\"position:absolute;width:100%;height:100%;left:0;top:0;border:none !important;\" allowfullscreen webkitallowfullscreen mozallowfullscreen></iframe></div></div>"
            ]
          },
          "metadata": {},
          "execution_count": 15
        }
      ]
    },
    {
      "cell_type": "markdown",
      "metadata": {
        "id": "OcMByLHSYSae"
      },
      "source": [
        "Otra forma de hallar este factor C, es haciendo una comparación entre el NDVI a partir de las fórmulas Van de Kniff (1999) [C1] y su adaptacion para paises asiaticos, que tambien se adecuan a la realidad de la costa peruana de Lin (2002) [C2]. Por ultimo se tiene la ecuacion formulada por De Jong(1994) [C3] adaptado a estudios de degradacion de suelos en un entorno mediterraneo.\n",
        "<center>\n",
        "<img src=\"https://user-images.githubusercontent.com/16768318/73713048-e6bf6b80-4703-11ea-80b1-1940e6b55707.png\" width = 50%>\n",
        "</center>"
      ]
    },
    {
      "cell_type": "code",
      "metadata": {
        "id": "bPj-eXMNZLfG"
      },
      "source": [
        "factorC = ee.Image(0.805).multiply(ndvi_median).multiply(-1).add(0.431)"
      ],
      "execution_count": null,
      "outputs": []
    },
    {
      "cell_type": "markdown",
      "metadata": {
        "id": "Bp5B172zZJLy"
      },
      "source": [
        "### **5) Calculo de la Erosion**\n",
        "\n",
        "**A = R\\*K\\*LS\\*C\\*1**\n",
        "\n",
        "  <img src=\"https://user-images.githubusercontent.com/16768318/73690808-1604b700-46c9-11ea-8bdd-43e0e490a0a3.gif\">"
      ]
    },
    {
      "cell_type": "code",
      "metadata": {
        "id": "YDsavOPYYMWx"
      },
      "source": [
        "erosion = factorC.multiply(factorR).multiply(factorLS).multiply(factorK)"
      ],
      "execution_count": null,
      "outputs": []
    },
    {
      "cell_type": "code",
      "metadata": {
        "id": "iWXlpv_bbHRw",
        "colab": {
          "base_uri": "https://localhost:8080/",
          "height": 419
        },
        "outputId": "765f115f-7fbc-4a3e-e8ba-af6a3f4f6901"
      },
      "source": [
        "geo_erosion = [\"#00BFBF\", \"#00FF00\", \"#FFFF00\", \"#FF7F00\", \"#BF7F3F\", \"#141414\"]\n",
        "l8_viz_params = {'palette':geo_erosion,'min':0,'max': 6000}\n",
        "mapdisplay([0,0],{'composite_median':erosion.getMapId(l8_viz_params)},zoom_start=3)"
      ],
      "execution_count": null,
      "outputs": [
        {
          "output_type": "execute_result",
          "data": {
            "text/plain": [
              "<folium.folium.Map at 0x7b8ffe84f490>"
            ],
            "text/html": [
              "<div style=\"width:100%;\"><div style=\"position:relative;width:100%;height:0;padding-bottom:60%;\"><span style=\"color:#565656\">Make this Notebook Trusted to load map: File -> Trust Notebook</span><iframe srcdoc=\"&lt;!DOCTYPE html&gt;\n",
              "&lt;html&gt;\n",
              "&lt;head&gt;\n",
              "    \n",
              "    &lt;meta http-equiv=&quot;content-type&quot; content=&quot;text/html; charset=UTF-8&quot; /&gt;\n",
              "    \n",
              "        &lt;script&gt;\n",
              "            L_NO_TOUCH = false;\n",
              "            L_DISABLE_3D = false;\n",
              "        &lt;/script&gt;\n",
              "    \n",
              "    &lt;style&gt;html, body {width: 100%;height: 100%;margin: 0;padding: 0;}&lt;/style&gt;\n",
              "    &lt;style&gt;#map {position:absolute;top:0;bottom:0;right:0;left:0;}&lt;/style&gt;\n",
              "    &lt;script src=&quot;https://cdn.jsdelivr.net/npm/leaflet@1.9.3/dist/leaflet.js&quot;&gt;&lt;/script&gt;\n",
              "    &lt;script src=&quot;https://code.jquery.com/jquery-3.7.1.min.js&quot;&gt;&lt;/script&gt;\n",
              "    &lt;script src=&quot;https://cdn.jsdelivr.net/npm/bootstrap@5.2.2/dist/js/bootstrap.bundle.min.js&quot;&gt;&lt;/script&gt;\n",
              "    &lt;script src=&quot;https://cdnjs.cloudflare.com/ajax/libs/Leaflet.awesome-markers/2.0.2/leaflet.awesome-markers.js&quot;&gt;&lt;/script&gt;\n",
              "    &lt;link rel=&quot;stylesheet&quot; href=&quot;https://cdn.jsdelivr.net/npm/leaflet@1.9.3/dist/leaflet.css&quot;/&gt;\n",
              "    &lt;link rel=&quot;stylesheet&quot; href=&quot;https://cdn.jsdelivr.net/npm/bootstrap@5.2.2/dist/css/bootstrap.min.css&quot;/&gt;\n",
              "    &lt;link rel=&quot;stylesheet&quot; href=&quot;https://netdna.bootstrapcdn.com/bootstrap/3.0.0/css/bootstrap-glyphicons.css&quot;/&gt;\n",
              "    &lt;link rel=&quot;stylesheet&quot; href=&quot;https://cdn.jsdelivr.net/npm/@fortawesome/fontawesome-free@6.2.0/css/all.min.css&quot;/&gt;\n",
              "    &lt;link rel=&quot;stylesheet&quot; href=&quot;https://cdnjs.cloudflare.com/ajax/libs/Leaflet.awesome-markers/2.0.2/leaflet.awesome-markers.css&quot;/&gt;\n",
              "    &lt;link rel=&quot;stylesheet&quot; href=&quot;https://cdn.jsdelivr.net/gh/python-visualization/folium/folium/templates/leaflet.awesome.rotate.min.css&quot;/&gt;\n",
              "    \n",
              "            &lt;meta name=&quot;viewport&quot; content=&quot;width=device-width,\n",
              "                initial-scale=1.0, maximum-scale=1.0, user-scalable=no&quot; /&gt;\n",
              "            &lt;style&gt;\n",
              "                #map_08b7171e651f037ac7d1c27bce0f3004 {\n",
              "                    position: relative;\n",
              "                    width: 100.0%;\n",
              "                    height: 100.0%;\n",
              "                    left: 0.0%;\n",
              "                    top: 0.0%;\n",
              "                }\n",
              "                .leaflet-container { font-size: 1rem; }\n",
              "            &lt;/style&gt;\n",
              "        \n",
              "&lt;/head&gt;\n",
              "&lt;body&gt;\n",
              "    \n",
              "    \n",
              "            &lt;div class=&quot;folium-map&quot; id=&quot;map_08b7171e651f037ac7d1c27bce0f3004&quot; &gt;&lt;/div&gt;\n",
              "        \n",
              "&lt;/body&gt;\n",
              "&lt;script&gt;\n",
              "    \n",
              "    \n",
              "            var map_08b7171e651f037ac7d1c27bce0f3004 = L.map(\n",
              "                &quot;map_08b7171e651f037ac7d1c27bce0f3004&quot;,\n",
              "                {\n",
              "                    center: [0.0, 0.0],\n",
              "                    crs: L.CRS.EPSG3857,\n",
              "                    zoom: 3,\n",
              "                    zoomControl: true,\n",
              "                    preferCanvas: false,\n",
              "                }\n",
              "            );\n",
              "\n",
              "            \n",
              "\n",
              "        \n",
              "    \n",
              "            var tile_layer_8b84969d44278e387adbb5e1a93a7675 = L.tileLayer(\n",
              "                &quot;https://tile.openstreetmap.org/{z}/{x}/{y}.png&quot;,\n",
              "                {&quot;attribution&quot;: &quot;\\u0026copy; \\u003ca href=\\&quot;https://www.openstreetmap.org/copyright\\&quot;\\u003eOpenStreetMap\\u003c/a\\u003e contributors&quot;, &quot;detectRetina&quot;: false, &quot;maxNativeZoom&quot;: 19, &quot;maxZoom&quot;: 19, &quot;minZoom&quot;: 0, &quot;noWrap&quot;: false, &quot;opacity&quot;: 1, &quot;subdomains&quot;: &quot;abc&quot;, &quot;tms&quot;: false}\n",
              "            );\n",
              "        \n",
              "    \n",
              "            tile_layer_8b84969d44278e387adbb5e1a93a7675.addTo(map_08b7171e651f037ac7d1c27bce0f3004);\n",
              "        \n",
              "    \n",
              "            var tile_layer_771f79a99bf83f055ecde9747b791bfd = L.tileLayer(\n",
              "                &quot;https://earthengine.googleapis.com/v1/projects/ee-jtantaroman/maps/978c0c609a75ad78cca37676f82b8333-d3419953d944f1c2999cac61349a1689/tiles/{z}/{x}/{y}&quot;,\n",
              "                {&quot;attribution&quot;: &quot;Google Earth Engine&quot;, &quot;detectRetina&quot;: false, &quot;maxZoom&quot;: 18, &quot;minZoom&quot;: 0, &quot;noWrap&quot;: false, &quot;opacity&quot;: 1, &quot;subdomains&quot;: &quot;abc&quot;, &quot;tms&quot;: false}\n",
              "            );\n",
              "        \n",
              "    \n",
              "            tile_layer_771f79a99bf83f055ecde9747b791bfd.addTo(map_08b7171e651f037ac7d1c27bce0f3004);\n",
              "        \n",
              "    \n",
              "            var layer_control_72c4934ae829e6ec9af715d770089500_layers = {\n",
              "                base_layers : {\n",
              "                    &quot;openstreetmap&quot; : tile_layer_8b84969d44278e387adbb5e1a93a7675,\n",
              "                },\n",
              "                overlays :  {\n",
              "                    &quot;composite_median&quot; : tile_layer_771f79a99bf83f055ecde9747b791bfd,\n",
              "                },\n",
              "            };\n",
              "            let layer_control_72c4934ae829e6ec9af715d770089500 = L.control.layers(\n",
              "                layer_control_72c4934ae829e6ec9af715d770089500_layers.base_layers,\n",
              "                layer_control_72c4934ae829e6ec9af715d770089500_layers.overlays,\n",
              "                {&quot;autoZIndex&quot;: true, &quot;collapsed&quot;: true, &quot;position&quot;: &quot;topright&quot;}\n",
              "            ).addTo(map_08b7171e651f037ac7d1c27bce0f3004);\n",
              "\n",
              "        \n",
              "&lt;/script&gt;\n",
              "&lt;/html&gt;\" style=\"position:absolute;width:100%;height:100%;left:0;top:0;border:none !important;\" allowfullscreen webkitallowfullscreen mozallowfullscreen></iframe></div></div>"
            ]
          },
          "metadata": {},
          "execution_count": 18
        }
      ]
    },
    {
      "cell_type": "markdown",
      "metadata": {
        "id": "uDrzlwocdUvp"
      },
      "source": [
        "## **Ejercicio Propuesto 1**\n",
        "\n",
        "### **Funcion para descargar RUSLE en cualquier parte del mundo**\n",
        "[Respuesta aqui](https://gist.github.com/csaybar/19a9db35f8c8044448d885b68e8c9eb8)\n",
        "\n",
        "\n",
        "#### Estimar la Erosión multianual para cualquier parte del mundo. El resultado final puede ser un vídeo ([ejemplo](https://drive.google.com/file/d/1u14mx7GfBj0TmDi6xTCk_vdxT0fBQN_B/view)) o enviar el código para revisarlo en formato .py o .txt."
      ]
    },
    {
      "cell_type": "code",
      "metadata": {
        "id": "TlnkZmAfdXSm"
      },
      "source": [
        "#### Ponga su funcion aqui (cree un snippet!)\n",
        "def rusle(roi, prefix, folder, scale):\n",
        "\n",
        "  # Factor R\n",
        "  clim_rainmap = ee.Image(\"OpenLandMap/CLM/CLM_PRECIPITATION_SM2RAIN_M/v01\").clip(roi)\n",
        "  year = clim_rainmap.reduce(ee.Reducer.sum())\n",
        "  #R calculado mensualmente para todos los meses\n",
        "  R_monthly = ee.Image(10).pow(ee.Image(1.5).multiply(clim_rainmap.pow(2).divide(year).log10().subtract(-0.08188))).multiply(1.735)\n",
        "  #Sumamos todos los R para tener un R anual, esta es la erosividad por la lluvia\n",
        "  factorR = R_monthly.reduce(ee.Reducer.sum()).rename('factorR')\n",
        "\n",
        "  # Factor K\n",
        "  # Cargamos toda la informacion necesaria para estimar el factor K\n",
        "  sand = ee.Image(\"OpenLandMap/SOL/SOL_CLAY-WFRACTION_USDA-3A1A1A_M/v02\").select('b0').clip(roi)\n",
        "  silt = ee.Image('users/aschwantes/SLTPPT_I').divide(100).clip(roi)\n",
        "  clay = ee.Image(\"OpenLandMap/SOL/SOL_SAND-WFRACTION_USDA-3A1A1A_M/v02\").select('b0').clip(roi)\n",
        "  morg = ee.Image(\"OpenLandMap/SOL/SOL_ORGANIC-CARBON_USDA-6A1C_M/v02\").select('b0').multiply(0.58).clip(roi)\n",
        "  sn1 = sand.expression('1 - b0 / 100', {'b0': sand})\n",
        "  orgcar = ee.Image(\"OpenLandMap/SOL/SOL_ORGANIC-CARBON_USDA-6A1C_M/v02\").select('b0').clip(roi)\n",
        "  #Juntando todas las imagenes en una sola\n",
        "  soil = ee.Image([sand, silt, clay, morg, sn1, orgcar]).rename(['sand', 'silt', 'clay', 'morg', 'sn1', 'orgcar'] )\n",
        "  factorK = soil.expression(\n",
        "  '(0.2 + 0.3 * exp(-0.0256 * SAND * (1 - (SILT / 100)))) * (1 - (0.25 * CLAY / (CLAY + exp(3.72 - 2.95 * CLAY)))) * (1 - (0.7 * SN1 / (SN1 + exp(-5.51 + 22.9 * SN1))))',\n",
        "  {\n",
        "    'SAND': soil.select('sand'),\n",
        "    'SILT': soil.select('silt'),\n",
        "    'CLAY': soil.select('clay'),\n",
        "    'MORG': soil.select('morg'),\n",
        "    'SN1':  soil.select('sn1'),\n",
        "    'CORG': soil.select('orgcar')\n",
        "  }).rename('factorK');\n",
        "\n",
        "  # Factor LS\n",
        "  facc = ee.Image(\"WWF/HydroSHEDS/15ACC\").clip(roi)\n",
        "  dem = ee.Image(\"WWF/HydroSHEDS/03CONDEM\").clip(roi)\n",
        "  slope = ee.Terrain.slope(dem)\n",
        "  ls_factors = ee.Image([facc, slope]).rename(['facc','slope'])\n",
        "  factorLS = ls_factors.expression(\n",
        "    '(FACC*270/22.13)**0.4*(SLOPE/0.0896)**1.3',\n",
        "    {\n",
        "      'FACC': ls_factors.select('facc'),\n",
        "      'SLOPE': ls_factors.select('slope')\n",
        "    }).rename('factorLS');\n",
        "\n",
        "  # Factor C\n",
        "  ndvi_median = ee.ImageCollection(\"MODIS/006/MOD13A2\").median().multiply(0.0001).select('NDVI').clip(roi)\n",
        "  factorC = ee.Image(0.805).multiply(ndvi_median).multiply(-1).add(0.431).rename('factorC')\n",
        "\n",
        "  # Calculo de la Erosion\n",
        "  erosion = factorC.multiply(factorR).multiply(factorLS).multiply(factorK).rename('A')\n",
        "  erosion_output = ee.Image([erosion,factorC,factorR,factorLS,factorK])\n",
        "\n",
        "  # Descargar RUSLE\n",
        "  to_download = erosion_output\n",
        "  task = ee.batch.Export.image.toDrive(\n",
        "      image=to_download,\n",
        "      description= prefix+'_RUSLE',\n",
        "      folder=folder,\n",
        "      scale=scale,\n",
        "      region = roi\n",
        "    )\n",
        "  task.start()\n",
        "  print('Descargando: '+prefix+'_RUSLE.tif')\n",
        "\n",
        "  return erosion_output"
      ],
      "execution_count": 14,
      "outputs": []
    },
    {
      "cell_type": "code",
      "metadata": {
        "id": "2-Ol7GrqzPiB",
        "outputId": "74247d81-5e26-4a30-ed2a-bd53cfe7b90a",
        "colab": {
          "base_uri": "https://localhost:8080/"
        }
      },
      "source": [
        "# Ambito de estudio aqui\n",
        "geometry = ee.Geometry.Polygon([[[-81.9580078125,-5.659718554577273],\n",
        "                                [-74.99267578125,-5.659718554577273],\n",
        "                                [-74.99267578125,2.04302395742204],\n",
        "                                [-81.9580078125,2.04302395742204],\n",
        "                                [-81.9580078125,-5.659718554577273]]])\n",
        "ec_erosion = rusle(geometry,'RUSLE_','RUSLE_MASTERGIS', scale = 100)"
      ],
      "execution_count": 15,
      "outputs": [
        {
          "output_type": "stream",
          "name": "stdout",
          "text": [
            "Descargando: RUSLE__RUSLE.tif\n"
          ]
        }
      ]
    },
    {
      "cell_type": "code",
      "source": [
        "ec_erosion.getInfo()"
      ],
      "metadata": {
        "id": "uz41ihNeWElp",
        "outputId": "75d5effa-cda1-43e1-d7bd-da69192d7b6e",
        "colab": {
          "base_uri": "https://localhost:8080/"
        }
      },
      "execution_count": 16,
      "outputs": [
        {
          "output_type": "execute_result",
          "data": {
            "text/plain": [
              "{'type': 'Image',\n",
              " 'bands': [{'id': 'A',\n",
              "   'data_type': {'type': 'PixelType', 'precision': 'double'},\n",
              "   'dimensions': [837, 927],\n",
              "   'origin': [11765, 10238],\n",
              "   'crs': 'EPSG:4326',\n",
              "   'crs_transform': [0.008333333299999999,\n",
              "    0,\n",
              "    -179.99999999995,\n",
              "    0,\n",
              "    -0.008333333299999999,\n",
              "    87.36999940255]},\n",
              "  {'id': 'factorC',\n",
              "   'data_type': {'type': 'PixelType',\n",
              "    'precision': 'double',\n",
              "    'min': -2.2067435,\n",
              "    'max': 3.068824},\n",
              "   'dimensions': [9, 10],\n",
              "   'origin': [-83, -7],\n",
              "   'crs': 'EPSG:4326',\n",
              "   'crs_transform': [1, 0, 0, 0, 1, 0]},\n",
              "  {'id': 'factorR',\n",
              "   'data_type': {'type': 'PixelType', 'precision': 'double'},\n",
              "   'crs': 'EPSG:4326',\n",
              "   'crs_transform': [0.008333333299999999,\n",
              "    0,\n",
              "    -179.99999999995,\n",
              "    0,\n",
              "    -0.008333333299999999,\n",
              "    87.36999940255]},\n",
              "  {'id': 'factorLS',\n",
              "   'data_type': {'type': 'PixelType', 'precision': 'double'},\n",
              "   'dimensions': [62870, 1853],\n",
              "   'origin': [13450, 14388],\n",
              "   'crs': 'EPSG:4326',\n",
              "   'crs_transform': [0.004166666666667, 0, -138, 0, -0.004166666666667, 62]},\n",
              "  {'id': 'factorK',\n",
              "   'data_type': {'type': 'PixelType', 'precision': 'double'},\n",
              "   'dimensions': [3345, 3705],\n",
              "   'origin': [47060, 40955],\n",
              "   'crs': 'EPSG:4326',\n",
              "   'crs_transform': [0.002083333, 0, -180, 0, -0.002083333, 87.37]}]}"
            ]
          },
          "metadata": {},
          "execution_count": 16
        }
      ]
    },
    {
      "cell_type": "code",
      "metadata": {
        "id": "xfo5sr0U9aOj",
        "outputId": "c9c59636-8d9a-465c-e5ed-d47f4d95d9ff",
        "colab": {
          "base_uri": "https://localhost:8080/",
          "height": 865
        }
      },
      "source": [
        "# Genere una vizualizacion de su ambito de estudio\n",
        "geo_erosion = [\"#00BFBF\", \"#00FF00\", \"#FFFF00\", \"#FF7F00\", \"#BF7F3F\", \"#141414\"]\n",
        "l8_viz_params = {'palette':geo_erosion,'min':0,'max': 6000}\n",
        "center = geometry.centroid().coordinates().getInfo()\n",
        "mapdisplay(center,{'composite_median':ec_erosion.select('A').getMapId(l8_viz_params)},zoom_start=6)"
      ],
      "execution_count": 17,
      "outputs": [
        {
          "output_type": "execute_result",
          "data": {
            "text/plain": [
              "<folium.folium.Map at 0x78c828489f00>"
            ],
            "text/html": [
              "<div style=\"width:100%;\"><div style=\"position:relative;width:100%;height:0;padding-bottom:60%;\"><span style=\"color:#565656\">Make this Notebook Trusted to load map: File -> Trust Notebook</span><iframe srcdoc=\"&lt;!DOCTYPE html&gt;\n",
              "&lt;html&gt;\n",
              "&lt;head&gt;\n",
              "    \n",
              "    &lt;meta http-equiv=&quot;content-type&quot; content=&quot;text/html; charset=UTF-8&quot; /&gt;\n",
              "    \n",
              "        &lt;script&gt;\n",
              "            L_NO_TOUCH = false;\n",
              "            L_DISABLE_3D = false;\n",
              "        &lt;/script&gt;\n",
              "    \n",
              "    &lt;style&gt;html, body {width: 100%;height: 100%;margin: 0;padding: 0;}&lt;/style&gt;\n",
              "    &lt;style&gt;#map {position:absolute;top:0;bottom:0;right:0;left:0;}&lt;/style&gt;\n",
              "    &lt;script src=&quot;https://cdn.jsdelivr.net/npm/leaflet@1.9.3/dist/leaflet.js&quot;&gt;&lt;/script&gt;\n",
              "    &lt;script src=&quot;https://code.jquery.com/jquery-3.7.1.min.js&quot;&gt;&lt;/script&gt;\n",
              "    &lt;script src=&quot;https://cdn.jsdelivr.net/npm/bootstrap@5.2.2/dist/js/bootstrap.bundle.min.js&quot;&gt;&lt;/script&gt;\n",
              "    &lt;script src=&quot;https://cdnjs.cloudflare.com/ajax/libs/Leaflet.awesome-markers/2.0.2/leaflet.awesome-markers.js&quot;&gt;&lt;/script&gt;\n",
              "    &lt;link rel=&quot;stylesheet&quot; href=&quot;https://cdn.jsdelivr.net/npm/leaflet@1.9.3/dist/leaflet.css&quot;/&gt;\n",
              "    &lt;link rel=&quot;stylesheet&quot; href=&quot;https://cdn.jsdelivr.net/npm/bootstrap@5.2.2/dist/css/bootstrap.min.css&quot;/&gt;\n",
              "    &lt;link rel=&quot;stylesheet&quot; href=&quot;https://netdna.bootstrapcdn.com/bootstrap/3.0.0/css/bootstrap-glyphicons.css&quot;/&gt;\n",
              "    &lt;link rel=&quot;stylesheet&quot; href=&quot;https://cdn.jsdelivr.net/npm/@fortawesome/fontawesome-free@6.2.0/css/all.min.css&quot;/&gt;\n",
              "    &lt;link rel=&quot;stylesheet&quot; href=&quot;https://cdnjs.cloudflare.com/ajax/libs/Leaflet.awesome-markers/2.0.2/leaflet.awesome-markers.css&quot;/&gt;\n",
              "    &lt;link rel=&quot;stylesheet&quot; href=&quot;https://cdn.jsdelivr.net/gh/python-visualization/folium/folium/templates/leaflet.awesome.rotate.min.css&quot;/&gt;\n",
              "    \n",
              "            &lt;meta name=&quot;viewport&quot; content=&quot;width=device-width,\n",
              "                initial-scale=1.0, maximum-scale=1.0, user-scalable=no&quot; /&gt;\n",
              "            &lt;style&gt;\n",
              "                #map_07ae253abfa6f3a84a7315ed5a4ff31b {\n",
              "                    position: relative;\n",
              "                    width: 100.0%;\n",
              "                    height: 100.0%;\n",
              "                    left: 0.0%;\n",
              "                    top: 0.0%;\n",
              "                }\n",
              "                .leaflet-container { font-size: 1rem; }\n",
              "            &lt;/style&gt;\n",
              "        \n",
              "&lt;/head&gt;\n",
              "&lt;body&gt;\n",
              "    \n",
              "    \n",
              "            &lt;div class=&quot;folium-map&quot; id=&quot;map_07ae253abfa6f3a84a7315ed5a4ff31b&quot; &gt;&lt;/div&gt;\n",
              "        \n",
              "&lt;/body&gt;\n",
              "&lt;script&gt;\n",
              "    \n",
              "    \n",
              "            var map_07ae253abfa6f3a84a7315ed5a4ff31b = L.map(\n",
              "                &quot;map_07ae253abfa6f3a84a7315ed5a4ff31b&quot;,\n",
              "                {\n",
              "                    center: [-1.8089328030399932, -78.475341796875],\n",
              "                    crs: L.CRS.EPSG3857,\n",
              "                    zoom: 6,\n",
              "                    zoomControl: true,\n",
              "                    preferCanvas: false,\n",
              "                }\n",
              "            );\n",
              "\n",
              "            \n",
              "\n",
              "        \n",
              "    \n",
              "            var tile_layer_949677f2d6e29c2fcda814cd70cb1222 = L.tileLayer(\n",
              "                &quot;https://tile.openstreetmap.org/{z}/{x}/{y}.png&quot;,\n",
              "                {&quot;attribution&quot;: &quot;\\u0026copy; \\u003ca href=\\&quot;https://www.openstreetmap.org/copyright\\&quot;\\u003eOpenStreetMap\\u003c/a\\u003e contributors&quot;, &quot;detectRetina&quot;: false, &quot;maxNativeZoom&quot;: 19, &quot;maxZoom&quot;: 19, &quot;minZoom&quot;: 0, &quot;noWrap&quot;: false, &quot;opacity&quot;: 1, &quot;subdomains&quot;: &quot;abc&quot;, &quot;tms&quot;: false}\n",
              "            );\n",
              "        \n",
              "    \n",
              "            tile_layer_949677f2d6e29c2fcda814cd70cb1222.addTo(map_07ae253abfa6f3a84a7315ed5a4ff31b);\n",
              "        \n",
              "    \n",
              "            var tile_layer_a238bbd98fd4d0dd1aa017b318a31051 = L.tileLayer(\n",
              "                &quot;https://earthengine.googleapis.com/v1/projects/ee-jtantaroman/maps/d393478cf7e883b85add323d0692c40d-0f922adde1b5795e34e4fb8741b4ac4b/tiles/{z}/{x}/{y}&quot;,\n",
              "                {&quot;attribution&quot;: &quot;Google Earth Engine&quot;, &quot;detectRetina&quot;: false, &quot;maxZoom&quot;: 18, &quot;minZoom&quot;: 0, &quot;noWrap&quot;: false, &quot;opacity&quot;: 1, &quot;subdomains&quot;: &quot;abc&quot;, &quot;tms&quot;: false}\n",
              "            );\n",
              "        \n",
              "    \n",
              "            tile_layer_a238bbd98fd4d0dd1aa017b318a31051.addTo(map_07ae253abfa6f3a84a7315ed5a4ff31b);\n",
              "        \n",
              "    \n",
              "            var layer_control_506e2e20f0481f3dd81c2c9807039730_layers = {\n",
              "                base_layers : {\n",
              "                    &quot;openstreetmap&quot; : tile_layer_949677f2d6e29c2fcda814cd70cb1222,\n",
              "                },\n",
              "                overlays :  {\n",
              "                    &quot;composite_median&quot; : tile_layer_a238bbd98fd4d0dd1aa017b318a31051,\n",
              "                },\n",
              "            };\n",
              "            let layer_control_506e2e20f0481f3dd81c2c9807039730 = L.control.layers(\n",
              "                layer_control_506e2e20f0481f3dd81c2c9807039730_layers.base_layers,\n",
              "                layer_control_506e2e20f0481f3dd81c2c9807039730_layers.overlays,\n",
              "                {&quot;autoZIndex&quot;: true, &quot;collapsed&quot;: true, &quot;position&quot;: &quot;topright&quot;}\n",
              "            ).addTo(map_07ae253abfa6f3a84a7315ed5a4ff31b);\n",
              "\n",
              "        \n",
              "&lt;/script&gt;\n",
              "&lt;/html&gt;\" style=\"position:absolute;width:100%;height:100%;left:0;top:0;border:none !important;\" allowfullscreen webkitallowfullscreen mozallowfullscreen></iframe></div></div>"
            ]
          },
          "metadata": {},
          "execution_count": 17
        }
      ]
    },
    {
      "cell_type": "code",
      "source": [
        "#### Ponga su funcion aqui (cree un snippet!)\n",
        "def rusle_country(name_country):\n",
        "\n",
        "  # Llamando al feature collection que contiene los limites de los paises\n",
        "  countries = ee.FeatureCollection(\"USDOS/LSIB/2017\")\n",
        "  roi = countries.filter(ee.Filter.eq('COUNTRY_NA',name_country))\n",
        "  # Calculando el centroide para la visualizacion\n",
        "  center = roi.geometry().centroid().coordinates().getInfo()\n",
        "\n",
        "  # Factor R\n",
        "  clim_rainmap = ee.Image(\"OpenLandMap/CLM/CLM_PRECIPITATION_SM2RAIN_M/v01\").clip(roi)\n",
        "  year = clim_rainmap.reduce(ee.Reducer.sum())\n",
        "  #R calculado mensualmente para todos los meses\n",
        "  R_monthly = ee.Image(10).pow(ee.Image(1.5).multiply(clim_rainmap.pow(2).divide(year).log10().subtract(-0.08188))).multiply(1.735)\n",
        "  #Sumamos todos los R para tener un R anual, esta es la erosividad por la lluvia\n",
        "  factorR = R_monthly.reduce(ee.Reducer.sum()).rename('factorR')\n",
        "\n",
        "  # Factor K\n",
        "  # Cargamos toda la informacion necesaria para estimar el factor K\n",
        "  sand = ee.Image(\"OpenLandMap/SOL/SOL_CLAY-WFRACTION_USDA-3A1A1A_M/v02\").select('b0').clip(roi)\n",
        "  silt = ee.Image('users/aschwantes/SLTPPT_I').divide(100).clip(roi)\n",
        "  clay = ee.Image(\"OpenLandMap/SOL/SOL_SAND-WFRACTION_USDA-3A1A1A_M/v02\").select('b0').clip(roi)\n",
        "  morg = ee.Image(\"OpenLandMap/SOL/SOL_ORGANIC-CARBON_USDA-6A1C_M/v02\").select('b0').multiply(0.58).clip(roi)\n",
        "  sn1 = sand.expression('1 - b0 / 100', {'b0': sand})\n",
        "  orgcar = ee.Image(\"OpenLandMap/SOL/SOL_ORGANIC-CARBON_USDA-6A1C_M/v02\").select('b0').clip(roi)\n",
        "  #Juntando todas las imagenes en una sola\n",
        "  soil = ee.Image([sand, silt, clay, morg, sn1, orgcar]).rename(['sand', 'silt', 'clay', 'morg', 'sn1', 'orgcar'] )\n",
        "  factorK = soil.expression(\n",
        "  '(0.2 + 0.3 * exp(-0.0256 * SAND * (1 - (SILT / 100)))) * (1 - (0.25 * CLAY / (CLAY + exp(3.72 - 2.95 * CLAY)))) * (1 - (0.7 * SN1 / (SN1 + exp(-5.51 + 22.9 * SN1))))',\n",
        "  {\n",
        "    'SAND': soil.select('sand'),\n",
        "    'SILT': soil.select('silt'),\n",
        "    'CLAY': soil.select('clay'),\n",
        "    'MORG': soil.select('morg'),\n",
        "    'SN1':  soil.select('sn1'),\n",
        "    'CORG': soil.select('orgcar')\n",
        "  }).rename('factorK');\n",
        "\n",
        "  # Factor LS\n",
        "  facc = ee.Image(\"WWF/HydroSHEDS/15ACC\").clip(roi)\n",
        "  dem = ee.Image(\"WWF/HydroSHEDS/03CONDEM\").clip(roi)\n",
        "  slope = ee.Terrain.slope(dem)\n",
        "  ls_factors = ee.Image([facc, slope]).rename(['facc','slope'])\n",
        "  factorLS = ls_factors.expression(\n",
        "    '(FACC*270/22.13)**0.4*(SLOPE/0.0896)**1.3',\n",
        "    {\n",
        "      'FACC': ls_factors.select('facc'),\n",
        "      'SLOPE': ls_factors.select('slope')\n",
        "    }).rename('factorLS');\n",
        "\n",
        "  # Factor C\n",
        "  ndvi_median = ee.ImageCollection(\"MODIS/006/MOD13A2\").median().multiply(0.0001).select('NDVI').clip(roi)\n",
        "  factorC = ee.Image(0.805).multiply(ndvi_median).multiply(-1).add(0.431).rename('factorC')\n",
        "\n",
        "  # Calculo de la Erosion\n",
        "  erosion = factorC.multiply(factorR).multiply(factorLS).multiply(factorK).rename('A')\n",
        "  erosion_output = ee.Image([erosion,factorC,factorR,factorLS,factorK])\n",
        "\n",
        "  return erosion_output, center"
      ],
      "metadata": {
        "id": "-xw4Je87lw9w"
      },
      "execution_count": 24,
      "outputs": []
    },
    {
      "cell_type": "code",
      "source": [
        "ec_erosion, center = rusle_country('Venezuela')"
      ],
      "metadata": {
        "id": "VdxdGPTfnAsW"
      },
      "execution_count": 33,
      "outputs": []
    },
    {
      "cell_type": "code",
      "source": [
        "# Genere una vizualizacion de su ambito de estudio\n",
        "geo_erosion = [\"#00BFBF\", \"#00FF00\", \"#FFFF00\", \"#FF7F00\", \"#BF7F3F\", \"#141414\"]\n",
        "l8_viz_params = {'palette':geo_erosion,'min':0,'max': 6000}\n",
        "mapdisplay(center,{'composite_median':ec_erosion.select('A').getMapId(l8_viz_params)},zoom_start=6)"
      ],
      "metadata": {
        "id": "wKtrCswzmptN",
        "outputId": "d3e430f5-b7c8-474e-d0db-a0a58a29a4fc",
        "colab": {
          "base_uri": "https://localhost:8080/",
          "height": 865
        }
      },
      "execution_count": 34,
      "outputs": [
        {
          "output_type": "execute_result",
          "data": {
            "text/plain": [
              "<folium.folium.Map at 0x78c8281fefe0>"
            ],
            "text/html": [
              "<div style=\"width:100%;\"><div style=\"position:relative;width:100%;height:0;padding-bottom:60%;\"><span style=\"color:#565656\">Make this Notebook Trusted to load map: File -> Trust Notebook</span><iframe srcdoc=\"&lt;!DOCTYPE html&gt;\n",
              "&lt;html&gt;\n",
              "&lt;head&gt;\n",
              "    \n",
              "    &lt;meta http-equiv=&quot;content-type&quot; content=&quot;text/html; charset=UTF-8&quot; /&gt;\n",
              "    \n",
              "        &lt;script&gt;\n",
              "            L_NO_TOUCH = false;\n",
              "            L_DISABLE_3D = false;\n",
              "        &lt;/script&gt;\n",
              "    \n",
              "    &lt;style&gt;html, body {width: 100%;height: 100%;margin: 0;padding: 0;}&lt;/style&gt;\n",
              "    &lt;style&gt;#map {position:absolute;top:0;bottom:0;right:0;left:0;}&lt;/style&gt;\n",
              "    &lt;script src=&quot;https://cdn.jsdelivr.net/npm/leaflet@1.9.3/dist/leaflet.js&quot;&gt;&lt;/script&gt;\n",
              "    &lt;script src=&quot;https://code.jquery.com/jquery-3.7.1.min.js&quot;&gt;&lt;/script&gt;\n",
              "    &lt;script src=&quot;https://cdn.jsdelivr.net/npm/bootstrap@5.2.2/dist/js/bootstrap.bundle.min.js&quot;&gt;&lt;/script&gt;\n",
              "    &lt;script src=&quot;https://cdnjs.cloudflare.com/ajax/libs/Leaflet.awesome-markers/2.0.2/leaflet.awesome-markers.js&quot;&gt;&lt;/script&gt;\n",
              "    &lt;link rel=&quot;stylesheet&quot; href=&quot;https://cdn.jsdelivr.net/npm/leaflet@1.9.3/dist/leaflet.css&quot;/&gt;\n",
              "    &lt;link rel=&quot;stylesheet&quot; href=&quot;https://cdn.jsdelivr.net/npm/bootstrap@5.2.2/dist/css/bootstrap.min.css&quot;/&gt;\n",
              "    &lt;link rel=&quot;stylesheet&quot; href=&quot;https://netdna.bootstrapcdn.com/bootstrap/3.0.0/css/bootstrap-glyphicons.css&quot;/&gt;\n",
              "    &lt;link rel=&quot;stylesheet&quot; href=&quot;https://cdn.jsdelivr.net/npm/@fortawesome/fontawesome-free@6.2.0/css/all.min.css&quot;/&gt;\n",
              "    &lt;link rel=&quot;stylesheet&quot; href=&quot;https://cdnjs.cloudflare.com/ajax/libs/Leaflet.awesome-markers/2.0.2/leaflet.awesome-markers.css&quot;/&gt;\n",
              "    &lt;link rel=&quot;stylesheet&quot; href=&quot;https://cdn.jsdelivr.net/gh/python-visualization/folium/folium/templates/leaflet.awesome.rotate.min.css&quot;/&gt;\n",
              "    \n",
              "            &lt;meta name=&quot;viewport&quot; content=&quot;width=device-width,\n",
              "                initial-scale=1.0, maximum-scale=1.0, user-scalable=no&quot; /&gt;\n",
              "            &lt;style&gt;\n",
              "                #map_08cbfc48df1209a148210da7c368a283 {\n",
              "                    position: relative;\n",
              "                    width: 100.0%;\n",
              "                    height: 100.0%;\n",
              "                    left: 0.0%;\n",
              "                    top: 0.0%;\n",
              "                }\n",
              "                .leaflet-container { font-size: 1rem; }\n",
              "            &lt;/style&gt;\n",
              "        \n",
              "&lt;/head&gt;\n",
              "&lt;body&gt;\n",
              "    \n",
              "    \n",
              "            &lt;div class=&quot;folium-map&quot; id=&quot;map_08cbfc48df1209a148210da7c368a283&quot; &gt;&lt;/div&gt;\n",
              "        \n",
              "&lt;/body&gt;\n",
              "&lt;script&gt;\n",
              "    \n",
              "    \n",
              "            var map_08cbfc48df1209a148210da7c368a283 = L.map(\n",
              "                &quot;map_08cbfc48df1209a148210da7c368a283&quot;,\n",
              "                {\n",
              "                    center: [7.126763523519303, -66.14123562657323],\n",
              "                    crs: L.CRS.EPSG3857,\n",
              "                    zoom: 6,\n",
              "                    zoomControl: true,\n",
              "                    preferCanvas: false,\n",
              "                }\n",
              "            );\n",
              "\n",
              "            \n",
              "\n",
              "        \n",
              "    \n",
              "            var tile_layer_b36dcceecfad10b1d179c457582fed99 = L.tileLayer(\n",
              "                &quot;https://tile.openstreetmap.org/{z}/{x}/{y}.png&quot;,\n",
              "                {&quot;attribution&quot;: &quot;\\u0026copy; \\u003ca href=\\&quot;https://www.openstreetmap.org/copyright\\&quot;\\u003eOpenStreetMap\\u003c/a\\u003e contributors&quot;, &quot;detectRetina&quot;: false, &quot;maxNativeZoom&quot;: 19, &quot;maxZoom&quot;: 19, &quot;minZoom&quot;: 0, &quot;noWrap&quot;: false, &quot;opacity&quot;: 1, &quot;subdomains&quot;: &quot;abc&quot;, &quot;tms&quot;: false}\n",
              "            );\n",
              "        \n",
              "    \n",
              "            tile_layer_b36dcceecfad10b1d179c457582fed99.addTo(map_08cbfc48df1209a148210da7c368a283);\n",
              "        \n",
              "    \n",
              "            var tile_layer_8757cb3a237423f21679382de4016104 = L.tileLayer(\n",
              "                &quot;https://earthengine.googleapis.com/v1/projects/ee-jtantaroman/maps/40e11dd4680712cc2fecac42667ef5e4-f58b8efaf2ab4e497857d82b49d246d9/tiles/{z}/{x}/{y}&quot;,\n",
              "                {&quot;attribution&quot;: &quot;Google Earth Engine&quot;, &quot;detectRetina&quot;: false, &quot;maxZoom&quot;: 18, &quot;minZoom&quot;: 0, &quot;noWrap&quot;: false, &quot;opacity&quot;: 1, &quot;subdomains&quot;: &quot;abc&quot;, &quot;tms&quot;: false}\n",
              "            );\n",
              "        \n",
              "    \n",
              "            tile_layer_8757cb3a237423f21679382de4016104.addTo(map_08cbfc48df1209a148210da7c368a283);\n",
              "        \n",
              "    \n",
              "            var layer_control_9e8a6482ee4d5bf1a273643d73278e39_layers = {\n",
              "                base_layers : {\n",
              "                    &quot;openstreetmap&quot; : tile_layer_b36dcceecfad10b1d179c457582fed99,\n",
              "                },\n",
              "                overlays :  {\n",
              "                    &quot;composite_median&quot; : tile_layer_8757cb3a237423f21679382de4016104,\n",
              "                },\n",
              "            };\n",
              "            let layer_control_9e8a6482ee4d5bf1a273643d73278e39 = L.control.layers(\n",
              "                layer_control_9e8a6482ee4d5bf1a273643d73278e39_layers.base_layers,\n",
              "                layer_control_9e8a6482ee4d5bf1a273643d73278e39_layers.overlays,\n",
              "                {&quot;autoZIndex&quot;: true, &quot;collapsed&quot;: true, &quot;position&quot;: &quot;topright&quot;}\n",
              "            ).addTo(map_08cbfc48df1209a148210da7c368a283);\n",
              "\n",
              "        \n",
              "&lt;/script&gt;\n",
              "&lt;/html&gt;\" style=\"position:absolute;width:100%;height:100%;left:0;top:0;border:none !important;\" allowfullscreen webkitallowfullscreen mozallowfullscreen></iframe></div></div>"
            ]
          },
          "metadata": {},
          "execution_count": 34
        }
      ]
    },
    {
      "cell_type": "markdown",
      "metadata": {
        "id": "v41ueZ40qCYa"
      },
      "source": [
        "### **¿Dudas con este Jupyer-Notebook?**\n",
        "\n",
        "Estaremos felices de ayudarte!. Create una cuenta Github si es que no la tienes, luego detalla tu problema ampliamente en: https://github.com/csaybar/EarthEngineMasterGIS/issues\n",
        "\n",
        "**Tienes que dar clic en el boton verde!**\n",
        "\n",
        "<center>\n",
        "<img src=\"https://user-images.githubusercontent.com/16768318/79680748-d5511000-81d8-11ea-9f89-44bd010adf69.png\" width = 70%>\n",
        "</center>"
      ]
    }
  ]
}