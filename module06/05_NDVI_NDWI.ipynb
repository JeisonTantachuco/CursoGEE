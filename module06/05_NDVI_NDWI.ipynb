{
  "nbformat": 4,
  "nbformat_minor": 0,
  "metadata": {
    "colab": {
      "provenance": [],
      "authorship_tag": "ABX9TyMD5HEl3cif05PN4FAIsXjC",
      "include_colab_link": true
    },
    "kernelspec": {
      "name": "python3",
      "display_name": "Python 3"
    },
    "language_info": {
      "name": "python"
    }
  },
  "cells": [
    {
      "cell_type": "markdown",
      "metadata": {
        "id": "view-in-github",
        "colab_type": "text"
      },
      "source": [
        "<a href=\"https://colab.research.google.com/github/JeisonTantachuco/CursoGEE/blob/main/module06/05_NDVI_NDWI.ipynb\" target=\"_parent\"><img src=\"https://colab.research.google.com/assets/colab-badge.svg\" alt=\"Open In Colab\"/></a>"
      ]
    },
    {
      "cell_type": "markdown",
      "source": [
        "# Ejercicio Propuesto: Elaborar un Mapa de Índice espectral (NDVI, NDSI, NDWI, etc.)\n",
        "\n",
        "El resultado debe ser un Mapa que tenga los datos de algun índice diferencia normalizada calculado usando Google Earth Engine, para lo cual se debe tener en cuenta:\n",
        "\n",
        "1) Calcular el índice desde Google Earth Engine - Colab y descargarlo a drive para poder usarlo de forma externa, la zona que se trabaje debe ser diferente a la trabajada en clase.\n",
        "\n",
        "2) El mapa debe tener todos los elementos cartográficos: Grillado de coordenadas, orientación al norte, Escala Gráfica y Numérica, Leyenda, Membrete y Título de mapa.\n",
        "\n",
        "3) El mapa puede ser generado en cualquier software GIS.\n",
        "\n",
        "**La tarea se considerara como concluida luego de enviar lo solicitado en el ejercicio 1, y el mapa generado en este ejercicio al correo indicado en la plataforma: tareas@mastergis.com**"
      ],
      "metadata": {
        "id": "oedisihCuH6d"
      }
    },
    {
      "cell_type": "code",
      "source": [
        "import ee\n",
        "ee.Authenticate()\n",
        "ee.Initialize(project = 'ee-jtantaroman')"
      ],
      "metadata": {
        "id": "VAH5Yf5Ju6Kq"
      },
      "execution_count": null,
      "outputs": []
    },
    {
      "cell_type": "code",
      "source": [
        "#@title mapdisplay: Crea mapas interactivos usando folium\n",
        "import folium\n",
        "def mapdisplay(center, dicc, Tiles=\"OpenStreetMap\", zoom_start=10):\n",
        "    '''\n",
        "    :param center: Center of the map (Latitude and Longitude).\n",
        "    :param dicc: Earth Engine Geometries or Tiles dictionary\n",
        "    :param Tiles: Mapbox Bright, Mapbox Control Room, Stamen Terrain, etc.\n",
        "    :param zoom_start: Initial zoom level for the map.\n",
        "    :return: A folium.Map object.\n",
        "    '''\n",
        "    center = center[::-1]\n",
        "    mapViz = folium.Map(location=center, tiles=Tiles, zoom_start=zoom_start)\n",
        "\n",
        "    # Agregar Google o Esri tiles\n",
        "    esri_satellite = folium.TileLayer(\n",
        "        tiles=\"https://server.arcgisonline.com/ArcGIS/rest/services/World_Imagery/MapServer/tile/{z}/{y}/{x}\",\n",
        "        attr=\"Esri\",\n",
        "        name=\"Esri Satellite\",\n",
        "        overlay=True,\n",
        "        control=True\n",
        "    )\n",
        "    esri_hybrid = folium.TileLayer(\n",
        "        tiles=\"https://server.arcgisonline.com/ArcGIS/rest/services/Reference/World_Boundaries_and_Places/MapServer/tile/{z}/{y}/{x}\",\n",
        "        attr=\"Esri\",\n",
        "        name=\"Esri Hybrid\",\n",
        "        overlay=True,\n",
        "        control=True\n",
        "    )\n",
        "\n",
        "    esri_satellite.add_to(mapViz)\n",
        "    esri_hybrid.add_to(mapViz)\n",
        "\n",
        "    for k, v in dicc.items():\n",
        "        if ee.image.Image in [type(x) for x in v.values()]:\n",
        "            folium.TileLayer(\n",
        "                tiles=v[\"tile_fetcher\"].url_format,\n",
        "                attr='Google Earth Engine',\n",
        "                overlay=True,\n",
        "                name=k\n",
        "            ).add_to(mapViz)\n",
        "        else:\n",
        "            folium.GeoJson(\n",
        "                data=v,\n",
        "                name=k\n",
        "            ).add_to(mapViz)\n",
        "\n",
        "    mapViz.add_child(folium.LayerControl())\n",
        "    return mapViz"
      ],
      "metadata": {
        "id": "fqQDh8pj80YH"
      },
      "execution_count": 33,
      "outputs": []
    },
    {
      "cell_type": "markdown",
      "source": [
        "#1. Cargar datos vectoriales"
      ],
      "metadata": {
        "id": "qv4XLjRgu-cu"
      }
    },
    {
      "cell_type": "code",
      "source": [
        "# Llamando al feature collection que contiene los limites de los paises\n",
        "name_country = 'Bolivia'\n",
        "countries = ee.FeatureCollection(\"USDOS/LSIB/2017\")\n",
        "roi = countries.filter(ee.Filter.eq('COUNTRY_NA',name_country))\n",
        "# Calculando el centroide para la visualizacion\n",
        "center = roi.geometry().centroid().coordinates().getInfo()"
      ],
      "metadata": {
        "id": "434mOPdTu9JA"
      },
      "execution_count": null,
      "outputs": []
    },
    {
      "cell_type": "code",
      "source": [
        "mapdisplay(center, {'Country':roi.getMapId()}, Tiles=\"OpensTreetMap\",zoom_start=6)"
      ],
      "metadata": {
        "id": "tAmRIY-izC7U",
        "outputId": "5a1c41fe-0e89-4727-cf59-22de73c54551",
        "colab": {
          "base_uri": "https://localhost:8080/",
          "height": 865
        }
      },
      "execution_count": null,
      "outputs": [
        {
          "output_type": "execute_result",
          "data": {
            "text/plain": [
              "<folium.folium.Map at 0x7e1714a48a90>"
            ],
            "text/html": [
              "<div style=\"width:100%;\"><div style=\"position:relative;width:100%;height:0;padding-bottom:60%;\"><span style=\"color:#565656\">Make this Notebook Trusted to load map: File -> Trust Notebook</span><iframe srcdoc=\"&lt;!DOCTYPE html&gt;\n",
              "&lt;html&gt;\n",
              "&lt;head&gt;\n",
              "    \n",
              "    &lt;meta http-equiv=&quot;content-type&quot; content=&quot;text/html; charset=UTF-8&quot; /&gt;\n",
              "    \n",
              "        &lt;script&gt;\n",
              "            L_NO_TOUCH = false;\n",
              "            L_DISABLE_3D = false;\n",
              "        &lt;/script&gt;\n",
              "    \n",
              "    &lt;style&gt;html, body {width: 100%;height: 100%;margin: 0;padding: 0;}&lt;/style&gt;\n",
              "    &lt;style&gt;#map {position:absolute;top:0;bottom:0;right:0;left:0;}&lt;/style&gt;\n",
              "    &lt;script src=&quot;https://cdn.jsdelivr.net/npm/leaflet@1.9.3/dist/leaflet.js&quot;&gt;&lt;/script&gt;\n",
              "    &lt;script src=&quot;https://code.jquery.com/jquery-3.7.1.min.js&quot;&gt;&lt;/script&gt;\n",
              "    &lt;script src=&quot;https://cdn.jsdelivr.net/npm/bootstrap@5.2.2/dist/js/bootstrap.bundle.min.js&quot;&gt;&lt;/script&gt;\n",
              "    &lt;script src=&quot;https://cdnjs.cloudflare.com/ajax/libs/Leaflet.awesome-markers/2.0.2/leaflet.awesome-markers.js&quot;&gt;&lt;/script&gt;\n",
              "    &lt;link rel=&quot;stylesheet&quot; href=&quot;https://cdn.jsdelivr.net/npm/leaflet@1.9.3/dist/leaflet.css&quot;/&gt;\n",
              "    &lt;link rel=&quot;stylesheet&quot; href=&quot;https://cdn.jsdelivr.net/npm/bootstrap@5.2.2/dist/css/bootstrap.min.css&quot;/&gt;\n",
              "    &lt;link rel=&quot;stylesheet&quot; href=&quot;https://netdna.bootstrapcdn.com/bootstrap/3.0.0/css/bootstrap-glyphicons.css&quot;/&gt;\n",
              "    &lt;link rel=&quot;stylesheet&quot; href=&quot;https://cdn.jsdelivr.net/npm/@fortawesome/fontawesome-free@6.2.0/css/all.min.css&quot;/&gt;\n",
              "    &lt;link rel=&quot;stylesheet&quot; href=&quot;https://cdnjs.cloudflare.com/ajax/libs/Leaflet.awesome-markers/2.0.2/leaflet.awesome-markers.css&quot;/&gt;\n",
              "    &lt;link rel=&quot;stylesheet&quot; href=&quot;https://cdn.jsdelivr.net/gh/python-visualization/folium/folium/templates/leaflet.awesome.rotate.min.css&quot;/&gt;\n",
              "    \n",
              "            &lt;meta name=&quot;viewport&quot; content=&quot;width=device-width,\n",
              "                initial-scale=1.0, maximum-scale=1.0, user-scalable=no&quot; /&gt;\n",
              "            &lt;style&gt;\n",
              "                #map_9977555bc4eae7af3e2335729de96147 {\n",
              "                    position: relative;\n",
              "                    width: 100.0%;\n",
              "                    height: 100.0%;\n",
              "                    left: 0.0%;\n",
              "                    top: 0.0%;\n",
              "                }\n",
              "                .leaflet-container { font-size: 1rem; }\n",
              "            &lt;/style&gt;\n",
              "        \n",
              "&lt;/head&gt;\n",
              "&lt;body&gt;\n",
              "    \n",
              "    \n",
              "            &lt;div class=&quot;folium-map&quot; id=&quot;map_9977555bc4eae7af3e2335729de96147&quot; &gt;&lt;/div&gt;\n",
              "        \n",
              "&lt;/body&gt;\n",
              "&lt;script&gt;\n",
              "    \n",
              "    \n",
              "            var map_9977555bc4eae7af3e2335729de96147 = L.map(\n",
              "                &quot;map_9977555bc4eae7af3e2335729de96147&quot;,\n",
              "                {\n",
              "                    center: [-16.68674934700215, -64.6751444989508],\n",
              "                    crs: L.CRS.EPSG3857,\n",
              "                    zoom: 6,\n",
              "                    zoomControl: true,\n",
              "                    preferCanvas: false,\n",
              "                }\n",
              "            );\n",
              "\n",
              "            \n",
              "\n",
              "        \n",
              "    \n",
              "            var tile_layer_8afe92107a3e0551b3da02035ac9ea8f = L.tileLayer(\n",
              "                &quot;https://tile.openstreetmap.org/{z}/{x}/{y}.png&quot;,\n",
              "                {&quot;attribution&quot;: &quot;\\u0026copy; \\u003ca href=\\&quot;https://www.openstreetmap.org/copyright\\&quot;\\u003eOpenStreetMap\\u003c/a\\u003e contributors&quot;, &quot;detectRetina&quot;: false, &quot;maxNativeZoom&quot;: 19, &quot;maxZoom&quot;: 19, &quot;minZoom&quot;: 0, &quot;noWrap&quot;: false, &quot;opacity&quot;: 1, &quot;subdomains&quot;: &quot;abc&quot;, &quot;tms&quot;: false}\n",
              "            );\n",
              "        \n",
              "    \n",
              "            tile_layer_8afe92107a3e0551b3da02035ac9ea8f.addTo(map_9977555bc4eae7af3e2335729de96147);\n",
              "        \n",
              "    \n",
              "            var tile_layer_e4f109f0e08273a92934dbd292a4e82f = L.tileLayer(\n",
              "                &quot;https://earthengine.googleapis.com/v1/projects/ee-jtantaroman/maps/4a3e4131c984bc11bcc99c1db0539195-72f84b4be07780335e4bdd09c79694cf/tiles/{z}/{x}/{y}&quot;,\n",
              "                {&quot;attribution&quot;: &quot;Google Earth Engine&quot;, &quot;detectRetina&quot;: false, &quot;maxZoom&quot;: 18, &quot;minZoom&quot;: 0, &quot;noWrap&quot;: false, &quot;opacity&quot;: 1, &quot;subdomains&quot;: &quot;abc&quot;, &quot;tms&quot;: false}\n",
              "            );\n",
              "        \n",
              "    \n",
              "            tile_layer_e4f109f0e08273a92934dbd292a4e82f.addTo(map_9977555bc4eae7af3e2335729de96147);\n",
              "        \n",
              "    \n",
              "            var layer_control_42e94e83e088aa5eb6ce4df69eb80f2f_layers = {\n",
              "                base_layers : {\n",
              "                    &quot;openstreetmap&quot; : tile_layer_8afe92107a3e0551b3da02035ac9ea8f,\n",
              "                },\n",
              "                overlays :  {\n",
              "                    &quot;Country&quot; : tile_layer_e4f109f0e08273a92934dbd292a4e82f,\n",
              "                },\n",
              "            };\n",
              "            let layer_control_42e94e83e088aa5eb6ce4df69eb80f2f = L.control.layers(\n",
              "                layer_control_42e94e83e088aa5eb6ce4df69eb80f2f_layers.base_layers,\n",
              "                layer_control_42e94e83e088aa5eb6ce4df69eb80f2f_layers.overlays,\n",
              "                {&quot;autoZIndex&quot;: true, &quot;collapsed&quot;: true, &quot;position&quot;: &quot;topright&quot;}\n",
              "            ).addTo(map_9977555bc4eae7af3e2335729de96147);\n",
              "\n",
              "        \n",
              "&lt;/script&gt;\n",
              "&lt;/html&gt;\" style=\"position:absolute;width:100%;height:100%;left:0;top:0;border:none !important;\" allowfullscreen webkitallowfullscreen mozallowfullscreen></iframe></div></div>"
            ]
          },
          "metadata": {},
          "execution_count": 7
        }
      ]
    },
    {
      "cell_type": "markdown",
      "source": [
        "#2. Cargar datos raster (Imagenes)"
      ],
      "metadata": {
        "id": "9mYTrWamvQHK"
      }
    },
    {
      "cell_type": "code",
      "source": [
        "def mask_s2_clouds(image):\n",
        "  \"\"\"Masks clouds in a Sentinel-2 image using the QA band.\n",
        "\n",
        "  Args:\n",
        "      image (ee.Image): A Sentinel-2 image.\n",
        "\n",
        "  Returns:\n",
        "      ee.Image: A cloud-masked Sentinel-2 image.\n",
        "  \"\"\"\n",
        "  qa = image.select('QA60')\n",
        "\n",
        "  # Bits 10 and 11 are clouds and cirrus, respectively.\n",
        "  cloud_bit_mask = 1 << 10\n",
        "  cirrus_bit_mask = 1 << 11\n",
        "\n",
        "  # Both flags should be set to zero, indicating clear conditions.\n",
        "  mask = (\n",
        "      qa.bitwiseAnd(cloud_bit_mask)\n",
        "      .eq(0)\n",
        "      .And(qa.bitwiseAnd(cirrus_bit_mask).eq(0))\n",
        "  )\n",
        "\n",
        "  return image.updateMask(mask).divide(10000)\n",
        "\n",
        "\n",
        "sentinel2 = ee.ImageCollection('COPERNICUS/S2_SR_HARMONIZED')\\\n",
        "    .filterDate('2020-01-01', '2021-12-31')\\\n",
        "    .filter(ee.Filter.lt('CLOUDY_PIXEL_PERCENTAGE', 5))\\\n",
        "    .map(mask_s2_clouds)\\\n",
        "    .filterBounds(roi)"
      ],
      "metadata": {
        "id": "18d0DoQwvSfh"
      },
      "execution_count": null,
      "outputs": []
    },
    {
      "cell_type": "code",
      "source": [
        "visualization = {\n",
        "    'min': 0.0,\n",
        "    'max': 0.3,\n",
        "    'bands': ['B4', 'B3', 'B2'],\n",
        "}\n",
        "\n",
        "mapdisplay(center, {'sentinel2':sentinel2.getMapId(visualization)}, Tiles=\"OpensTreetMap\",zoom_start=6)"
      ],
      "metadata": {
        "id": "tsbh1PD8085k",
        "outputId": "246807a4-117d-494a-dd38-d36ac10372a3",
        "colab": {
          "base_uri": "https://localhost:8080/",
          "height": 865
        }
      },
      "execution_count": null,
      "outputs": [
        {
          "output_type": "execute_result",
          "data": {
            "text/plain": [
              "<folium.folium.Map at 0x7e17441a6bc0>"
            ],
            "text/html": [
              "<div style=\"width:100%;\"><div style=\"position:relative;width:100%;height:0;padding-bottom:60%;\"><span style=\"color:#565656\">Make this Notebook Trusted to load map: File -> Trust Notebook</span><iframe srcdoc=\"&lt;!DOCTYPE html&gt;\n",
              "&lt;html&gt;\n",
              "&lt;head&gt;\n",
              "    \n",
              "    &lt;meta http-equiv=&quot;content-type&quot; content=&quot;text/html; charset=UTF-8&quot; /&gt;\n",
              "    \n",
              "        &lt;script&gt;\n",
              "            L_NO_TOUCH = false;\n",
              "            L_DISABLE_3D = false;\n",
              "        &lt;/script&gt;\n",
              "    \n",
              "    &lt;style&gt;html, body {width: 100%;height: 100%;margin: 0;padding: 0;}&lt;/style&gt;\n",
              "    &lt;style&gt;#map {position:absolute;top:0;bottom:0;right:0;left:0;}&lt;/style&gt;\n",
              "    &lt;script src=&quot;https://cdn.jsdelivr.net/npm/leaflet@1.9.3/dist/leaflet.js&quot;&gt;&lt;/script&gt;\n",
              "    &lt;script src=&quot;https://code.jquery.com/jquery-3.7.1.min.js&quot;&gt;&lt;/script&gt;\n",
              "    &lt;script src=&quot;https://cdn.jsdelivr.net/npm/bootstrap@5.2.2/dist/js/bootstrap.bundle.min.js&quot;&gt;&lt;/script&gt;\n",
              "    &lt;script src=&quot;https://cdnjs.cloudflare.com/ajax/libs/Leaflet.awesome-markers/2.0.2/leaflet.awesome-markers.js&quot;&gt;&lt;/script&gt;\n",
              "    &lt;link rel=&quot;stylesheet&quot; href=&quot;https://cdn.jsdelivr.net/npm/leaflet@1.9.3/dist/leaflet.css&quot;/&gt;\n",
              "    &lt;link rel=&quot;stylesheet&quot; href=&quot;https://cdn.jsdelivr.net/npm/bootstrap@5.2.2/dist/css/bootstrap.min.css&quot;/&gt;\n",
              "    &lt;link rel=&quot;stylesheet&quot; href=&quot;https://netdna.bootstrapcdn.com/bootstrap/3.0.0/css/bootstrap-glyphicons.css&quot;/&gt;\n",
              "    &lt;link rel=&quot;stylesheet&quot; href=&quot;https://cdn.jsdelivr.net/npm/@fortawesome/fontawesome-free@6.2.0/css/all.min.css&quot;/&gt;\n",
              "    &lt;link rel=&quot;stylesheet&quot; href=&quot;https://cdnjs.cloudflare.com/ajax/libs/Leaflet.awesome-markers/2.0.2/leaflet.awesome-markers.css&quot;/&gt;\n",
              "    &lt;link rel=&quot;stylesheet&quot; href=&quot;https://cdn.jsdelivr.net/gh/python-visualization/folium/folium/templates/leaflet.awesome.rotate.min.css&quot;/&gt;\n",
              "    \n",
              "            &lt;meta name=&quot;viewport&quot; content=&quot;width=device-width,\n",
              "                initial-scale=1.0, maximum-scale=1.0, user-scalable=no&quot; /&gt;\n",
              "            &lt;style&gt;\n",
              "                #map_2e1400c5162648bf9194890351183daf {\n",
              "                    position: relative;\n",
              "                    width: 100.0%;\n",
              "                    height: 100.0%;\n",
              "                    left: 0.0%;\n",
              "                    top: 0.0%;\n",
              "                }\n",
              "                .leaflet-container { font-size: 1rem; }\n",
              "            &lt;/style&gt;\n",
              "        \n",
              "&lt;/head&gt;\n",
              "&lt;body&gt;\n",
              "    \n",
              "    \n",
              "            &lt;div class=&quot;folium-map&quot; id=&quot;map_2e1400c5162648bf9194890351183daf&quot; &gt;&lt;/div&gt;\n",
              "        \n",
              "&lt;/body&gt;\n",
              "&lt;script&gt;\n",
              "    \n",
              "    \n",
              "            var map_2e1400c5162648bf9194890351183daf = L.map(\n",
              "                &quot;map_2e1400c5162648bf9194890351183daf&quot;,\n",
              "                {\n",
              "                    center: [-16.68674934700215, -64.6751444989508],\n",
              "                    crs: L.CRS.EPSG3857,\n",
              "                    zoom: 6,\n",
              "                    zoomControl: true,\n",
              "                    preferCanvas: false,\n",
              "                }\n",
              "            );\n",
              "\n",
              "            \n",
              "\n",
              "        \n",
              "    \n",
              "            var tile_layer_8ddd792c3899ea23c96a174ec0becba3 = L.tileLayer(\n",
              "                &quot;https://tile.openstreetmap.org/{z}/{x}/{y}.png&quot;,\n",
              "                {&quot;attribution&quot;: &quot;\\u0026copy; \\u003ca href=\\&quot;https://www.openstreetmap.org/copyright\\&quot;\\u003eOpenStreetMap\\u003c/a\\u003e contributors&quot;, &quot;detectRetina&quot;: false, &quot;maxNativeZoom&quot;: 19, &quot;maxZoom&quot;: 19, &quot;minZoom&quot;: 0, &quot;noWrap&quot;: false, &quot;opacity&quot;: 1, &quot;subdomains&quot;: &quot;abc&quot;, &quot;tms&quot;: false}\n",
              "            );\n",
              "        \n",
              "    \n",
              "            tile_layer_8ddd792c3899ea23c96a174ec0becba3.addTo(map_2e1400c5162648bf9194890351183daf);\n",
              "        \n",
              "    \n",
              "            var tile_layer_7ad24250bda9e6cdf7d98779dfcabe95 = L.tileLayer(\n",
              "                &quot;https://earthengine.googleapis.com/v1/projects/ee-jtantaroman/maps/3a20beeddc7e314d2121425021c9cd8f-e4762fe30441d40751fd1fcdb0561b0f/tiles/{z}/{x}/{y}&quot;,\n",
              "                {&quot;attribution&quot;: &quot;Google Earth Engine&quot;, &quot;detectRetina&quot;: false, &quot;maxZoom&quot;: 18, &quot;minZoom&quot;: 0, &quot;noWrap&quot;: false, &quot;opacity&quot;: 1, &quot;subdomains&quot;: &quot;abc&quot;, &quot;tms&quot;: false}\n",
              "            );\n",
              "        \n",
              "    \n",
              "            tile_layer_7ad24250bda9e6cdf7d98779dfcabe95.addTo(map_2e1400c5162648bf9194890351183daf);\n",
              "        \n",
              "    \n",
              "            var layer_control_f0270376c2a48c691a9688c3269bca22_layers = {\n",
              "                base_layers : {\n",
              "                    &quot;openstreetmap&quot; : tile_layer_8ddd792c3899ea23c96a174ec0becba3,\n",
              "                },\n",
              "                overlays :  {\n",
              "                    &quot;sentinel2&quot; : tile_layer_7ad24250bda9e6cdf7d98779dfcabe95,\n",
              "                },\n",
              "            };\n",
              "            let layer_control_f0270376c2a48c691a9688c3269bca22 = L.control.layers(\n",
              "                layer_control_f0270376c2a48c691a9688c3269bca22_layers.base_layers,\n",
              "                layer_control_f0270376c2a48c691a9688c3269bca22_layers.overlays,\n",
              "                {&quot;autoZIndex&quot;: true, &quot;collapsed&quot;: true, &quot;position&quot;: &quot;topright&quot;}\n",
              "            ).addTo(map_2e1400c5162648bf9194890351183daf);\n",
              "\n",
              "        \n",
              "&lt;/script&gt;\n",
              "&lt;/html&gt;\" style=\"position:absolute;width:100%;height:100%;left:0;top:0;border:none !important;\" allowfullscreen webkitallowfullscreen mozallowfullscreen></iframe></div></div>"
            ]
          },
          "metadata": {},
          "execution_count": 24
        }
      ]
    },
    {
      "cell_type": "markdown",
      "source": [
        "#3. Calculo del índice normalizado\n",
        "Utiliza .normalizedDifferece para realizar este ejercicio"
      ],
      "metadata": {
        "id": "xnTIaUOHvTQW"
      }
    },
    {
      "cell_type": "code",
      "source": [
        "#Realizamos el mosaico para convertir el image collection a image\n",
        "sentinel2Mosaic = sentinel2.mosaic()\n",
        "#Calculo del NDWI\n",
        "ndwi = sentinel2Mosaic.normalizedDifference(['B3', 'B8']).rename('NDWI')\n",
        "#Clip al NDWI\n",
        "ndwi_clip = ndwi.clip(roi)"
      ],
      "metadata": {
        "id": "ZS0yBGXU21bH"
      },
      "execution_count": null,
      "outputs": []
    },
    {
      "cell_type": "code",
      "source": [
        "#Realizamos una mediana\n",
        "sentinel2Median = sentinel2.median()\n",
        "#Calculo del NDWI\n",
        "ndwiMedian = sentinel2Median.normalizedDifference(['B3', 'B8']).rename('NDWI')\n",
        "#Clip al NDWI\n",
        "ndwi_clipMedian = ndwiMedian.clip(roi)"
      ],
      "metadata": {
        "id": "gDuX0g9T_5xJ"
      },
      "execution_count": 42,
      "outputs": []
    },
    {
      "cell_type": "code",
      "source": [
        "visualization = {\n",
        "    'min': -0.5,\n",
        "    'max': 0.5,\n",
        "    'palette': ['white', 'lightblue', 'blue', 'darkblue']\n",
        "}\n",
        "\n",
        "mapdisplay(center, {'NDWI':ndwi_clip.getMapId(visualization),\n",
        "                    'NDWI_median':ndwi_clipMedian.getMapId(visualization)}, Tiles=\"OpensTreetMap\",zoom_start=6)"
      ],
      "metadata": {
        "id": "qCf7HvUs39cE",
        "outputId": "ff7a4989-df80-4dbb-bdb6-53b6b0f3beb8",
        "colab": {
          "base_uri": "https://localhost:8080/",
          "height": 865
        }
      },
      "execution_count": 43,
      "outputs": [
        {
          "output_type": "execute_result",
          "data": {
            "text/plain": [
              "<folium.folium.Map at 0x7e1714a49120>"
            ],
            "text/html": [
              "<div style=\"width:100%;\"><div style=\"position:relative;width:100%;height:0;padding-bottom:60%;\"><span style=\"color:#565656\">Make this Notebook Trusted to load map: File -> Trust Notebook</span><iframe srcdoc=\"&lt;!DOCTYPE html&gt;\n",
              "&lt;html&gt;\n",
              "&lt;head&gt;\n",
              "    \n",
              "    &lt;meta http-equiv=&quot;content-type&quot; content=&quot;text/html; charset=UTF-8&quot; /&gt;\n",
              "    \n",
              "        &lt;script&gt;\n",
              "            L_NO_TOUCH = false;\n",
              "            L_DISABLE_3D = false;\n",
              "        &lt;/script&gt;\n",
              "    \n",
              "    &lt;style&gt;html, body {width: 100%;height: 100%;margin: 0;padding: 0;}&lt;/style&gt;\n",
              "    &lt;style&gt;#map {position:absolute;top:0;bottom:0;right:0;left:0;}&lt;/style&gt;\n",
              "    &lt;script src=&quot;https://cdn.jsdelivr.net/npm/leaflet@1.9.3/dist/leaflet.js&quot;&gt;&lt;/script&gt;\n",
              "    &lt;script src=&quot;https://code.jquery.com/jquery-3.7.1.min.js&quot;&gt;&lt;/script&gt;\n",
              "    &lt;script src=&quot;https://cdn.jsdelivr.net/npm/bootstrap@5.2.2/dist/js/bootstrap.bundle.min.js&quot;&gt;&lt;/script&gt;\n",
              "    &lt;script src=&quot;https://cdnjs.cloudflare.com/ajax/libs/Leaflet.awesome-markers/2.0.2/leaflet.awesome-markers.js&quot;&gt;&lt;/script&gt;\n",
              "    &lt;link rel=&quot;stylesheet&quot; href=&quot;https://cdn.jsdelivr.net/npm/leaflet@1.9.3/dist/leaflet.css&quot;/&gt;\n",
              "    &lt;link rel=&quot;stylesheet&quot; href=&quot;https://cdn.jsdelivr.net/npm/bootstrap@5.2.2/dist/css/bootstrap.min.css&quot;/&gt;\n",
              "    &lt;link rel=&quot;stylesheet&quot; href=&quot;https://netdna.bootstrapcdn.com/bootstrap/3.0.0/css/bootstrap-glyphicons.css&quot;/&gt;\n",
              "    &lt;link rel=&quot;stylesheet&quot; href=&quot;https://cdn.jsdelivr.net/npm/@fortawesome/fontawesome-free@6.2.0/css/all.min.css&quot;/&gt;\n",
              "    &lt;link rel=&quot;stylesheet&quot; href=&quot;https://cdnjs.cloudflare.com/ajax/libs/Leaflet.awesome-markers/2.0.2/leaflet.awesome-markers.css&quot;/&gt;\n",
              "    &lt;link rel=&quot;stylesheet&quot; href=&quot;https://cdn.jsdelivr.net/gh/python-visualization/folium/folium/templates/leaflet.awesome.rotate.min.css&quot;/&gt;\n",
              "    \n",
              "            &lt;meta name=&quot;viewport&quot; content=&quot;width=device-width,\n",
              "                initial-scale=1.0, maximum-scale=1.0, user-scalable=no&quot; /&gt;\n",
              "            &lt;style&gt;\n",
              "                #map_81b80dbc57768e00c5d7e4599a608f54 {\n",
              "                    position: relative;\n",
              "                    width: 100.0%;\n",
              "                    height: 100.0%;\n",
              "                    left: 0.0%;\n",
              "                    top: 0.0%;\n",
              "                }\n",
              "                .leaflet-container { font-size: 1rem; }\n",
              "            &lt;/style&gt;\n",
              "        \n",
              "&lt;/head&gt;\n",
              "&lt;body&gt;\n",
              "    \n",
              "    \n",
              "            &lt;div class=&quot;folium-map&quot; id=&quot;map_81b80dbc57768e00c5d7e4599a608f54&quot; &gt;&lt;/div&gt;\n",
              "        \n",
              "&lt;/body&gt;\n",
              "&lt;script&gt;\n",
              "    \n",
              "    \n",
              "            var map_81b80dbc57768e00c5d7e4599a608f54 = L.map(\n",
              "                &quot;map_81b80dbc57768e00c5d7e4599a608f54&quot;,\n",
              "                {\n",
              "                    center: [-16.68674934700215, -64.6751444989508],\n",
              "                    crs: L.CRS.EPSG3857,\n",
              "                    zoom: 6,\n",
              "                    zoomControl: true,\n",
              "                    preferCanvas: false,\n",
              "                }\n",
              "            );\n",
              "\n",
              "            \n",
              "\n",
              "        \n",
              "    \n",
              "            var tile_layer_c238e56336bdf62f59f3284a8065931c = L.tileLayer(\n",
              "                &quot;https://tile.openstreetmap.org/{z}/{x}/{y}.png&quot;,\n",
              "                {&quot;attribution&quot;: &quot;\\u0026copy; \\u003ca href=\\&quot;https://www.openstreetmap.org/copyright\\&quot;\\u003eOpenStreetMap\\u003c/a\\u003e contributors&quot;, &quot;detectRetina&quot;: false, &quot;maxNativeZoom&quot;: 19, &quot;maxZoom&quot;: 19, &quot;minZoom&quot;: 0, &quot;noWrap&quot;: false, &quot;opacity&quot;: 1, &quot;subdomains&quot;: &quot;abc&quot;, &quot;tms&quot;: false}\n",
              "            );\n",
              "        \n",
              "    \n",
              "            tile_layer_c238e56336bdf62f59f3284a8065931c.addTo(map_81b80dbc57768e00c5d7e4599a608f54);\n",
              "        \n",
              "    \n",
              "            var tile_layer_65de35758de38ff2e9569050e572f2cb = L.tileLayer(\n",
              "                &quot;https://server.arcgisonline.com/ArcGIS/rest/services/World_Imagery/MapServer/tile/{z}/{y}/{x}&quot;,\n",
              "                {&quot;attribution&quot;: &quot;Esri&quot;, &quot;detectRetina&quot;: false, &quot;maxZoom&quot;: 18, &quot;minZoom&quot;: 0, &quot;noWrap&quot;: false, &quot;opacity&quot;: 1, &quot;subdomains&quot;: &quot;abc&quot;, &quot;tms&quot;: false}\n",
              "            );\n",
              "        \n",
              "    \n",
              "            tile_layer_65de35758de38ff2e9569050e572f2cb.addTo(map_81b80dbc57768e00c5d7e4599a608f54);\n",
              "        \n",
              "    \n",
              "            var tile_layer_568a57992b1d0650d68f3046af734897 = L.tileLayer(\n",
              "                &quot;https://server.arcgisonline.com/ArcGIS/rest/services/Reference/World_Boundaries_and_Places/MapServer/tile/{z}/{y}/{x}&quot;,\n",
              "                {&quot;attribution&quot;: &quot;Esri&quot;, &quot;detectRetina&quot;: false, &quot;maxZoom&quot;: 18, &quot;minZoom&quot;: 0, &quot;noWrap&quot;: false, &quot;opacity&quot;: 1, &quot;subdomains&quot;: &quot;abc&quot;, &quot;tms&quot;: false}\n",
              "            );\n",
              "        \n",
              "    \n",
              "            tile_layer_568a57992b1d0650d68f3046af734897.addTo(map_81b80dbc57768e00c5d7e4599a608f54);\n",
              "        \n",
              "    \n",
              "            var tile_layer_dcdc5efecfbc9e0968ee06b2d8577eec = L.tileLayer(\n",
              "                &quot;https://earthengine.googleapis.com/v1/projects/ee-jtantaroman/maps/a9846c5c31e088ae136947b03bcaf64d-951f113e228b25d053abae9c8055e199/tiles/{z}/{x}/{y}&quot;,\n",
              "                {&quot;attribution&quot;: &quot;Google Earth Engine&quot;, &quot;detectRetina&quot;: false, &quot;maxZoom&quot;: 18, &quot;minZoom&quot;: 0, &quot;noWrap&quot;: false, &quot;opacity&quot;: 1, &quot;subdomains&quot;: &quot;abc&quot;, &quot;tms&quot;: false}\n",
              "            );\n",
              "        \n",
              "    \n",
              "            tile_layer_dcdc5efecfbc9e0968ee06b2d8577eec.addTo(map_81b80dbc57768e00c5d7e4599a608f54);\n",
              "        \n",
              "    \n",
              "            var tile_layer_cd91ae7ce014017f17f2a9558ba5fbbb = L.tileLayer(\n",
              "                &quot;https://earthengine.googleapis.com/v1/projects/ee-jtantaroman/maps/0e3a8d4e8f8bec97d5358f94ada665dd-fb6cb064294b645c144f360dca6f4010/tiles/{z}/{x}/{y}&quot;,\n",
              "                {&quot;attribution&quot;: &quot;Google Earth Engine&quot;, &quot;detectRetina&quot;: false, &quot;maxZoom&quot;: 18, &quot;minZoom&quot;: 0, &quot;noWrap&quot;: false, &quot;opacity&quot;: 1, &quot;subdomains&quot;: &quot;abc&quot;, &quot;tms&quot;: false}\n",
              "            );\n",
              "        \n",
              "    \n",
              "            tile_layer_cd91ae7ce014017f17f2a9558ba5fbbb.addTo(map_81b80dbc57768e00c5d7e4599a608f54);\n",
              "        \n",
              "    \n",
              "            var layer_control_0d37a09aff80707d2921d2842e379e7b_layers = {\n",
              "                base_layers : {\n",
              "                    &quot;openstreetmap&quot; : tile_layer_c238e56336bdf62f59f3284a8065931c,\n",
              "                },\n",
              "                overlays :  {\n",
              "                    &quot;Esri Satellite&quot; : tile_layer_65de35758de38ff2e9569050e572f2cb,\n",
              "                    &quot;Esri Hybrid&quot; : tile_layer_568a57992b1d0650d68f3046af734897,\n",
              "                    &quot;NDWI&quot; : tile_layer_dcdc5efecfbc9e0968ee06b2d8577eec,\n",
              "                    &quot;NDWI_median&quot; : tile_layer_cd91ae7ce014017f17f2a9558ba5fbbb,\n",
              "                },\n",
              "            };\n",
              "            let layer_control_0d37a09aff80707d2921d2842e379e7b = L.control.layers(\n",
              "                layer_control_0d37a09aff80707d2921d2842e379e7b_layers.base_layers,\n",
              "                layer_control_0d37a09aff80707d2921d2842e379e7b_layers.overlays,\n",
              "                {&quot;autoZIndex&quot;: true, &quot;collapsed&quot;: true, &quot;position&quot;: &quot;topright&quot;}\n",
              "            ).addTo(map_81b80dbc57768e00c5d7e4599a608f54);\n",
              "\n",
              "        \n",
              "&lt;/script&gt;\n",
              "&lt;/html&gt;\" style=\"position:absolute;width:100%;height:100%;left:0;top:0;border:none !important;\" allowfullscreen webkitallowfullscreen mozallowfullscreen></iframe></div></div>"
            ]
          },
          "metadata": {},
          "execution_count": 43
        }
      ]
    },
    {
      "cell_type": "markdown",
      "source": [
        "#4. Descargar los resultados (De Google Earth Engine a Google Drive)\n",
        "**ee.batch.Export.table.toDrive()**: Guarda FeatureCollection como shapefile en Google Drive.\n",
        "\n",
        "**ee.barch.Export.image.toDrive()**: Guarda Imagnees como GeoTIFF en Google Drive."
      ],
      "metadata": {
        "id": "fLklhKNSvgIT"
      }
    },
    {
      "cell_type": "code",
      "source": [],
      "metadata": {
        "id": "zJrZgj50vfI2"
      },
      "execution_count": null,
      "outputs": []
    }
  ]
}