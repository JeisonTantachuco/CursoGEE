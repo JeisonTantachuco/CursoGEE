{
  "nbformat": 4,
  "nbformat_minor": 0,
  "metadata": {
    "colab": {
      "provenance": [],
      "authorship_tag": "ABX9TyPtSAh8QADUlv5xEwitgq4H",
      "include_colab_link": true
    },
    "kernelspec": {
      "name": "python3",
      "display_name": "Python 3"
    },
    "language_info": {
      "name": "python"
    }
  },
  "cells": [
    {
      "cell_type": "markdown",
      "metadata": {
        "id": "view-in-github",
        "colab_type": "text"
      },
      "source": [
        "<a href=\"https://colab.research.google.com/github/JeisonTantachuco/CursoGEE/blob/main/module06/05_NDVI_NDWI.ipynb\" target=\"_parent\"><img src=\"https://colab.research.google.com/assets/colab-badge.svg\" alt=\"Open In Colab\"/></a>"
      ]
    },
    {
      "cell_type": "markdown",
      "source": [
        "# Ejercicio Propuesto: Elaborar un Mapa de Índice espectral (NDVI, NDSI, NDWI, etc.)\n",
        "\n",
        "El resultado debe ser un Mapa que tenga los datos de algun índice diferencia normalizada calculado usando Google Earth Engine, para lo cual se debe tener en cuenta:\n",
        "\n",
        "1) Calcular el índice desde Google Earth Engine - Colab y descargarlo a drive para poder usarlo de forma externa, la zona que se trabaje debe ser diferente a la trabajada en clase.\n",
        "\n",
        "2) El mapa debe tener todos los elementos cartográficos: Grillado de coordenadas, orientación al norte, Escala Gráfica y Numérica, Leyenda, Membrete y Título de mapa.\n",
        "\n",
        "3) El mapa puede ser generado en cualquier software GIS.\n",
        "\n",
        "**La tarea se considerara como concluida luego de enviar lo solicitado en el ejercicio 1, y el mapa generado en este ejercicio al correo indicado en la plataforma: tareas@mastergis.com**"
      ],
      "metadata": {
        "id": "oedisihCuH6d"
      }
    },
    {
      "cell_type": "code",
      "source": [
        "import ee\n",
        "ee.Authenticate()\n",
        "ee.Initialize(project = 'ee-jtantaroman')"
      ],
      "metadata": {
        "id": "VAH5Yf5Ju6Kq"
      },
      "execution_count": null,
      "outputs": []
    },
    {
      "cell_type": "code",
      "source": [
        "#@title mapdisplay: Crea mapas interactivos usando folium\n",
        "import folium\n",
        "def mapdisplay(center, dicc, Tiles=\"OpensTreetMap\",zoom_start=10):\n",
        "    '''\n",
        "    :param center: Center of the map (Latitude and Longitude).\n",
        "    :param dicc: Earth Engine Geometries or Tiles dictionary\n",
        "    :param Tiles: Mapbox Bright,Mapbox Control Room,Stamen Terrain,Stamen Toner,stamenwatercolor,cartodbpositron.\n",
        "    :zoom_start: Initial zoom level for the map.\n",
        "    :return: A folium.Map object.\n",
        "    '''\n",
        "    center = center[::-1]\n",
        "    mapViz = folium.Map(location=center,tiles=Tiles, zoom_start=zoom_start)\n",
        "    for k,v in dicc.items():\n",
        "      if ee.image.Image in [type(x) for x in v.values()]:\n",
        "        folium.TileLayer(\n",
        "            tiles = v[\"tile_fetcher\"].url_format,\n",
        "            attr  = 'Google Earth Engine',\n",
        "            overlay =True,\n",
        "            name  = k\n",
        "          ).add_to(mapViz)\n",
        "      else:\n",
        "        folium.GeoJson(\n",
        "        data = v,\n",
        "        name = k\n",
        "          ).add_to(mapViz)\n",
        "    mapViz.add_child(folium.LayerControl())\n",
        "    return mapViz"
      ],
      "metadata": {
        "cellView": "form",
        "id": "uPUSMeSqu67y"
      },
      "execution_count": null,
      "outputs": []
    },
    {
      "cell_type": "markdown",
      "source": [
        "#1. Cargar datos vectoriales"
      ],
      "metadata": {
        "id": "qv4XLjRgu-cu"
      }
    },
    {
      "cell_type": "code",
      "source": [],
      "metadata": {
        "id": "434mOPdTu9JA"
      },
      "execution_count": null,
      "outputs": []
    },
    {
      "cell_type": "markdown",
      "source": [
        "#2. Cargar datos raster (Imagenes)"
      ],
      "metadata": {
        "id": "9mYTrWamvQHK"
      }
    },
    {
      "cell_type": "code",
      "source": [],
      "metadata": {
        "id": "18d0DoQwvSfh"
      },
      "execution_count": null,
      "outputs": []
    },
    {
      "cell_type": "markdown",
      "source": [
        "#3. Calculo del índice normalizado\n",
        "Utiliza .normalizedDifferecen para realizar este ejercicio"
      ],
      "metadata": {
        "id": "xnTIaUOHvTQW"
      }
    },
    {
      "cell_type": "code",
      "source": [],
      "metadata": {
        "id": "LCinQSHpvaRu"
      },
      "execution_count": null,
      "outputs": []
    },
    {
      "cell_type": "markdown",
      "source": [
        "#4. Descargar los resultados (De Google Earth Engine a Google Drive)\n",
        "**ee.batch.Export.table.toDrive()**: Guarda FeatureCollection como shapefile en Google Drive.\n",
        "\n",
        "**ee.barch.Export.image.toDrive()**: Guarda Imagnees como GeoTIFF en Google Drive."
      ],
      "metadata": {
        "id": "fLklhKNSvgIT"
      }
    },
    {
      "cell_type": "code",
      "source": [],
      "metadata": {
        "id": "zJrZgj50vfI2"
      },
      "execution_count": null,
      "outputs": []
    }
  ]
}