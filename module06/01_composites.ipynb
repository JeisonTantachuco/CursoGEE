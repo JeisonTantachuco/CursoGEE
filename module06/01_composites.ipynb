{
  "nbformat": 4,
  "nbformat_minor": 0,
  "metadata": {
    "colab": {
      "name": "01_composites.ipynb",
      "provenance": [],
      "toc_visible": true,
      "include_colab_link": true
    },
    "kernelspec": {
      "name": "python3",
      "display_name": "Python 3"
    }
  },
  "cells": [
    {
      "cell_type": "markdown",
      "metadata": {
        "id": "view-in-github",
        "colab_type": "text"
      },
      "source": [
        "<a href=\"https://colab.research.google.com/github/JeisonTantachuco/CursoGEE/blob/main/module06/01_composites.ipynb\" target=\"_parent\"><img src=\"https://colab.research.google.com/assets/colab-badge.svg\" alt=\"Open In Colab\"/></a>"
      ]
    },
    {
      "cell_type": "markdown",
      "metadata": {
        "id": "5Uf067cMfYj3"
      },
      "source": [
        "<!--COURSE_INFORMATION-->\n",
        "<img align=\"left\" style=\"padding-right:10px;\" src=\"https://user-images.githubusercontent.com/16768318/73986808-75b3ca00-4936-11ea-90f1-3a6c352766ce.png\" width=10% >\n",
        "<img align=\"right\" style=\"padding-left:10px;\" src=\"https://user-images.githubusercontent.com/16768318/73986811-764c6080-4936-11ea-9653-a3eacc47caed.png\" width=10% >\n",
        "\n",
        "**Bienvenidos!** Este *colab notebook* es parte del curso [**Introduccion a Google Earth Engine con Python**](https://github.com/csaybar/EarthEngineMasterGIS) desarrollado por el equipo [**MasterGIS**](https://www.mastergis.com/). Obten mas informacion del curso en este [**enlace**](https://www.mastergis.com/product/google-earth-engine/). El contenido del curso esta disponible en [**GitHub**](https://github.com/csaybar/EarthEngineMasterGIS) bajo licencia [**MIT**](https://opensource.org/licenses/MIT)."
      ]
    },
    {
      "cell_type": "markdown",
      "metadata": {
        "id": "bfc3m1gZvKpX"
      },
      "source": [
        "## **MASTERGIS: Composicion y mosaicos**\n",
        "\n",
        "En esta lectura, aprenderemos sobre:\n",
        "\n",
        "- Como realizar mosaicos espaciales.\n",
        "- Como realizar un mosaico considerando imagenes Landsat 8 y Landsat 7.\n",
        "\n",
        "<img src=\"https://user-images.githubusercontent.com/16768318/73668658-120f6f80-469e-11ea-9c31-84ef520817f2.jpg\" align=\"right\" width = 60%/>"
      ]
    },
    {
      "cell_type": "code",
      "metadata": {
        "id": "GrDx4Z5RvTzg",
        "colab": {
          "base_uri": "https://localhost:8080/"
        },
        "outputId": "912ad66a-0574-415b-bdb0-2d561c0d9ce5"
      },
      "source": [
        "#@title Credenciales Google Earth Engine\n",
        "import ee\n",
        "ee.Authenticate()\n",
        "ee.Initialize(project = 'ee-jtantaroman')"
      ],
      "execution_count": 1,
      "outputs": [
        {
          "output_type": "stream",
          "name": "stderr",
          "text": [
            "*** Earth Engine *** Share your feedback by taking our Annual Developer Satisfaction Survey: https://google.qualtrics.com/jfe/form/SV_0JLhFqfSY1uiEaW?source=Init\n"
          ]
        }
      ]
    },
    {
      "cell_type": "code",
      "metadata": {
        "id": "hH5N4i30vbvr",
        "cellView": "form"
      },
      "source": [
        "#@title mapdisplay: Crea mapas interactivos usando folium\n",
        "import folium\n",
        "def mapdisplay(center, dicc, Tiles=\"OpensTreetMap\",zoom_start=10):\n",
        "    '''\n",
        "    :param center: Center of the map (Latitude and Longitude).\n",
        "    :param dicc: Earth Engine Geometries or Tiles dictionary\n",
        "    :param Tiles: Mapbox Bright,Mapbox Control Room,Stamen Terrain,Stamen Toner,stamenwatercolor,cartodbpositron.\n",
        "    :zoom_start: Initial zoom level for the map.\n",
        "    :return: A folium.Map object.\n",
        "    '''\n",
        "    center = center[::-1]\n",
        "    mapViz = folium.Map(location=center,tiles=Tiles, zoom_start=zoom_start)\n",
        "    for k,v in dicc.items():\n",
        "      if ee.image.Image in [type(x) for x in v.values()]:\n",
        "        folium.TileLayer(\n",
        "            tiles = v[\"tile_fetcher\"].url_format,\n",
        "            attr  = 'Google Earth Engine',\n",
        "            overlay =True,\n",
        "            name  = k\n",
        "          ).add_to(mapViz)\n",
        "      else:\n",
        "        folium.GeoJson(\n",
        "        data = v,\n",
        "        name = k\n",
        "          ).add_to(mapViz)\n",
        "    mapViz.add_child(folium.LayerControl())\n",
        "    return mapViz"
      ],
      "execution_count": 2,
      "outputs": []
    },
    {
      "cell_type": "markdown",
      "metadata": {
        "id": "bHdKfpEj9WN2"
      },
      "source": [
        "En general, la **composicion** se refiere al proceso de combinar imagenes superpuestas espacialmente en una sola imagen basada en una funcion de agregacion. El **mosaico** se refiere al proceso de ensamblar conjuntos de datos de imagenes **espacialmente** para producir una imagen espacialmente continua. En Earth Engine, estos terminos se usan indistintamente, aunque se admiten tanto la composicion como el mosaico. Por ejemplo, considere la tarea de **componer varias imagenes en la misma ubicacion**. El siguiente ejemplo demuestra como hacer un compuesto cuya funcion de agregacion es tomar el maximo valor:"
      ]
    },
    {
      "cell_type": "code",
      "metadata": {
        "id": "s-S-W1hCvLCr",
        "colab": {
          "base_uri": "https://localhost:8080/",
          "height": 419
        },
        "outputId": "5e041f22-f3bd-4802-c991-2f122a864d18"
      },
      "source": [
        "# Cargue los datos NAIP\n",
        "naip2004_2012 = ee.ImageCollection('USDA/NAIP/DOQQ')\\\n",
        "                  .filterBounds(ee.Geometry.Point(-71.08841, 42.39823))\\\n",
        "                  .filterDate('2004-07-01', '2012-12-31')\\\n",
        "                  .select(['R', 'G', 'B'])\n",
        "\n",
        "# Realize un \"composite\" temporal de las imagenes con una funcion de valor maximo.\n",
        "composite = naip2004_2012.max()\n",
        "center = [-71.12532, 42.3712]\n",
        "mapdisplay(center, {'max value composite':composite.getMapId()},zoom_start=12)"
      ],
      "execution_count": 3,
      "outputs": [
        {
          "output_type": "execute_result",
          "data": {
            "text/plain": [
              "<folium.folium.Map at 0x799e28d6f760>"
            ],
            "text/html": [
              "<div style=\"width:100%;\"><div style=\"position:relative;width:100%;height:0;padding-bottom:60%;\"><span style=\"color:#565656\">Make this Notebook Trusted to load map: File -> Trust Notebook</span><iframe srcdoc=\"&lt;!DOCTYPE html&gt;\n",
              "&lt;html&gt;\n",
              "&lt;head&gt;\n",
              "    \n",
              "    &lt;meta http-equiv=&quot;content-type&quot; content=&quot;text/html; charset=UTF-8&quot; /&gt;\n",
              "    \n",
              "        &lt;script&gt;\n",
              "            L_NO_TOUCH = false;\n",
              "            L_DISABLE_3D = false;\n",
              "        &lt;/script&gt;\n",
              "    \n",
              "    &lt;style&gt;html, body {width: 100%;height: 100%;margin: 0;padding: 0;}&lt;/style&gt;\n",
              "    &lt;style&gt;#map {position:absolute;top:0;bottom:0;right:0;left:0;}&lt;/style&gt;\n",
              "    &lt;script src=&quot;https://cdn.jsdelivr.net/npm/leaflet@1.9.3/dist/leaflet.js&quot;&gt;&lt;/script&gt;\n",
              "    &lt;script src=&quot;https://code.jquery.com/jquery-3.7.1.min.js&quot;&gt;&lt;/script&gt;\n",
              "    &lt;script src=&quot;https://cdn.jsdelivr.net/npm/bootstrap@5.2.2/dist/js/bootstrap.bundle.min.js&quot;&gt;&lt;/script&gt;\n",
              "    &lt;script src=&quot;https://cdnjs.cloudflare.com/ajax/libs/Leaflet.awesome-markers/2.0.2/leaflet.awesome-markers.js&quot;&gt;&lt;/script&gt;\n",
              "    &lt;link rel=&quot;stylesheet&quot; href=&quot;https://cdn.jsdelivr.net/npm/leaflet@1.9.3/dist/leaflet.css&quot;/&gt;\n",
              "    &lt;link rel=&quot;stylesheet&quot; href=&quot;https://cdn.jsdelivr.net/npm/bootstrap@5.2.2/dist/css/bootstrap.min.css&quot;/&gt;\n",
              "    &lt;link rel=&quot;stylesheet&quot; href=&quot;https://netdna.bootstrapcdn.com/bootstrap/3.0.0/css/bootstrap-glyphicons.css&quot;/&gt;\n",
              "    &lt;link rel=&quot;stylesheet&quot; href=&quot;https://cdn.jsdelivr.net/npm/@fortawesome/fontawesome-free@6.2.0/css/all.min.css&quot;/&gt;\n",
              "    &lt;link rel=&quot;stylesheet&quot; href=&quot;https://cdnjs.cloudflare.com/ajax/libs/Leaflet.awesome-markers/2.0.2/leaflet.awesome-markers.css&quot;/&gt;\n",
              "    &lt;link rel=&quot;stylesheet&quot; href=&quot;https://cdn.jsdelivr.net/gh/python-visualization/folium/folium/templates/leaflet.awesome.rotate.min.css&quot;/&gt;\n",
              "    \n",
              "            &lt;meta name=&quot;viewport&quot; content=&quot;width=device-width,\n",
              "                initial-scale=1.0, maximum-scale=1.0, user-scalable=no&quot; /&gt;\n",
              "            &lt;style&gt;\n",
              "                #map_b57295990a5992a77b3ff027d499d05e {\n",
              "                    position: relative;\n",
              "                    width: 100.0%;\n",
              "                    height: 100.0%;\n",
              "                    left: 0.0%;\n",
              "                    top: 0.0%;\n",
              "                }\n",
              "                .leaflet-container { font-size: 1rem; }\n",
              "            &lt;/style&gt;\n",
              "        \n",
              "&lt;/head&gt;\n",
              "&lt;body&gt;\n",
              "    \n",
              "    \n",
              "            &lt;div class=&quot;folium-map&quot; id=&quot;map_b57295990a5992a77b3ff027d499d05e&quot; &gt;&lt;/div&gt;\n",
              "        \n",
              "&lt;/body&gt;\n",
              "&lt;script&gt;\n",
              "    \n",
              "    \n",
              "            var map_b57295990a5992a77b3ff027d499d05e = L.map(\n",
              "                &quot;map_b57295990a5992a77b3ff027d499d05e&quot;,\n",
              "                {\n",
              "                    center: [42.3712, -71.12532],\n",
              "                    crs: L.CRS.EPSG3857,\n",
              "                    zoom: 12,\n",
              "                    zoomControl: true,\n",
              "                    preferCanvas: false,\n",
              "                }\n",
              "            );\n",
              "\n",
              "            \n",
              "\n",
              "        \n",
              "    \n",
              "            var tile_layer_3ebbb46730848ac89f690c4ffabc336d = L.tileLayer(\n",
              "                &quot;https://tile.openstreetmap.org/{z}/{x}/{y}.png&quot;,\n",
              "                {&quot;attribution&quot;: &quot;\\u0026copy; \\u003ca href=\\&quot;https://www.openstreetmap.org/copyright\\&quot;\\u003eOpenStreetMap\\u003c/a\\u003e contributors&quot;, &quot;detectRetina&quot;: false, &quot;maxNativeZoom&quot;: 19, &quot;maxZoom&quot;: 19, &quot;minZoom&quot;: 0, &quot;noWrap&quot;: false, &quot;opacity&quot;: 1, &quot;subdomains&quot;: &quot;abc&quot;, &quot;tms&quot;: false}\n",
              "            );\n",
              "        \n",
              "    \n",
              "            tile_layer_3ebbb46730848ac89f690c4ffabc336d.addTo(map_b57295990a5992a77b3ff027d499d05e);\n",
              "        \n",
              "    \n",
              "            var tile_layer_fa7ae88a272dc3b9cefccab41df40f16 = L.tileLayer(\n",
              "                &quot;https://earthengine.googleapis.com/v1/projects/ee-jtantaroman/maps/0bf895d12e594740c9d88c4fca6f664d-62796607d8826ca8b9dbd8c58ed49e08/tiles/{z}/{x}/{y}&quot;,\n",
              "                {&quot;attribution&quot;: &quot;Google Earth Engine&quot;, &quot;detectRetina&quot;: false, &quot;maxZoom&quot;: 18, &quot;minZoom&quot;: 0, &quot;noWrap&quot;: false, &quot;opacity&quot;: 1, &quot;subdomains&quot;: &quot;abc&quot;, &quot;tms&quot;: false}\n",
              "            );\n",
              "        \n",
              "    \n",
              "            tile_layer_fa7ae88a272dc3b9cefccab41df40f16.addTo(map_b57295990a5992a77b3ff027d499d05e);\n",
              "        \n",
              "    \n",
              "            var layer_control_3678ae72f59970c6db4a20c779612506_layers = {\n",
              "                base_layers : {\n",
              "                    &quot;openstreetmap&quot; : tile_layer_3ebbb46730848ac89f690c4ffabc336d,\n",
              "                },\n",
              "                overlays :  {\n",
              "                    &quot;max value composite&quot; : tile_layer_fa7ae88a272dc3b9cefccab41df40f16,\n",
              "                },\n",
              "            };\n",
              "            let layer_control_3678ae72f59970c6db4a20c779612506 = L.control.layers(\n",
              "                layer_control_3678ae72f59970c6db4a20c779612506_layers.base_layers,\n",
              "                layer_control_3678ae72f59970c6db4a20c779612506_layers.overlays,\n",
              "                {&quot;autoZIndex&quot;: true, &quot;collapsed&quot;: true, &quot;position&quot;: &quot;topright&quot;}\n",
              "            ).addTo(map_b57295990a5992a77b3ff027d499d05e);\n",
              "\n",
              "        \n",
              "&lt;/script&gt;\n",
              "&lt;/html&gt;\" style=\"position:absolute;width:100%;height:100%;left:0;top:0;border:none !important;\" allowfullscreen webkitallowfullscreen mozallowfullscreen></iframe></div></div>"
            ]
          },
          "metadata": {},
          "execution_count": 3
        }
      ]
    },
    {
      "cell_type": "markdown",
      "metadata": {
        "id": "kiv2Qnng_P1G"
      },
      "source": [
        "Considere la necesidad de mosaico para cuatro diferentes escenas realizadas al mismo tiempo, pero en diferentes ubicaciones. El siguiente ejemplo demuestra que usando el metodo `imageCollection.mosaic()` puede solucionarlo:"
      ]
    },
    {
      "cell_type": "code",
      "metadata": {
        "id": "2AzKz0QkBT3W",
        "colab": {
          "base_uri": "https://localhost:8080/",
          "height": 419
        },
        "outputId": "ce6ce37d-d71d-4054-bb2d-28a646e7b825"
      },
      "source": [
        "#El poligono en azul es nuestro ambito de estudio y vemos que es necesario mas de una imagen para poder traslapar completamente nuestro ambito\n",
        "roi = ee.Geometry.Rectangle(-71.17965, 42.35125, -71.08824, 42.40584)\n",
        "mapdisplay(center,{'roi':roi.getInfo(), 'composite_01':composite.getMapId()}, zoom_start=12)"
      ],
      "execution_count": 4,
      "outputs": [
        {
          "output_type": "execute_result",
          "data": {
            "text/plain": [
              "<folium.folium.Map at 0x799e13a7d5d0>"
            ],
            "text/html": [
              "<div style=\"width:100%;\"><div style=\"position:relative;width:100%;height:0;padding-bottom:60%;\"><span style=\"color:#565656\">Make this Notebook Trusted to load map: File -> Trust Notebook</span><iframe srcdoc=\"&lt;!DOCTYPE html&gt;\n",
              "&lt;html&gt;\n",
              "&lt;head&gt;\n",
              "    \n",
              "    &lt;meta http-equiv=&quot;content-type&quot; content=&quot;text/html; charset=UTF-8&quot; /&gt;\n",
              "    \n",
              "        &lt;script&gt;\n",
              "            L_NO_TOUCH = false;\n",
              "            L_DISABLE_3D = false;\n",
              "        &lt;/script&gt;\n",
              "    \n",
              "    &lt;style&gt;html, body {width: 100%;height: 100%;margin: 0;padding: 0;}&lt;/style&gt;\n",
              "    &lt;style&gt;#map {position:absolute;top:0;bottom:0;right:0;left:0;}&lt;/style&gt;\n",
              "    &lt;script src=&quot;https://cdn.jsdelivr.net/npm/leaflet@1.9.3/dist/leaflet.js&quot;&gt;&lt;/script&gt;\n",
              "    &lt;script src=&quot;https://code.jquery.com/jquery-3.7.1.min.js&quot;&gt;&lt;/script&gt;\n",
              "    &lt;script src=&quot;https://cdn.jsdelivr.net/npm/bootstrap@5.2.2/dist/js/bootstrap.bundle.min.js&quot;&gt;&lt;/script&gt;\n",
              "    &lt;script src=&quot;https://cdnjs.cloudflare.com/ajax/libs/Leaflet.awesome-markers/2.0.2/leaflet.awesome-markers.js&quot;&gt;&lt;/script&gt;\n",
              "    &lt;link rel=&quot;stylesheet&quot; href=&quot;https://cdn.jsdelivr.net/npm/leaflet@1.9.3/dist/leaflet.css&quot;/&gt;\n",
              "    &lt;link rel=&quot;stylesheet&quot; href=&quot;https://cdn.jsdelivr.net/npm/bootstrap@5.2.2/dist/css/bootstrap.min.css&quot;/&gt;\n",
              "    &lt;link rel=&quot;stylesheet&quot; href=&quot;https://netdna.bootstrapcdn.com/bootstrap/3.0.0/css/bootstrap-glyphicons.css&quot;/&gt;\n",
              "    &lt;link rel=&quot;stylesheet&quot; href=&quot;https://cdn.jsdelivr.net/npm/@fortawesome/fontawesome-free@6.2.0/css/all.min.css&quot;/&gt;\n",
              "    &lt;link rel=&quot;stylesheet&quot; href=&quot;https://cdnjs.cloudflare.com/ajax/libs/Leaflet.awesome-markers/2.0.2/leaflet.awesome-markers.css&quot;/&gt;\n",
              "    &lt;link rel=&quot;stylesheet&quot; href=&quot;https://cdn.jsdelivr.net/gh/python-visualization/folium/folium/templates/leaflet.awesome.rotate.min.css&quot;/&gt;\n",
              "    \n",
              "            &lt;meta name=&quot;viewport&quot; content=&quot;width=device-width,\n",
              "                initial-scale=1.0, maximum-scale=1.0, user-scalable=no&quot; /&gt;\n",
              "            &lt;style&gt;\n",
              "                #map_6c4834eff964d0c5c42a74b408935ef7 {\n",
              "                    position: relative;\n",
              "                    width: 100.0%;\n",
              "                    height: 100.0%;\n",
              "                    left: 0.0%;\n",
              "                    top: 0.0%;\n",
              "                }\n",
              "                .leaflet-container { font-size: 1rem; }\n",
              "            &lt;/style&gt;\n",
              "        \n",
              "&lt;/head&gt;\n",
              "&lt;body&gt;\n",
              "    \n",
              "    \n",
              "            &lt;div class=&quot;folium-map&quot; id=&quot;map_6c4834eff964d0c5c42a74b408935ef7&quot; &gt;&lt;/div&gt;\n",
              "        \n",
              "&lt;/body&gt;\n",
              "&lt;script&gt;\n",
              "    \n",
              "    \n",
              "            var map_6c4834eff964d0c5c42a74b408935ef7 = L.map(\n",
              "                &quot;map_6c4834eff964d0c5c42a74b408935ef7&quot;,\n",
              "                {\n",
              "                    center: [42.3712, -71.12532],\n",
              "                    crs: L.CRS.EPSG3857,\n",
              "                    zoom: 12,\n",
              "                    zoomControl: true,\n",
              "                    preferCanvas: false,\n",
              "                }\n",
              "            );\n",
              "\n",
              "            \n",
              "\n",
              "        \n",
              "    \n",
              "            var tile_layer_327e74ac6bd086e6bc18338f06316e2a = L.tileLayer(\n",
              "                &quot;https://tile.openstreetmap.org/{z}/{x}/{y}.png&quot;,\n",
              "                {&quot;attribution&quot;: &quot;\\u0026copy; \\u003ca href=\\&quot;https://www.openstreetmap.org/copyright\\&quot;\\u003eOpenStreetMap\\u003c/a\\u003e contributors&quot;, &quot;detectRetina&quot;: false, &quot;maxNativeZoom&quot;: 19, &quot;maxZoom&quot;: 19, &quot;minZoom&quot;: 0, &quot;noWrap&quot;: false, &quot;opacity&quot;: 1, &quot;subdomains&quot;: &quot;abc&quot;, &quot;tms&quot;: false}\n",
              "            );\n",
              "        \n",
              "    \n",
              "            tile_layer_327e74ac6bd086e6bc18338f06316e2a.addTo(map_6c4834eff964d0c5c42a74b408935ef7);\n",
              "        \n",
              "    \n",
              "\n",
              "        function geo_json_39d008daf8caace0d485f021277df5b3_onEachFeature(feature, layer) {\n",
              "            layer.on({\n",
              "            });\n",
              "        };\n",
              "        var geo_json_39d008daf8caace0d485f021277df5b3 = L.geoJson(null, {\n",
              "                onEachFeature: geo_json_39d008daf8caace0d485f021277df5b3_onEachFeature,\n",
              "            \n",
              "        });\n",
              "\n",
              "        function geo_json_39d008daf8caace0d485f021277df5b3_add (data) {\n",
              "            geo_json_39d008daf8caace0d485f021277df5b3\n",
              "                .addData(data);\n",
              "        }\n",
              "            geo_json_39d008daf8caace0d485f021277df5b3_add({&quot;coordinates&quot;: [[[-71.17965, 42.35125], [-71.08824, 42.35125], [-71.08824, 42.40584], [-71.17965, 42.40584], [-71.17965, 42.35125]]], &quot;type&quot;: &quot;Polygon&quot;});\n",
              "        geo_json_39d008daf8caace0d485f021277df5b3.setStyle(function(feature) {return feature.properties.style;});\n",
              "\n",
              "        \n",
              "    \n",
              "            geo_json_39d008daf8caace0d485f021277df5b3.addTo(map_6c4834eff964d0c5c42a74b408935ef7);\n",
              "        \n",
              "    \n",
              "            var tile_layer_e88d675eb62f972caffaf2a548026562 = L.tileLayer(\n",
              "                &quot;https://earthengine.googleapis.com/v1/projects/ee-jtantaroman/maps/0bf895d12e594740c9d88c4fca6f664d-1bd03b96f7edf6d9ccb15f3efcd7695a/tiles/{z}/{x}/{y}&quot;,\n",
              "                {&quot;attribution&quot;: &quot;Google Earth Engine&quot;, &quot;detectRetina&quot;: false, &quot;maxZoom&quot;: 18, &quot;minZoom&quot;: 0, &quot;noWrap&quot;: false, &quot;opacity&quot;: 1, &quot;subdomains&quot;: &quot;abc&quot;, &quot;tms&quot;: false}\n",
              "            );\n",
              "        \n",
              "    \n",
              "            tile_layer_e88d675eb62f972caffaf2a548026562.addTo(map_6c4834eff964d0c5c42a74b408935ef7);\n",
              "        \n",
              "    \n",
              "            var layer_control_3b6a229bb9baa913f1caf0c5321d704d_layers = {\n",
              "                base_layers : {\n",
              "                    &quot;openstreetmap&quot; : tile_layer_327e74ac6bd086e6bc18338f06316e2a,\n",
              "                },\n",
              "                overlays :  {\n",
              "                    &quot;roi&quot; : geo_json_39d008daf8caace0d485f021277df5b3,\n",
              "                    &quot;composite_01&quot; : tile_layer_e88d675eb62f972caffaf2a548026562,\n",
              "                },\n",
              "            };\n",
              "            let layer_control_3b6a229bb9baa913f1caf0c5321d704d = L.control.layers(\n",
              "                layer_control_3b6a229bb9baa913f1caf0c5321d704d_layers.base_layers,\n",
              "                layer_control_3b6a229bb9baa913f1caf0c5321d704d_layers.overlays,\n",
              "                {&quot;autoZIndex&quot;: true, &quot;collapsed&quot;: true, &quot;position&quot;: &quot;topright&quot;}\n",
              "            ).addTo(map_6c4834eff964d0c5c42a74b408935ef7);\n",
              "\n",
              "        \n",
              "&lt;/script&gt;\n",
              "&lt;/html&gt;\" style=\"position:absolute;width:100%;height:100%;left:0;top:0;border:none !important;\" allowfullscreen webkitallowfullscreen mozallowfullscreen></iframe></div></div>"
            ]
          },
          "metadata": {},
          "execution_count": 4
        }
      ]
    },
    {
      "cell_type": "code",
      "metadata": {
        "id": "PhWkW2m0BCJu",
        "colab": {
          "base_uri": "https://localhost:8080/",
          "height": 419
        },
        "outputId": "7c067929-5e54-4a3e-df39-652e547ceb73"
      },
      "source": [
        "# Cargue los datos NAIP, aca al usar filter bounds estamos cargando todas las imagenes que traslapen con nuestro ambito\n",
        "naip2012 = ee.ImageCollection('USDA/NAIP/DOQQ')\\\n",
        "             .filterBounds(roi)\\\n",
        "             .filterDate('2012-01-01', '2012-12-31')\n",
        "\n",
        "# Creamos un mosaico espacial y displayamos, con esto unimos (mosaico) todas las imagenes\n",
        "mosaic = naip2012.mosaic() #si no performamos el mosaico podemos ver el mismo resultado, visualmente se ve igual, pero en realidad al hacer mosaico y descargar nos descargara solo 1 imagen, a diferencia de antes del mosaico que nos descargaria varias imagenes\n",
        "center = [-71.12532, 42.3712]\n",
        "mapdisplay(center,{'roi':roi.getInfo(), 'spatial mosaic':mosaic.getMapId()},zoom_start=12)"
      ],
      "execution_count": 5,
      "outputs": [
        {
          "output_type": "execute_result",
          "data": {
            "text/plain": [
              "<folium.folium.Map at 0x799deafbe1d0>"
            ],
            "text/html": [
              "<div style=\"width:100%;\"><div style=\"position:relative;width:100%;height:0;padding-bottom:60%;\"><span style=\"color:#565656\">Make this Notebook Trusted to load map: File -> Trust Notebook</span><iframe srcdoc=\"&lt;!DOCTYPE html&gt;\n",
              "&lt;html&gt;\n",
              "&lt;head&gt;\n",
              "    \n",
              "    &lt;meta http-equiv=&quot;content-type&quot; content=&quot;text/html; charset=UTF-8&quot; /&gt;\n",
              "    \n",
              "        &lt;script&gt;\n",
              "            L_NO_TOUCH = false;\n",
              "            L_DISABLE_3D = false;\n",
              "        &lt;/script&gt;\n",
              "    \n",
              "    &lt;style&gt;html, body {width: 100%;height: 100%;margin: 0;padding: 0;}&lt;/style&gt;\n",
              "    &lt;style&gt;#map {position:absolute;top:0;bottom:0;right:0;left:0;}&lt;/style&gt;\n",
              "    &lt;script src=&quot;https://cdn.jsdelivr.net/npm/leaflet@1.9.3/dist/leaflet.js&quot;&gt;&lt;/script&gt;\n",
              "    &lt;script src=&quot;https://code.jquery.com/jquery-3.7.1.min.js&quot;&gt;&lt;/script&gt;\n",
              "    &lt;script src=&quot;https://cdn.jsdelivr.net/npm/bootstrap@5.2.2/dist/js/bootstrap.bundle.min.js&quot;&gt;&lt;/script&gt;\n",
              "    &lt;script src=&quot;https://cdnjs.cloudflare.com/ajax/libs/Leaflet.awesome-markers/2.0.2/leaflet.awesome-markers.js&quot;&gt;&lt;/script&gt;\n",
              "    &lt;link rel=&quot;stylesheet&quot; href=&quot;https://cdn.jsdelivr.net/npm/leaflet@1.9.3/dist/leaflet.css&quot;/&gt;\n",
              "    &lt;link rel=&quot;stylesheet&quot; href=&quot;https://cdn.jsdelivr.net/npm/bootstrap@5.2.2/dist/css/bootstrap.min.css&quot;/&gt;\n",
              "    &lt;link rel=&quot;stylesheet&quot; href=&quot;https://netdna.bootstrapcdn.com/bootstrap/3.0.0/css/bootstrap-glyphicons.css&quot;/&gt;\n",
              "    &lt;link rel=&quot;stylesheet&quot; href=&quot;https://cdn.jsdelivr.net/npm/@fortawesome/fontawesome-free@6.2.0/css/all.min.css&quot;/&gt;\n",
              "    &lt;link rel=&quot;stylesheet&quot; href=&quot;https://cdnjs.cloudflare.com/ajax/libs/Leaflet.awesome-markers/2.0.2/leaflet.awesome-markers.css&quot;/&gt;\n",
              "    &lt;link rel=&quot;stylesheet&quot; href=&quot;https://cdn.jsdelivr.net/gh/python-visualization/folium/folium/templates/leaflet.awesome.rotate.min.css&quot;/&gt;\n",
              "    \n",
              "            &lt;meta name=&quot;viewport&quot; content=&quot;width=device-width,\n",
              "                initial-scale=1.0, maximum-scale=1.0, user-scalable=no&quot; /&gt;\n",
              "            &lt;style&gt;\n",
              "                #map_3600e343fb74114fa303d897f21bb54b {\n",
              "                    position: relative;\n",
              "                    width: 100.0%;\n",
              "                    height: 100.0%;\n",
              "                    left: 0.0%;\n",
              "                    top: 0.0%;\n",
              "                }\n",
              "                .leaflet-container { font-size: 1rem; }\n",
              "            &lt;/style&gt;\n",
              "        \n",
              "&lt;/head&gt;\n",
              "&lt;body&gt;\n",
              "    \n",
              "    \n",
              "            &lt;div class=&quot;folium-map&quot; id=&quot;map_3600e343fb74114fa303d897f21bb54b&quot; &gt;&lt;/div&gt;\n",
              "        \n",
              "&lt;/body&gt;\n",
              "&lt;script&gt;\n",
              "    \n",
              "    \n",
              "            var map_3600e343fb74114fa303d897f21bb54b = L.map(\n",
              "                &quot;map_3600e343fb74114fa303d897f21bb54b&quot;,\n",
              "                {\n",
              "                    center: [42.3712, -71.12532],\n",
              "                    crs: L.CRS.EPSG3857,\n",
              "                    zoom: 12,\n",
              "                    zoomControl: true,\n",
              "                    preferCanvas: false,\n",
              "                }\n",
              "            );\n",
              "\n",
              "            \n",
              "\n",
              "        \n",
              "    \n",
              "            var tile_layer_0fc517cd1d7881a4c61b42528f416f3f = L.tileLayer(\n",
              "                &quot;https://tile.openstreetmap.org/{z}/{x}/{y}.png&quot;,\n",
              "                {&quot;attribution&quot;: &quot;\\u0026copy; \\u003ca href=\\&quot;https://www.openstreetmap.org/copyright\\&quot;\\u003eOpenStreetMap\\u003c/a\\u003e contributors&quot;, &quot;detectRetina&quot;: false, &quot;maxNativeZoom&quot;: 19, &quot;maxZoom&quot;: 19, &quot;minZoom&quot;: 0, &quot;noWrap&quot;: false, &quot;opacity&quot;: 1, &quot;subdomains&quot;: &quot;abc&quot;, &quot;tms&quot;: false}\n",
              "            );\n",
              "        \n",
              "    \n",
              "            tile_layer_0fc517cd1d7881a4c61b42528f416f3f.addTo(map_3600e343fb74114fa303d897f21bb54b);\n",
              "        \n",
              "    \n",
              "\n",
              "        function geo_json_2ff7c871e32c3283ee38802d32827126_onEachFeature(feature, layer) {\n",
              "            layer.on({\n",
              "            });\n",
              "        };\n",
              "        var geo_json_2ff7c871e32c3283ee38802d32827126 = L.geoJson(null, {\n",
              "                onEachFeature: geo_json_2ff7c871e32c3283ee38802d32827126_onEachFeature,\n",
              "            \n",
              "        });\n",
              "\n",
              "        function geo_json_2ff7c871e32c3283ee38802d32827126_add (data) {\n",
              "            geo_json_2ff7c871e32c3283ee38802d32827126\n",
              "                .addData(data);\n",
              "        }\n",
              "            geo_json_2ff7c871e32c3283ee38802d32827126_add({&quot;coordinates&quot;: [[[-71.17965, 42.35125], [-71.08824, 42.35125], [-71.08824, 42.40584], [-71.17965, 42.40584], [-71.17965, 42.35125]]], &quot;type&quot;: &quot;Polygon&quot;});\n",
              "        geo_json_2ff7c871e32c3283ee38802d32827126.setStyle(function(feature) {return feature.properties.style;});\n",
              "\n",
              "        \n",
              "    \n",
              "            geo_json_2ff7c871e32c3283ee38802d32827126.addTo(map_3600e343fb74114fa303d897f21bb54b);\n",
              "        \n",
              "    \n",
              "            var tile_layer_92f9703bbe6994bd8619ba1a2d0ccd56 = L.tileLayer(\n",
              "                &quot;https://earthengine.googleapis.com/v1/projects/ee-jtantaroman/maps/7d95093737c58f061eb563331cc8d41c-dbf9d14b4ff5d44b0264e6e7638a8fa4/tiles/{z}/{x}/{y}&quot;,\n",
              "                {&quot;attribution&quot;: &quot;Google Earth Engine&quot;, &quot;detectRetina&quot;: false, &quot;maxZoom&quot;: 18, &quot;minZoom&quot;: 0, &quot;noWrap&quot;: false, &quot;opacity&quot;: 1, &quot;subdomains&quot;: &quot;abc&quot;, &quot;tms&quot;: false}\n",
              "            );\n",
              "        \n",
              "    \n",
              "            tile_layer_92f9703bbe6994bd8619ba1a2d0ccd56.addTo(map_3600e343fb74114fa303d897f21bb54b);\n",
              "        \n",
              "    \n",
              "            var layer_control_d13a240e6ee308e021c9c8558588a922_layers = {\n",
              "                base_layers : {\n",
              "                    &quot;openstreetmap&quot; : tile_layer_0fc517cd1d7881a4c61b42528f416f3f,\n",
              "                },\n",
              "                overlays :  {\n",
              "                    &quot;roi&quot; : geo_json_2ff7c871e32c3283ee38802d32827126,\n",
              "                    &quot;spatial mosaic&quot; : tile_layer_92f9703bbe6994bd8619ba1a2d0ccd56,\n",
              "                },\n",
              "            };\n",
              "            let layer_control_d13a240e6ee308e021c9c8558588a922 = L.control.layers(\n",
              "                layer_control_d13a240e6ee308e021c9c8558588a922_layers.base_layers,\n",
              "                layer_control_d13a240e6ee308e021c9c8558588a922_layers.overlays,\n",
              "                {&quot;autoZIndex&quot;: true, &quot;collapsed&quot;: true, &quot;position&quot;: &quot;topright&quot;}\n",
              "            ).addTo(map_3600e343fb74114fa303d897f21bb54b);\n",
              "\n",
              "        \n",
              "&lt;/script&gt;\n",
              "&lt;/html&gt;\" style=\"position:absolute;width:100%;height:100%;left:0;top:0;border:none !important;\" allowfullscreen webkitallowfullscreen mozallowfullscreen></iframe></div></div>"
            ]
          },
          "metadata": {},
          "execution_count": 5
        }
      ]
    },
    {
      "cell_type": "markdown",
      "metadata": {
        "id": "jqQYfxW7DtW5"
      },
      "source": [
        "### **Ejercicio:**\n",
        "**Crear un composite del año 2018, en la selva de Peru, considerando los datos de las imagenes Landsat. Automatizar el proceso mediante una funcion.**"
      ]
    },
    {
      "cell_type": "code",
      "metadata": {
        "id": "wz7-pscsKC0z"
      },
      "source": [
        "#  Parametros globales\n",
        "range_date = ['2018-01-01', '2018-12-31']\n",
        "center = [-72.628,-10.609]\n",
        "roi = ee.Geometry.Point(center)\n",
        "# Parametros de visualizacion de landat7 landsat8 y landast7 y 8\n",
        "l7_viz_params = {'bands':['SR_B5','SR_B4','SR_B3'],'min':0,'max': 0.4, 'gamma':1.2}\n",
        "l8_viz_params = {'bands':['B6','B5','B4'],'min':0,'max': 4000, 'gamma':1.2}\n",
        "l78_viz_params = {'bands':['SWIR','NIR','RED'],'min':0,'max': 4000, 'gamma':1.2}"
      ],
      "execution_count": 26,
      "outputs": []
    },
    {
      "cell_type": "markdown",
      "metadata": {
        "id": "F3rowIXQyZs4"
      },
      "source": [
        "Funcion para obtener el tiempo de cada imagen"
      ]
    },
    {
      "cell_type": "code",
      "metadata": {
        "id": "cfJUvCtxKl8m"
      },
      "source": [
        "from datetime import datetime as dt\n",
        "def get_dates(ic):\n",
        "  dates = ic.aggregate_array('system:time_start').getInfo()\n",
        "  anonym = lambda x: dt.utcfromtimestamp(x/1000).strftime('%Y-%m-%d %H:%M:%S')\n",
        "  return list(map(anonym, dates))"
      ],
      "execution_count": 27,
      "outputs": []
    },
    {
      "cell_type": "code",
      "source": [
        "## Ahora ha cambiado L7 de C01 a C02 y se necesita aplicar los factores de escala en la cual se guardan los datos\n",
        "# https://developers.google.com/earth-engine/datasets/catalog/LANDSAT_LE07_C02_T1_L2#image-properties\n",
        "def applyScaleFactors(image):\n",
        "  opticalBands = image.select('SR_B.').multiply(0.0000275).add(-0.2)\n",
        "  thermalBand = image.select('ST_B6').multiply(0.00341802).add(149.0)\n",
        "\n",
        "  return image.addBands(opticalBands, None, True)\\\n",
        "              .addBands(thermalBand, None, True)"
      ],
      "metadata": {
        "id": "RR5KlEyKrI6m"
      },
      "execution_count": 28,
      "outputs": []
    },
    {
      "cell_type": "markdown",
      "metadata": {
        "id": "7fK_1vuKJ1Rg"
      },
      "source": [
        "##### **Landsat 7 - sin mascara**\n",
        "\n",
        "Vemos que hay muchas nubes en la imagen y sombras es por eso que sera necesario aplicar una mascara"
      ]
    },
    {
      "cell_type": "code",
      "metadata": {
        "id": "-z2YdhfB5Fbk",
        "colab": {
          "base_uri": "https://localhost:8080/"
        },
        "outputId": "2d3fcda1-7691-4cd3-c401-e40c5379a3d1"
      },
      "source": [
        "l7 = ee.ImageCollection('LANDSAT/LE07/C02/T1_L2')\\\n",
        "       .filterBounds(roi)\\\n",
        "       .filterDate(range_date[0], range_date[1])\\\n",
        "       .filterMetadata('CLOUD_COVER','less_than',20)\\\n",
        "       .map(applyScaleFactors)\n",
        "\n",
        "#Además estamos viendo que hay pocas imagenes para la selva peruana, solo 4 imagenes cumplen con la covertura de nube menor al 20%\n",
        "get_dates(l7)"
      ],
      "execution_count": 38,
      "outputs": [
        {
          "output_type": "execute_result",
          "data": {
            "text/plain": [
              "['2018-07-26 14:57:07',\n",
              " '2018-08-11 14:56:49',\n",
              " '2018-08-27 14:56:30',\n",
              " '2018-09-12 14:56:10']"
            ]
          },
          "metadata": {},
          "execution_count": 38
        }
      ]
    },
    {
      "cell_type": "code",
      "metadata": {
        "id": "d2Wjnnt_vexS",
        "colab": {
          "base_uri": "https://localhost:8080/",
          "height": 419
        },
        "outputId": "5696ec05-f405-48be-a1c1-d70808291ed9"
      },
      "source": [
        "# Displaye los resultados\n",
        "to_plot_median = l7.median().getMapId(l7_viz_params)\n",
        "mapdisplay(center,{'median_l7_cloud':to_plot_median})"
      ],
      "execution_count": 30,
      "outputs": [
        {
          "output_type": "execute_result",
          "data": {
            "text/plain": [
              "<folium.folium.Map at 0x799deafd9780>"
            ],
            "text/html": [
              "<div style=\"width:100%;\"><div style=\"position:relative;width:100%;height:0;padding-bottom:60%;\"><span style=\"color:#565656\">Make this Notebook Trusted to load map: File -> Trust Notebook</span><iframe srcdoc=\"&lt;!DOCTYPE html&gt;\n",
              "&lt;html&gt;\n",
              "&lt;head&gt;\n",
              "    \n",
              "    &lt;meta http-equiv=&quot;content-type&quot; content=&quot;text/html; charset=UTF-8&quot; /&gt;\n",
              "    \n",
              "        &lt;script&gt;\n",
              "            L_NO_TOUCH = false;\n",
              "            L_DISABLE_3D = false;\n",
              "        &lt;/script&gt;\n",
              "    \n",
              "    &lt;style&gt;html, body {width: 100%;height: 100%;margin: 0;padding: 0;}&lt;/style&gt;\n",
              "    &lt;style&gt;#map {position:absolute;top:0;bottom:0;right:0;left:0;}&lt;/style&gt;\n",
              "    &lt;script src=&quot;https://cdn.jsdelivr.net/npm/leaflet@1.9.3/dist/leaflet.js&quot;&gt;&lt;/script&gt;\n",
              "    &lt;script src=&quot;https://code.jquery.com/jquery-3.7.1.min.js&quot;&gt;&lt;/script&gt;\n",
              "    &lt;script src=&quot;https://cdn.jsdelivr.net/npm/bootstrap@5.2.2/dist/js/bootstrap.bundle.min.js&quot;&gt;&lt;/script&gt;\n",
              "    &lt;script src=&quot;https://cdnjs.cloudflare.com/ajax/libs/Leaflet.awesome-markers/2.0.2/leaflet.awesome-markers.js&quot;&gt;&lt;/script&gt;\n",
              "    &lt;link rel=&quot;stylesheet&quot; href=&quot;https://cdn.jsdelivr.net/npm/leaflet@1.9.3/dist/leaflet.css&quot;/&gt;\n",
              "    &lt;link rel=&quot;stylesheet&quot; href=&quot;https://cdn.jsdelivr.net/npm/bootstrap@5.2.2/dist/css/bootstrap.min.css&quot;/&gt;\n",
              "    &lt;link rel=&quot;stylesheet&quot; href=&quot;https://netdna.bootstrapcdn.com/bootstrap/3.0.0/css/bootstrap-glyphicons.css&quot;/&gt;\n",
              "    &lt;link rel=&quot;stylesheet&quot; href=&quot;https://cdn.jsdelivr.net/npm/@fortawesome/fontawesome-free@6.2.0/css/all.min.css&quot;/&gt;\n",
              "    &lt;link rel=&quot;stylesheet&quot; href=&quot;https://cdnjs.cloudflare.com/ajax/libs/Leaflet.awesome-markers/2.0.2/leaflet.awesome-markers.css&quot;/&gt;\n",
              "    &lt;link rel=&quot;stylesheet&quot; href=&quot;https://cdn.jsdelivr.net/gh/python-visualization/folium/folium/templates/leaflet.awesome.rotate.min.css&quot;/&gt;\n",
              "    \n",
              "            &lt;meta name=&quot;viewport&quot; content=&quot;width=device-width,\n",
              "                initial-scale=1.0, maximum-scale=1.0, user-scalable=no&quot; /&gt;\n",
              "            &lt;style&gt;\n",
              "                #map_05374fcabe90d4d9bfc0f75f95ee8e71 {\n",
              "                    position: relative;\n",
              "                    width: 100.0%;\n",
              "                    height: 100.0%;\n",
              "                    left: 0.0%;\n",
              "                    top: 0.0%;\n",
              "                }\n",
              "                .leaflet-container { font-size: 1rem; }\n",
              "            &lt;/style&gt;\n",
              "        \n",
              "&lt;/head&gt;\n",
              "&lt;body&gt;\n",
              "    \n",
              "    \n",
              "            &lt;div class=&quot;folium-map&quot; id=&quot;map_05374fcabe90d4d9bfc0f75f95ee8e71&quot; &gt;&lt;/div&gt;\n",
              "        \n",
              "&lt;/body&gt;\n",
              "&lt;script&gt;\n",
              "    \n",
              "    \n",
              "            var map_05374fcabe90d4d9bfc0f75f95ee8e71 = L.map(\n",
              "                &quot;map_05374fcabe90d4d9bfc0f75f95ee8e71&quot;,\n",
              "                {\n",
              "                    center: [-10.609, -72.628],\n",
              "                    crs: L.CRS.EPSG3857,\n",
              "                    zoom: 10,\n",
              "                    zoomControl: true,\n",
              "                    preferCanvas: false,\n",
              "                }\n",
              "            );\n",
              "\n",
              "            \n",
              "\n",
              "        \n",
              "    \n",
              "            var tile_layer_c027bec7e3fd95945a5a729b8cc95e2b = L.tileLayer(\n",
              "                &quot;https://tile.openstreetmap.org/{z}/{x}/{y}.png&quot;,\n",
              "                {&quot;attribution&quot;: &quot;\\u0026copy; \\u003ca href=\\&quot;https://www.openstreetmap.org/copyright\\&quot;\\u003eOpenStreetMap\\u003c/a\\u003e contributors&quot;, &quot;detectRetina&quot;: false, &quot;maxNativeZoom&quot;: 19, &quot;maxZoom&quot;: 19, &quot;minZoom&quot;: 0, &quot;noWrap&quot;: false, &quot;opacity&quot;: 1, &quot;subdomains&quot;: &quot;abc&quot;, &quot;tms&quot;: false}\n",
              "            );\n",
              "        \n",
              "    \n",
              "            tile_layer_c027bec7e3fd95945a5a729b8cc95e2b.addTo(map_05374fcabe90d4d9bfc0f75f95ee8e71);\n",
              "        \n",
              "    \n",
              "            var tile_layer_2c7bd5dad47db052f142807cc39893fb = L.tileLayer(\n",
              "                &quot;https://earthengine.googleapis.com/v1/projects/ee-jtantaroman/maps/61e146745fa752b7f679b79945caad3d-d46d7bf65e2888fa7df885007be8246a/tiles/{z}/{x}/{y}&quot;,\n",
              "                {&quot;attribution&quot;: &quot;Google Earth Engine&quot;, &quot;detectRetina&quot;: false, &quot;maxZoom&quot;: 18, &quot;minZoom&quot;: 0, &quot;noWrap&quot;: false, &quot;opacity&quot;: 1, &quot;subdomains&quot;: &quot;abc&quot;, &quot;tms&quot;: false}\n",
              "            );\n",
              "        \n",
              "    \n",
              "            tile_layer_2c7bd5dad47db052f142807cc39893fb.addTo(map_05374fcabe90d4d9bfc0f75f95ee8e71);\n",
              "        \n",
              "    \n",
              "            var layer_control_2d37ac8a36d58fe8eb4c4c0500677582_layers = {\n",
              "                base_layers : {\n",
              "                    &quot;openstreetmap&quot; : tile_layer_c027bec7e3fd95945a5a729b8cc95e2b,\n",
              "                },\n",
              "                overlays :  {\n",
              "                    &quot;median_l7_cloud&quot; : tile_layer_2c7bd5dad47db052f142807cc39893fb,\n",
              "                },\n",
              "            };\n",
              "            let layer_control_2d37ac8a36d58fe8eb4c4c0500677582 = L.control.layers(\n",
              "                layer_control_2d37ac8a36d58fe8eb4c4c0500677582_layers.base_layers,\n",
              "                layer_control_2d37ac8a36d58fe8eb4c4c0500677582_layers.overlays,\n",
              "                {&quot;autoZIndex&quot;: true, &quot;collapsed&quot;: true, &quot;position&quot;: &quot;topright&quot;}\n",
              "            ).addTo(map_05374fcabe90d4d9bfc0f75f95ee8e71);\n",
              "\n",
              "        \n",
              "&lt;/script&gt;\n",
              "&lt;/html&gt;\" style=\"position:absolute;width:100%;height:100%;left:0;top:0;border:none !important;\" allowfullscreen webkitallowfullscreen mozallowfullscreen></iframe></div></div>"
            ]
          },
          "metadata": {},
          "execution_count": 30
        }
      ]
    },
    {
      "cell_type": "markdown",
      "metadata": {
        "id": "doduTvrsM_s_"
      },
      "source": [
        "##### **Landsat 7 - con mascara**\n",
        "\n",
        "Al hacer la mascara se quian los pixeles donde encuentran todo tipo de nubes que se han enumerado en la funcion, es por eso que nos queda algunos huecos en las imagenes"
      ]
    },
    {
      "cell_type": "code",
      "metadata": {
        "id": "jQZsCmYvyo5P"
      },
      "source": [
        "def l7_maskcloud(image):\n",
        "  qa = image.select('QA_PIXEL')\n",
        "  #Generando una mascara para solo aquellos pixeles que no contienen cloud shadow, cloud y cloud confidence\n",
        "  #Ahora cambio y el primero es cloud (bit3) el segundo cloud shadow (bit4) , cloud confidence (bit9), cloud shadow confidence (bit11) y cirrus confidence (bit15)\n",
        "  my_mask = (1 << 3) + (1 << 4) + (1 << 9) + (1 << 11) + (1 << 15)\n",
        "  mask = qa.bitwiseAnd(my_mask).eq(0)\n",
        "  ndvi = image.normalizedDifference(['SR_B4', 'SR_B3']).rename('NDVI')\n",
        "  return image.select([\"SR_B.*\"]).addBands(ndvi).updateMask(mask).copyProperties(image, [\"system:time_start\"])"
      ],
      "execution_count": 35,
      "outputs": []
    },
    {
      "cell_type": "code",
      "metadata": {
        "id": "AYUSiGBRy9Zt",
        "colab": {
          "base_uri": "https://localhost:8080/",
          "height": 419
        },
        "outputId": "0a964d99-e54d-475a-cf61-8c2b27935052"
      },
      "source": [
        "l7_nocloud = l7.map(l7_maskcloud)\n",
        "#El qualityMosaic ordena las imagenes al hacer una mosaico en un image collection\n",
        "l7_nocloud_nvdi = l7_nocloud.qualityMosaic('NDVI')\n",
        "l7_nocloud_getmapid = l7_nocloud_nvdi.getMapId(l7_viz_params)\n",
        "mapdisplay(center,{'ndvi_l7_nocloud':l7_nocloud_getmapid,\n",
        "                   'median_l7_cloud':to_plot_median})"
      ],
      "execution_count": 36,
      "outputs": [
        {
          "output_type": "execute_result",
          "data": {
            "text/plain": [
              "<folium.folium.Map at 0x799deaf4f070>"
            ],
            "text/html": [
              "<div style=\"width:100%;\"><div style=\"position:relative;width:100%;height:0;padding-bottom:60%;\"><span style=\"color:#565656\">Make this Notebook Trusted to load map: File -> Trust Notebook</span><iframe srcdoc=\"&lt;!DOCTYPE html&gt;\n",
              "&lt;html&gt;\n",
              "&lt;head&gt;\n",
              "    \n",
              "    &lt;meta http-equiv=&quot;content-type&quot; content=&quot;text/html; charset=UTF-8&quot; /&gt;\n",
              "    \n",
              "        &lt;script&gt;\n",
              "            L_NO_TOUCH = false;\n",
              "            L_DISABLE_3D = false;\n",
              "        &lt;/script&gt;\n",
              "    \n",
              "    &lt;style&gt;html, body {width: 100%;height: 100%;margin: 0;padding: 0;}&lt;/style&gt;\n",
              "    &lt;style&gt;#map {position:absolute;top:0;bottom:0;right:0;left:0;}&lt;/style&gt;\n",
              "    &lt;script src=&quot;https://cdn.jsdelivr.net/npm/leaflet@1.9.3/dist/leaflet.js&quot;&gt;&lt;/script&gt;\n",
              "    &lt;script src=&quot;https://code.jquery.com/jquery-3.7.1.min.js&quot;&gt;&lt;/script&gt;\n",
              "    &lt;script src=&quot;https://cdn.jsdelivr.net/npm/bootstrap@5.2.2/dist/js/bootstrap.bundle.min.js&quot;&gt;&lt;/script&gt;\n",
              "    &lt;script src=&quot;https://cdnjs.cloudflare.com/ajax/libs/Leaflet.awesome-markers/2.0.2/leaflet.awesome-markers.js&quot;&gt;&lt;/script&gt;\n",
              "    &lt;link rel=&quot;stylesheet&quot; href=&quot;https://cdn.jsdelivr.net/npm/leaflet@1.9.3/dist/leaflet.css&quot;/&gt;\n",
              "    &lt;link rel=&quot;stylesheet&quot; href=&quot;https://cdn.jsdelivr.net/npm/bootstrap@5.2.2/dist/css/bootstrap.min.css&quot;/&gt;\n",
              "    &lt;link rel=&quot;stylesheet&quot; href=&quot;https://netdna.bootstrapcdn.com/bootstrap/3.0.0/css/bootstrap-glyphicons.css&quot;/&gt;\n",
              "    &lt;link rel=&quot;stylesheet&quot; href=&quot;https://cdn.jsdelivr.net/npm/@fortawesome/fontawesome-free@6.2.0/css/all.min.css&quot;/&gt;\n",
              "    &lt;link rel=&quot;stylesheet&quot; href=&quot;https://cdnjs.cloudflare.com/ajax/libs/Leaflet.awesome-markers/2.0.2/leaflet.awesome-markers.css&quot;/&gt;\n",
              "    &lt;link rel=&quot;stylesheet&quot; href=&quot;https://cdn.jsdelivr.net/gh/python-visualization/folium/folium/templates/leaflet.awesome.rotate.min.css&quot;/&gt;\n",
              "    \n",
              "            &lt;meta name=&quot;viewport&quot; content=&quot;width=device-width,\n",
              "                initial-scale=1.0, maximum-scale=1.0, user-scalable=no&quot; /&gt;\n",
              "            &lt;style&gt;\n",
              "                #map_06d183e0d4ea9ffcd4d2e8f0e32b4936 {\n",
              "                    position: relative;\n",
              "                    width: 100.0%;\n",
              "                    height: 100.0%;\n",
              "                    left: 0.0%;\n",
              "                    top: 0.0%;\n",
              "                }\n",
              "                .leaflet-container { font-size: 1rem; }\n",
              "            &lt;/style&gt;\n",
              "        \n",
              "&lt;/head&gt;\n",
              "&lt;body&gt;\n",
              "    \n",
              "    \n",
              "            &lt;div class=&quot;folium-map&quot; id=&quot;map_06d183e0d4ea9ffcd4d2e8f0e32b4936&quot; &gt;&lt;/div&gt;\n",
              "        \n",
              "&lt;/body&gt;\n",
              "&lt;script&gt;\n",
              "    \n",
              "    \n",
              "            var map_06d183e0d4ea9ffcd4d2e8f0e32b4936 = L.map(\n",
              "                &quot;map_06d183e0d4ea9ffcd4d2e8f0e32b4936&quot;,\n",
              "                {\n",
              "                    center: [-10.609, -72.628],\n",
              "                    crs: L.CRS.EPSG3857,\n",
              "                    zoom: 10,\n",
              "                    zoomControl: true,\n",
              "                    preferCanvas: false,\n",
              "                }\n",
              "            );\n",
              "\n",
              "            \n",
              "\n",
              "        \n",
              "    \n",
              "            var tile_layer_e1d1490df82ee7bb784a9544b1a15f27 = L.tileLayer(\n",
              "                &quot;https://tile.openstreetmap.org/{z}/{x}/{y}.png&quot;,\n",
              "                {&quot;attribution&quot;: &quot;\\u0026copy; \\u003ca href=\\&quot;https://www.openstreetmap.org/copyright\\&quot;\\u003eOpenStreetMap\\u003c/a\\u003e contributors&quot;, &quot;detectRetina&quot;: false, &quot;maxNativeZoom&quot;: 19, &quot;maxZoom&quot;: 19, &quot;minZoom&quot;: 0, &quot;noWrap&quot;: false, &quot;opacity&quot;: 1, &quot;subdomains&quot;: &quot;abc&quot;, &quot;tms&quot;: false}\n",
              "            );\n",
              "        \n",
              "    \n",
              "            tile_layer_e1d1490df82ee7bb784a9544b1a15f27.addTo(map_06d183e0d4ea9ffcd4d2e8f0e32b4936);\n",
              "        \n",
              "    \n",
              "            var tile_layer_4c47fdbb5496cdbaa90f0972fc06a1a9 = L.tileLayer(\n",
              "                &quot;https://earthengine.googleapis.com/v1/projects/ee-jtantaroman/maps/c95d20f1ec51aa149fa0e87464d0d68c-5503c81015564cd038dde607feb8cca0/tiles/{z}/{x}/{y}&quot;,\n",
              "                {&quot;attribution&quot;: &quot;Google Earth Engine&quot;, &quot;detectRetina&quot;: false, &quot;maxZoom&quot;: 18, &quot;minZoom&quot;: 0, &quot;noWrap&quot;: false, &quot;opacity&quot;: 1, &quot;subdomains&quot;: &quot;abc&quot;, &quot;tms&quot;: false}\n",
              "            );\n",
              "        \n",
              "    \n",
              "            tile_layer_4c47fdbb5496cdbaa90f0972fc06a1a9.addTo(map_06d183e0d4ea9ffcd4d2e8f0e32b4936);\n",
              "        \n",
              "    \n",
              "            var tile_layer_1a792df2da7a738225f77af33d12c8d1 = L.tileLayer(\n",
              "                &quot;https://earthengine.googleapis.com/v1/projects/ee-jtantaroman/maps/61e146745fa752b7f679b79945caad3d-d46d7bf65e2888fa7df885007be8246a/tiles/{z}/{x}/{y}&quot;,\n",
              "                {&quot;attribution&quot;: &quot;Google Earth Engine&quot;, &quot;detectRetina&quot;: false, &quot;maxZoom&quot;: 18, &quot;minZoom&quot;: 0, &quot;noWrap&quot;: false, &quot;opacity&quot;: 1, &quot;subdomains&quot;: &quot;abc&quot;, &quot;tms&quot;: false}\n",
              "            );\n",
              "        \n",
              "    \n",
              "            tile_layer_1a792df2da7a738225f77af33d12c8d1.addTo(map_06d183e0d4ea9ffcd4d2e8f0e32b4936);\n",
              "        \n",
              "    \n",
              "            var layer_control_299a26b661ebdd284c03aeaecbd06e04_layers = {\n",
              "                base_layers : {\n",
              "                    &quot;openstreetmap&quot; : tile_layer_e1d1490df82ee7bb784a9544b1a15f27,\n",
              "                },\n",
              "                overlays :  {\n",
              "                    &quot;ndvi_l7_nocloud&quot; : tile_layer_4c47fdbb5496cdbaa90f0972fc06a1a9,\n",
              "                    &quot;median_l7_cloud&quot; : tile_layer_1a792df2da7a738225f77af33d12c8d1,\n",
              "                },\n",
              "            };\n",
              "            let layer_control_299a26b661ebdd284c03aeaecbd06e04 = L.control.layers(\n",
              "                layer_control_299a26b661ebdd284c03aeaecbd06e04_layers.base_layers,\n",
              "                layer_control_299a26b661ebdd284c03aeaecbd06e04_layers.overlays,\n",
              "                {&quot;autoZIndex&quot;: true, &quot;collapsed&quot;: true, &quot;position&quot;: &quot;topright&quot;}\n",
              "            ).addTo(map_06d183e0d4ea9ffcd4d2e8f0e32b4936);\n",
              "\n",
              "        \n",
              "&lt;/script&gt;\n",
              "&lt;/html&gt;\" style=\"position:absolute;width:100%;height:100%;left:0;top:0;border:none !important;\" allowfullscreen webkitallowfullscreen mozallowfullscreen></iframe></div></div>"
            ]
          },
          "metadata": {},
          "execution_count": 36
        }
      ]
    },
    {
      "cell_type": "markdown",
      "metadata": {
        "id": "K_A_mnLZSc9_"
      },
      "source": [
        "##### **Landsat 8 - sin mascara**"
      ]
    },
    {
      "cell_type": "code",
      "metadata": {
        "id": "Ow6xcEmG3TbH"
      },
      "source": [
        "l8 = ee.ImageCollection(\"LANDSAT/LC08/C01/T1_SR\")\\\n",
        "       .filterBounds(roi)\\\n",
        "       .filterDate(range_date[0], range_date[1])\\\n",
        "       .filterMetadata('CLOUD_COVER','less_than',20)"
      ],
      "execution_count": null,
      "outputs": []
    },
    {
      "cell_type": "code",
      "metadata": {
        "id": "Pf7R78U8UzqQ"
      },
      "source": [
        "# Displaye los resultados\n",
        "l8_to_plot_median = l8.median().getMapId(l8_viz_params)\n",
        "mapdisplay(center,{'median_l8_cloud':l8_to_plot_median})"
      ],
      "execution_count": null,
      "outputs": []
    },
    {
      "cell_type": "markdown",
      "metadata": {
        "id": "lgYwqqwAV76J"
      },
      "source": [
        "##### **Landsat 8 - con mascara**"
      ]
    },
    {
      "cell_type": "code",
      "metadata": {
        "id": "K36w0xXiV87Z"
      },
      "source": [
        "def l8_maskcloud(image):\n",
        "  qa = image.select('pixel_qa')\n",
        "  my_mask = (1 << 3) + (1 << 5) + (1 << 7) + (1 << 9) + (1 << 10)\n",
        "  mask = qa.bitwiseAnd(my_mask).eq(0)\n",
        "  ndvi = image.normalizedDifference(['B4', 'B3']).rename('NDVI')\n",
        "  return image.select([\"B.*\"]).addBands(ndvi).updateMask(mask).copyProperties(image, [\"system:time_start\"])"
      ],
      "execution_count": null,
      "outputs": []
    },
    {
      "cell_type": "code",
      "metadata": {
        "id": "aCYCBZprWg-t"
      },
      "source": [
        "l8_nocloud = l8.map(l8_maskcloud)\n",
        "l8_nocloud_nvdi = l8_nocloud.qualityMosaic('NDVI')\n",
        "l8_nocloud_getmapid = l8_nocloud_nvdi.getMapId(l8_viz_params)\n",
        "mapdisplay(center,{'ndvi_l8_nocloud':l8_nocloud_getmapid,\n",
        "                   'median_l8_cloud':l8_to_plot_median})"
      ],
      "execution_count": null,
      "outputs": []
    },
    {
      "cell_type": "markdown",
      "metadata": {
        "id": "wB6szwF-XXl7"
      },
      "source": [
        "##### **Landsat 7 y 8 - con mascara**"
      ]
    },
    {
      "cell_type": "code",
      "metadata": {
        "id": "0diV3pDmXbl3"
      },
      "source": [
        "def select_image_l8(img):\n",
        "  return img.select(['B6','B5','B4','NDVI']).rename('SWIR','NIR','RED','NDVI')\n",
        "def select_image_l7(img):\n",
        "  return img.select(['B5','B4','B3','NDVI']).rename('SWIR','NIR','RED','NDVI')\n",
        "\n",
        "l7_veg = l7_nocloud.map(select_image_l7)\n",
        "l8_veg = l8_nocloud.map(select_image_l8)\n",
        "l78 =l8_veg.merge(l7_veg)"
      ],
      "execution_count": null,
      "outputs": []
    },
    {
      "cell_type": "code",
      "metadata": {
        "id": "x-wYFi3DYJBT"
      },
      "source": [
        "l78_nocloud_nvdi = l78.qualityMosaic('NDVI')\n",
        "l78_nocloud_median = l78.median()\n",
        "l78_nocloud_getmapid_ndvi = l78_nocloud_nvdi.getMapId(l78_viz_params)\n",
        "l78_nocloud_getmapid_median = l78_nocloud_median.getMapId(l78_viz_params)\n",
        "mapdisplay(center,{'l78_nocloud_getmapid_ndvi':l78_nocloud_getmapid_ndvi,\n",
        "                   'l78_nocloud_getmapid_median':l78_nocloud_getmapid_median})"
      ],
      "execution_count": null,
      "outputs": []
    },
    {
      "cell_type": "markdown",
      "metadata": {
        "id": "awgpXjgKy6cF"
      },
      "source": [
        "### **Funcion para generar composites a partir de L7 y L8 - vegetacion**"
      ]
    },
    {
      "cell_type": "code",
      "metadata": {
        "id": "KBvHCLMCzCxC"
      },
      "source": [
        "def composite_l7l8_vegetation(init_date, last_date, roi, cloud_per, calendar, composite = 'median'):\n",
        "  '''\n",
        "  Crear un composite de vegetacion a partir de datos Landsat 8 y Landsat  7\n",
        "\n",
        "  init_date: Fecha de inicio\n",
        "  last_date: Fecha de fin\n",
        "  roi: Ambito de estudio\n",
        "  cloud_per: Porcentaje de nubes\n",
        "  calendar: Lista numerica de dos elementos. Que indica los meses a filtrar.\n",
        "  composite: Funcion utilizada para realizar el composite. Actualmente\n",
        "             disponible: mean, ndvi (max) y none (no composite).\n",
        "  '''\n",
        "  def l7_maskcloud(image):\n",
        "    qa = image.select('pixel_qa')\n",
        "    my_mask = (1 << 3) + (1 << 5) + (1 << 7)\n",
        "    mask = qa.bitwiseAnd(my_mask).eq(0)\n",
        "    ndvi = image.normalizedDifference(['B4', 'B3']).rename('NDVI')\n",
        "    return image.addBands(ndvi)\\\n",
        "                .select(['B5','B4','B3','NDVI'])\\\n",
        "                .rename('SWIR','NIR','RED','NDVI')\\\n",
        "                .updateMask(mask)\\\n",
        "                .copyProperties(image, [\"system:time_start\"])\n",
        "  def l8_maskcloud(image):\n",
        "    qa = image.select('pixel_qa')\n",
        "    my_mask = (1 << 3) + (1 << 5) + (1 << 7) + (1 << 9) + (1 << 10)\n",
        "    mask = qa.bitwiseAnd(my_mask).eq(0)\n",
        "    ndvi = image.normalizedDifference(['B5', 'B4']).rename('NDVI')\n",
        "    return image.addBands(ndvi)\\\n",
        "                .select(['B6','B5','B4','NDVI'])\\\n",
        "                .rename('SWIR','NIR','RED','NDVI')\\\n",
        "                .updateMask(mask)\\\n",
        "                .copyProperties(image, [\"system:time_start\"])\n",
        "  l7 = ee.ImageCollection('LANDSAT/LE07/C01/T1_SR')\\\n",
        "        .filterBounds(roi)\\\n",
        "        .filterDate(init_date, last_date)\\\n",
        "        .filterMetadata('CLOUD_COVER','less_than',cloud_per)\\\n",
        "        .filter(ee.Filter.calendarRange(calendar[0], calendar[1],'month'))\\\n",
        "        .map(l7_maskcloud)\n",
        "  l8 = ee.ImageCollection(\"LANDSAT/LC08/C01/T1_SR\")\\\n",
        "        .filterBounds(roi)\\\n",
        "        .filterDate(init_date, last_date)\\\n",
        "        .filterMetadata('CLOUD_COVER','less_than',cloud_per)\\\n",
        "        .filter(ee.Filter.calendarRange(calendar[0], calendar[1],'month'))\\\n",
        "        .map(l8_maskcloud)\n",
        "  l78 =l8.merge(l7)\n",
        "  if composite == 'median':\n",
        "    return l78.median()\n",
        "  elif composite == 'ndvi':\n",
        "    return l78.qualityMosaic('NDVI')\n",
        "  else:\n",
        "    return l78"
      ],
      "execution_count": null,
      "outputs": []
    },
    {
      "cell_type": "markdown",
      "metadata": {
        "id": "moB5nKly90kA"
      },
      "source": [
        "Correr **composite_l7l8_vegetation** para una area determinada"
      ]
    },
    {
      "cell_type": "code",
      "metadata": {
        "id": "EjLI571z8rl_"
      },
      "source": [
        "# ------------------------------\n",
        "#  PARAMETROS GLOBALES\n",
        "# ------------------------------\n",
        "range_date = ['2019-01-01', '2019-12-31'] #fecha de inicio y fin\n",
        "center = [-72.628,-10.609]\n",
        "roi = ee.Geometry.Point(center) #Area de interes (seleccione el path and row)\n",
        "calendar = [4,11] # Seleccionar imagenes de Abril a Noviembre\n",
        "cloud_per = 20 # Maximo porcentaje de cobertura de nubes a considerar\n",
        "composite = 'median' # Funcion para generar el composite (median, ndvi)"
      ],
      "execution_count": null,
      "outputs": []
    },
    {
      "cell_type": "code",
      "metadata": {
        "id": "yDFraqsT9phW"
      },
      "source": [
        "composite = composite_l7l8_vegetation(init_date=range_date[0],\n",
        "                                      last_date=range_date[1],\n",
        "                                      roi=roi,\n",
        "                                      cloud_per=cloud_per,\n",
        "                                      calendar=calendar,\n",
        "                                      composite=composite)"
      ],
      "execution_count": null,
      "outputs": []
    },
    {
      "cell_type": "code",
      "metadata": {
        "id": "08mU6tAP-_LD"
      },
      "source": [
        "l78_viz_params = {'bands':['SWIR','NIR','RED'],'min':0,'max': 4000, 'gamma':1.2}\n",
        "mapdisplay(center,{'composite_median':composite.getMapId(l78_viz_params)})"
      ],
      "execution_count": null,
      "outputs": []
    },
    {
      "cell_type": "markdown",
      "metadata": {
        "id": "0HoK5tSWa8Nq"
      },
      "source": [
        "### **¿Dudas con este Jupyer-Notebook?**\n",
        "\n",
        "Estaremos felices de ayudarte!. Create una cuenta Github si es que no la tienes, luego detalla tu problema ampliamente en: https://github.com/csaybar/EarthEngineMasterGIS/issues\n",
        "\n",
        "**Tienes que dar clic en el boton verde!**\n",
        "\n",
        "<center>\n",
        "<img src=\"https://user-images.githubusercontent.com/16768318/79680748-d5511000-81d8-11ea-9f89-44bd010adf69.png\" width = 70%>\n",
        "</center>"
      ]
    }
  ]
}