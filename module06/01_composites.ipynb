{
  "nbformat": 4,
  "nbformat_minor": 0,
  "metadata": {
    "colab": {
      "name": "01_composites.ipynb",
      "provenance": [],
      "toc_visible": true,
      "include_colab_link": true
    },
    "kernelspec": {
      "name": "python3",
      "display_name": "Python 3"
    }
  },
  "cells": [
    {
      "cell_type": "markdown",
      "metadata": {
        "id": "view-in-github",
        "colab_type": "text"
      },
      "source": [
        "<a href=\"https://colab.research.google.com/github/JeisonTantachuco/CursoGEE/blob/main/module06/01_composites.ipynb\" target=\"_parent\"><img src=\"https://colab.research.google.com/assets/colab-badge.svg\" alt=\"Open In Colab\"/></a>"
      ]
    },
    {
      "cell_type": "markdown",
      "metadata": {
        "id": "5Uf067cMfYj3"
      },
      "source": [
        "<!--COURSE_INFORMATION-->\n",
        "<img align=\"left\" style=\"padding-right:10px;\" src=\"https://user-images.githubusercontent.com/16768318/73986808-75b3ca00-4936-11ea-90f1-3a6c352766ce.png\" width=10% >\n",
        "<img align=\"right\" style=\"padding-left:10px;\" src=\"https://user-images.githubusercontent.com/16768318/73986811-764c6080-4936-11ea-9653-a3eacc47caed.png\" width=10% >\n",
        "\n",
        "**Bienvenidos!** Este *colab notebook* es parte del curso [**Introduccion a Google Earth Engine con Python**](https://github.com/csaybar/EarthEngineMasterGIS) desarrollado por el equipo [**MasterGIS**](https://www.mastergis.com/). Obten mas informacion del curso en este [**enlace**](https://www.mastergis.com/product/google-earth-engine/). El contenido del curso esta disponible en [**GitHub**](https://github.com/csaybar/EarthEngineMasterGIS) bajo licencia [**MIT**](https://opensource.org/licenses/MIT)."
      ]
    },
    {
      "cell_type": "markdown",
      "metadata": {
        "id": "bfc3m1gZvKpX"
      },
      "source": [
        "## **MASTERGIS: Composicion y mosaicos**\n",
        "\n",
        "En esta lectura, aprenderemos sobre:\n",
        "\n",
        "- Como realizar mosaicos espaciales.\n",
        "- Como realizar un mosaico considerando imagenes Landsat 8 y Landsat 7.\n",
        "\n",
        "<img src=\"https://user-images.githubusercontent.com/16768318/73668658-120f6f80-469e-11ea-9c31-84ef520817f2.jpg\" align=\"right\" width = 60%/>"
      ]
    },
    {
      "cell_type": "code",
      "metadata": {
        "id": "GrDx4Z5RvTzg",
        "colab": {
          "base_uri": "https://localhost:8080/"
        },
        "outputId": "23f15f5f-1f0a-4465-a93d-476f4749ca44"
      },
      "source": [
        "#@title Credenciales Google Earth Engine\n",
        "import ee\n",
        "ee.Authenticate()\n",
        "ee.Initialize(project = 'ee-jtantaroman')"
      ],
      "execution_count": 1,
      "outputs": [
        {
          "output_type": "stream",
          "name": "stderr",
          "text": [
            "*** Earth Engine *** Share your feedback by taking our Annual Developer Satisfaction Survey: https://google.qualtrics.com/jfe/form/SV_0JLhFqfSY1uiEaW?source=Init\n"
          ]
        }
      ]
    },
    {
      "cell_type": "code",
      "metadata": {
        "id": "hH5N4i30vbvr",
        "cellView": "form"
      },
      "source": [
        "#@title mapdisplay: Crea mapas interactivos usando folium\n",
        "import folium\n",
        "def mapdisplay(center, dicc, Tiles=\"OpensTreetMap\",zoom_start=10):\n",
        "    '''\n",
        "    :param center: Center of the map (Latitude and Longitude).\n",
        "    :param dicc: Earth Engine Geometries or Tiles dictionary\n",
        "    :param Tiles: Mapbox Bright,Mapbox Control Room,Stamen Terrain,Stamen Toner,stamenwatercolor,cartodbpositron.\n",
        "    :zoom_start: Initial zoom level for the map.\n",
        "    :return: A folium.Map object.\n",
        "    '''\n",
        "    center = center[::-1]\n",
        "    mapViz = folium.Map(location=center,tiles=Tiles, zoom_start=zoom_start)\n",
        "    for k,v in dicc.items():\n",
        "      if ee.image.Image in [type(x) for x in v.values()]:\n",
        "        folium.TileLayer(\n",
        "            tiles = v[\"tile_fetcher\"].url_format,\n",
        "            attr  = 'Google Earth Engine',\n",
        "            overlay =True,\n",
        "            name  = k\n",
        "          ).add_to(mapViz)\n",
        "      else:\n",
        "        folium.GeoJson(\n",
        "        data = v,\n",
        "        name = k\n",
        "          ).add_to(mapViz)\n",
        "    mapViz.add_child(folium.LayerControl())\n",
        "    return mapViz"
      ],
      "execution_count": 2,
      "outputs": []
    },
    {
      "cell_type": "markdown",
      "metadata": {
        "id": "bHdKfpEj9WN2"
      },
      "source": [
        "En general, la **composicion** se refiere al proceso de combinar imagenes superpuestas espacialmente en una sola imagen basada en una funcion de agregacion. El **mosaico** se refiere al proceso de ensamblar conjuntos de datos de imagenes **espacialmente** para producir una imagen espacialmente continua. En Earth Engine, estos terminos se usan indistintamente, aunque se admiten tanto la composicion como el mosaico. Por ejemplo, considere la tarea de **componer varias imagenes en la misma ubicacion**. El siguiente ejemplo demuestra como hacer un compuesto cuya funcion de agregacion es tomar el maximo valor:"
      ]
    },
    {
      "cell_type": "code",
      "metadata": {
        "id": "s-S-W1hCvLCr",
        "colab": {
          "base_uri": "https://localhost:8080/",
          "height": 685
        },
        "outputId": "bb6ce054-5608-402f-806f-0adbd0f47088"
      },
      "source": [
        "# Cargue los datos NAIP\n",
        "naip2004_2012 = ee.ImageCollection('USDA/NAIP/DOQQ')\\\n",
        "                  .filterBounds(ee.Geometry.Point(-71.08841, 42.39823))\\\n",
        "                  .filterDate('2004-07-01', '2012-12-31')\\\n",
        "                  .select(['R', 'G', 'B'])\n",
        "\n",
        "# Realize un \"composite\" temporal de las imagenes con una funcion de valor maximo.\n",
        "composite = naip2004_2012.max()\n",
        "center = [-71.12532, 42.3712]\n",
        "mapdisplay(center, {'max value composite':composite.getMapId()},zoom_start=12)"
      ],
      "execution_count": 3,
      "outputs": [
        {
          "output_type": "execute_result",
          "data": {
            "text/plain": [
              "<folium.folium.Map at 0x79303366afb0>"
            ],
            "text/html": [
              "<div style=\"width:100%;\"><div style=\"position:relative;width:100%;height:0;padding-bottom:60%;\"><span style=\"color:#565656\">Make this Notebook Trusted to load map: File -> Trust Notebook</span><iframe srcdoc=\"&lt;!DOCTYPE html&gt;\n",
              "&lt;html&gt;\n",
              "&lt;head&gt;\n",
              "    \n",
              "    &lt;meta http-equiv=&quot;content-type&quot; content=&quot;text/html; charset=UTF-8&quot; /&gt;\n",
              "    \n",
              "        &lt;script&gt;\n",
              "            L_NO_TOUCH = false;\n",
              "            L_DISABLE_3D = false;\n",
              "        &lt;/script&gt;\n",
              "    \n",
              "    &lt;style&gt;html, body {width: 100%;height: 100%;margin: 0;padding: 0;}&lt;/style&gt;\n",
              "    &lt;style&gt;#map {position:absolute;top:0;bottom:0;right:0;left:0;}&lt;/style&gt;\n",
              "    &lt;script src=&quot;https://cdn.jsdelivr.net/npm/leaflet@1.9.3/dist/leaflet.js&quot;&gt;&lt;/script&gt;\n",
              "    &lt;script src=&quot;https://code.jquery.com/jquery-3.7.1.min.js&quot;&gt;&lt;/script&gt;\n",
              "    &lt;script src=&quot;https://cdn.jsdelivr.net/npm/bootstrap@5.2.2/dist/js/bootstrap.bundle.min.js&quot;&gt;&lt;/script&gt;\n",
              "    &lt;script src=&quot;https://cdnjs.cloudflare.com/ajax/libs/Leaflet.awesome-markers/2.0.2/leaflet.awesome-markers.js&quot;&gt;&lt;/script&gt;\n",
              "    &lt;link rel=&quot;stylesheet&quot; href=&quot;https://cdn.jsdelivr.net/npm/leaflet@1.9.3/dist/leaflet.css&quot;/&gt;\n",
              "    &lt;link rel=&quot;stylesheet&quot; href=&quot;https://cdn.jsdelivr.net/npm/bootstrap@5.2.2/dist/css/bootstrap.min.css&quot;/&gt;\n",
              "    &lt;link rel=&quot;stylesheet&quot; href=&quot;https://netdna.bootstrapcdn.com/bootstrap/3.0.0/css/bootstrap-glyphicons.css&quot;/&gt;\n",
              "    &lt;link rel=&quot;stylesheet&quot; href=&quot;https://cdn.jsdelivr.net/npm/@fortawesome/fontawesome-free@6.2.0/css/all.min.css&quot;/&gt;\n",
              "    &lt;link rel=&quot;stylesheet&quot; href=&quot;https://cdnjs.cloudflare.com/ajax/libs/Leaflet.awesome-markers/2.0.2/leaflet.awesome-markers.css&quot;/&gt;\n",
              "    &lt;link rel=&quot;stylesheet&quot; href=&quot;https://cdn.jsdelivr.net/gh/python-visualization/folium/folium/templates/leaflet.awesome.rotate.min.css&quot;/&gt;\n",
              "    \n",
              "            &lt;meta name=&quot;viewport&quot; content=&quot;width=device-width,\n",
              "                initial-scale=1.0, maximum-scale=1.0, user-scalable=no&quot; /&gt;\n",
              "            &lt;style&gt;\n",
              "                #map_eeeb02abfe6066d21a79d2e8baf06c67 {\n",
              "                    position: relative;\n",
              "                    width: 100.0%;\n",
              "                    height: 100.0%;\n",
              "                    left: 0.0%;\n",
              "                    top: 0.0%;\n",
              "                }\n",
              "                .leaflet-container { font-size: 1rem; }\n",
              "            &lt;/style&gt;\n",
              "        \n",
              "&lt;/head&gt;\n",
              "&lt;body&gt;\n",
              "    \n",
              "    \n",
              "            &lt;div class=&quot;folium-map&quot; id=&quot;map_eeeb02abfe6066d21a79d2e8baf06c67&quot; &gt;&lt;/div&gt;\n",
              "        \n",
              "&lt;/body&gt;\n",
              "&lt;script&gt;\n",
              "    \n",
              "    \n",
              "            var map_eeeb02abfe6066d21a79d2e8baf06c67 = L.map(\n",
              "                &quot;map_eeeb02abfe6066d21a79d2e8baf06c67&quot;,\n",
              "                {\n",
              "                    center: [42.3712, -71.12532],\n",
              "                    crs: L.CRS.EPSG3857,\n",
              "                    zoom: 12,\n",
              "                    zoomControl: true,\n",
              "                    preferCanvas: false,\n",
              "                }\n",
              "            );\n",
              "\n",
              "            \n",
              "\n",
              "        \n",
              "    \n",
              "            var tile_layer_de1b19b6b09ab978a2a3e67e255ab772 = L.tileLayer(\n",
              "                &quot;https://tile.openstreetmap.org/{z}/{x}/{y}.png&quot;,\n",
              "                {&quot;attribution&quot;: &quot;\\u0026copy; \\u003ca href=\\&quot;https://www.openstreetmap.org/copyright\\&quot;\\u003eOpenStreetMap\\u003c/a\\u003e contributors&quot;, &quot;detectRetina&quot;: false, &quot;maxNativeZoom&quot;: 19, &quot;maxZoom&quot;: 19, &quot;minZoom&quot;: 0, &quot;noWrap&quot;: false, &quot;opacity&quot;: 1, &quot;subdomains&quot;: &quot;abc&quot;, &quot;tms&quot;: false}\n",
              "            );\n",
              "        \n",
              "    \n",
              "            tile_layer_de1b19b6b09ab978a2a3e67e255ab772.addTo(map_eeeb02abfe6066d21a79d2e8baf06c67);\n",
              "        \n",
              "    \n",
              "            var tile_layer_16829e1b5435a4b7b0ab70d271944571 = L.tileLayer(\n",
              "                &quot;https://earthengine.googleapis.com/v1/projects/ee-jtantaroman/maps/0bf895d12e594740c9d88c4fca6f664d-2df7183ee32da1446c4046b1ff3bdc74/tiles/{z}/{x}/{y}&quot;,\n",
              "                {&quot;attribution&quot;: &quot;Google Earth Engine&quot;, &quot;detectRetina&quot;: false, &quot;maxZoom&quot;: 18, &quot;minZoom&quot;: 0, &quot;noWrap&quot;: false, &quot;opacity&quot;: 1, &quot;subdomains&quot;: &quot;abc&quot;, &quot;tms&quot;: false}\n",
              "            );\n",
              "        \n",
              "    \n",
              "            tile_layer_16829e1b5435a4b7b0ab70d271944571.addTo(map_eeeb02abfe6066d21a79d2e8baf06c67);\n",
              "        \n",
              "    \n",
              "            var layer_control_eda33e5a7733dcd96a0439795b476b20_layers = {\n",
              "                base_layers : {\n",
              "                    &quot;openstreetmap&quot; : tile_layer_de1b19b6b09ab978a2a3e67e255ab772,\n",
              "                },\n",
              "                overlays :  {\n",
              "                    &quot;max value composite&quot; : tile_layer_16829e1b5435a4b7b0ab70d271944571,\n",
              "                },\n",
              "            };\n",
              "            let layer_control_eda33e5a7733dcd96a0439795b476b20 = L.control.layers(\n",
              "                layer_control_eda33e5a7733dcd96a0439795b476b20_layers.base_layers,\n",
              "                layer_control_eda33e5a7733dcd96a0439795b476b20_layers.overlays,\n",
              "                {&quot;autoZIndex&quot;: true, &quot;collapsed&quot;: true, &quot;position&quot;: &quot;topright&quot;}\n",
              "            ).addTo(map_eeeb02abfe6066d21a79d2e8baf06c67);\n",
              "\n",
              "        \n",
              "&lt;/script&gt;\n",
              "&lt;/html&gt;\" style=\"position:absolute;width:100%;height:100%;left:0;top:0;border:none !important;\" allowfullscreen webkitallowfullscreen mozallowfullscreen></iframe></div></div>"
            ]
          },
          "metadata": {},
          "execution_count": 3
        }
      ]
    },
    {
      "cell_type": "markdown",
      "metadata": {
        "id": "kiv2Qnng_P1G"
      },
      "source": [
        "Considere la necesidad de mosaico para cuatro diferentes escenas realizadas al mismo tiempo, pero en diferentes ubicaciones. El siguiente ejemplo demuestra que usando el metodo `imageCollection.mosaic()` puede solucionarlo:"
      ]
    },
    {
      "cell_type": "code",
      "metadata": {
        "id": "2AzKz0QkBT3W",
        "colab": {
          "base_uri": "https://localhost:8080/",
          "height": 685
        },
        "outputId": "492d1e35-8664-4ed1-eed0-ff52d8153499"
      },
      "source": [
        "#El poligono en azul es nuestro ambito de estudio y vemos que es necesario mas de una imagen para poder traslapar completamente nuestro ambito\n",
        "roi = ee.Geometry.Rectangle(-71.17965, 42.35125, -71.08824, 42.40584)\n",
        "mapdisplay(center,{'roi':roi.getInfo(), 'composite_01':composite.getMapId()}, zoom_start=12)"
      ],
      "execution_count": 4,
      "outputs": [
        {
          "output_type": "execute_result",
          "data": {
            "text/plain": [
              "<folium.folium.Map at 0x79303366b730>"
            ],
            "text/html": [
              "<div style=\"width:100%;\"><div style=\"position:relative;width:100%;height:0;padding-bottom:60%;\"><span style=\"color:#565656\">Make this Notebook Trusted to load map: File -> Trust Notebook</span><iframe srcdoc=\"&lt;!DOCTYPE html&gt;\n",
              "&lt;html&gt;\n",
              "&lt;head&gt;\n",
              "    \n",
              "    &lt;meta http-equiv=&quot;content-type&quot; content=&quot;text/html; charset=UTF-8&quot; /&gt;\n",
              "    \n",
              "        &lt;script&gt;\n",
              "            L_NO_TOUCH = false;\n",
              "            L_DISABLE_3D = false;\n",
              "        &lt;/script&gt;\n",
              "    \n",
              "    &lt;style&gt;html, body {width: 100%;height: 100%;margin: 0;padding: 0;}&lt;/style&gt;\n",
              "    &lt;style&gt;#map {position:absolute;top:0;bottom:0;right:0;left:0;}&lt;/style&gt;\n",
              "    &lt;script src=&quot;https://cdn.jsdelivr.net/npm/leaflet@1.9.3/dist/leaflet.js&quot;&gt;&lt;/script&gt;\n",
              "    &lt;script src=&quot;https://code.jquery.com/jquery-3.7.1.min.js&quot;&gt;&lt;/script&gt;\n",
              "    &lt;script src=&quot;https://cdn.jsdelivr.net/npm/bootstrap@5.2.2/dist/js/bootstrap.bundle.min.js&quot;&gt;&lt;/script&gt;\n",
              "    &lt;script src=&quot;https://cdnjs.cloudflare.com/ajax/libs/Leaflet.awesome-markers/2.0.2/leaflet.awesome-markers.js&quot;&gt;&lt;/script&gt;\n",
              "    &lt;link rel=&quot;stylesheet&quot; href=&quot;https://cdn.jsdelivr.net/npm/leaflet@1.9.3/dist/leaflet.css&quot;/&gt;\n",
              "    &lt;link rel=&quot;stylesheet&quot; href=&quot;https://cdn.jsdelivr.net/npm/bootstrap@5.2.2/dist/css/bootstrap.min.css&quot;/&gt;\n",
              "    &lt;link rel=&quot;stylesheet&quot; href=&quot;https://netdna.bootstrapcdn.com/bootstrap/3.0.0/css/bootstrap-glyphicons.css&quot;/&gt;\n",
              "    &lt;link rel=&quot;stylesheet&quot; href=&quot;https://cdn.jsdelivr.net/npm/@fortawesome/fontawesome-free@6.2.0/css/all.min.css&quot;/&gt;\n",
              "    &lt;link rel=&quot;stylesheet&quot; href=&quot;https://cdnjs.cloudflare.com/ajax/libs/Leaflet.awesome-markers/2.0.2/leaflet.awesome-markers.css&quot;/&gt;\n",
              "    &lt;link rel=&quot;stylesheet&quot; href=&quot;https://cdn.jsdelivr.net/gh/python-visualization/folium/folium/templates/leaflet.awesome.rotate.min.css&quot;/&gt;\n",
              "    \n",
              "            &lt;meta name=&quot;viewport&quot; content=&quot;width=device-width,\n",
              "                initial-scale=1.0, maximum-scale=1.0, user-scalable=no&quot; /&gt;\n",
              "            &lt;style&gt;\n",
              "                #map_7f4dcf0d8d787dbae138a641a8d4aa79 {\n",
              "                    position: relative;\n",
              "                    width: 100.0%;\n",
              "                    height: 100.0%;\n",
              "                    left: 0.0%;\n",
              "                    top: 0.0%;\n",
              "                }\n",
              "                .leaflet-container { font-size: 1rem; }\n",
              "            &lt;/style&gt;\n",
              "        \n",
              "&lt;/head&gt;\n",
              "&lt;body&gt;\n",
              "    \n",
              "    \n",
              "            &lt;div class=&quot;folium-map&quot; id=&quot;map_7f4dcf0d8d787dbae138a641a8d4aa79&quot; &gt;&lt;/div&gt;\n",
              "        \n",
              "&lt;/body&gt;\n",
              "&lt;script&gt;\n",
              "    \n",
              "    \n",
              "            var map_7f4dcf0d8d787dbae138a641a8d4aa79 = L.map(\n",
              "                &quot;map_7f4dcf0d8d787dbae138a641a8d4aa79&quot;,\n",
              "                {\n",
              "                    center: [42.3712, -71.12532],\n",
              "                    crs: L.CRS.EPSG3857,\n",
              "                    zoom: 12,\n",
              "                    zoomControl: true,\n",
              "                    preferCanvas: false,\n",
              "                }\n",
              "            );\n",
              "\n",
              "            \n",
              "\n",
              "        \n",
              "    \n",
              "            var tile_layer_c3e392164485ea3034ea0783d9d632f9 = L.tileLayer(\n",
              "                &quot;https://tile.openstreetmap.org/{z}/{x}/{y}.png&quot;,\n",
              "                {&quot;attribution&quot;: &quot;\\u0026copy; \\u003ca href=\\&quot;https://www.openstreetmap.org/copyright\\&quot;\\u003eOpenStreetMap\\u003c/a\\u003e contributors&quot;, &quot;detectRetina&quot;: false, &quot;maxNativeZoom&quot;: 19, &quot;maxZoom&quot;: 19, &quot;minZoom&quot;: 0, &quot;noWrap&quot;: false, &quot;opacity&quot;: 1, &quot;subdomains&quot;: &quot;abc&quot;, &quot;tms&quot;: false}\n",
              "            );\n",
              "        \n",
              "    \n",
              "            tile_layer_c3e392164485ea3034ea0783d9d632f9.addTo(map_7f4dcf0d8d787dbae138a641a8d4aa79);\n",
              "        \n",
              "    \n",
              "\n",
              "        function geo_json_e9fe2c9a042e1777ca3a67e82087303a_onEachFeature(feature, layer) {\n",
              "            layer.on({\n",
              "            });\n",
              "        };\n",
              "        var geo_json_e9fe2c9a042e1777ca3a67e82087303a = L.geoJson(null, {\n",
              "                onEachFeature: geo_json_e9fe2c9a042e1777ca3a67e82087303a_onEachFeature,\n",
              "            \n",
              "        });\n",
              "\n",
              "        function geo_json_e9fe2c9a042e1777ca3a67e82087303a_add (data) {\n",
              "            geo_json_e9fe2c9a042e1777ca3a67e82087303a\n",
              "                .addData(data);\n",
              "        }\n",
              "            geo_json_e9fe2c9a042e1777ca3a67e82087303a_add({&quot;coordinates&quot;: [[[-71.17965, 42.35125], [-71.08824, 42.35125], [-71.08824, 42.40584], [-71.17965, 42.40584], [-71.17965, 42.35125]]], &quot;type&quot;: &quot;Polygon&quot;});\n",
              "        geo_json_e9fe2c9a042e1777ca3a67e82087303a.setStyle(function(feature) {return feature.properties.style;});\n",
              "\n",
              "        \n",
              "    \n",
              "            geo_json_e9fe2c9a042e1777ca3a67e82087303a.addTo(map_7f4dcf0d8d787dbae138a641a8d4aa79);\n",
              "        \n",
              "    \n",
              "            var tile_layer_61f00fe31b6caf95c9f8b7035e566656 = L.tileLayer(\n",
              "                &quot;https://earthengine.googleapis.com/v1/projects/ee-jtantaroman/maps/0bf895d12e594740c9d88c4fca6f664d-63078bd75042c4e9c3182c31b30faf39/tiles/{z}/{x}/{y}&quot;,\n",
              "                {&quot;attribution&quot;: &quot;Google Earth Engine&quot;, &quot;detectRetina&quot;: false, &quot;maxZoom&quot;: 18, &quot;minZoom&quot;: 0, &quot;noWrap&quot;: false, &quot;opacity&quot;: 1, &quot;subdomains&quot;: &quot;abc&quot;, &quot;tms&quot;: false}\n",
              "            );\n",
              "        \n",
              "    \n",
              "            tile_layer_61f00fe31b6caf95c9f8b7035e566656.addTo(map_7f4dcf0d8d787dbae138a641a8d4aa79);\n",
              "        \n",
              "    \n",
              "            var layer_control_7b20a5c9dd900f72e2712b8eb79364e4_layers = {\n",
              "                base_layers : {\n",
              "                    &quot;openstreetmap&quot; : tile_layer_c3e392164485ea3034ea0783d9d632f9,\n",
              "                },\n",
              "                overlays :  {\n",
              "                    &quot;roi&quot; : geo_json_e9fe2c9a042e1777ca3a67e82087303a,\n",
              "                    &quot;composite_01&quot; : tile_layer_61f00fe31b6caf95c9f8b7035e566656,\n",
              "                },\n",
              "            };\n",
              "            let layer_control_7b20a5c9dd900f72e2712b8eb79364e4 = L.control.layers(\n",
              "                layer_control_7b20a5c9dd900f72e2712b8eb79364e4_layers.base_layers,\n",
              "                layer_control_7b20a5c9dd900f72e2712b8eb79364e4_layers.overlays,\n",
              "                {&quot;autoZIndex&quot;: true, &quot;collapsed&quot;: true, &quot;position&quot;: &quot;topright&quot;}\n",
              "            ).addTo(map_7f4dcf0d8d787dbae138a641a8d4aa79);\n",
              "\n",
              "        \n",
              "&lt;/script&gt;\n",
              "&lt;/html&gt;\" style=\"position:absolute;width:100%;height:100%;left:0;top:0;border:none !important;\" allowfullscreen webkitallowfullscreen mozallowfullscreen></iframe></div></div>"
            ]
          },
          "metadata": {},
          "execution_count": 4
        }
      ]
    },
    {
      "cell_type": "code",
      "metadata": {
        "id": "PhWkW2m0BCJu",
        "colab": {
          "base_uri": "https://localhost:8080/",
          "height": 685
        },
        "outputId": "eeb0e402-681a-4bee-9962-298410500006"
      },
      "source": [
        "# Cargue los datos NAIP, aca al usar filter bounds estamos cargando todas las imagenes que traslapen con nuestro ambito\n",
        "naip2012 = ee.ImageCollection('USDA/NAIP/DOQQ')\\\n",
        "             .filterBounds(roi)\\\n",
        "             .filterDate('2012-01-01', '2012-12-31')\n",
        "\n",
        "# Creamos un mosaico espacial y displayamos, con esto unimos (mosaico) todas las imagenes\n",
        "mosaic = naip2012.mosaic() #si no performamos el mosaico podemos ver el mismo resultado, visualmente se ve igual, pero en realidad al hacer mosaico y descargar nos descargara solo 1 imagen, a diferencia de antes del mosaico que nos descargaria varias imagenes\n",
        "center = [-71.12532, 42.3712]\n",
        "mapdisplay(center,{'roi':roi.getInfo(), 'spatial mosaic':mosaic.getMapId()},zoom_start=12)"
      ],
      "execution_count": 5,
      "outputs": [
        {
          "output_type": "execute_result",
          "data": {
            "text/plain": [
              "<folium.folium.Map at 0x793001a838e0>"
            ],
            "text/html": [
              "<div style=\"width:100%;\"><div style=\"position:relative;width:100%;height:0;padding-bottom:60%;\"><span style=\"color:#565656\">Make this Notebook Trusted to load map: File -> Trust Notebook</span><iframe srcdoc=\"&lt;!DOCTYPE html&gt;\n",
              "&lt;html&gt;\n",
              "&lt;head&gt;\n",
              "    \n",
              "    &lt;meta http-equiv=&quot;content-type&quot; content=&quot;text/html; charset=UTF-8&quot; /&gt;\n",
              "    \n",
              "        &lt;script&gt;\n",
              "            L_NO_TOUCH = false;\n",
              "            L_DISABLE_3D = false;\n",
              "        &lt;/script&gt;\n",
              "    \n",
              "    &lt;style&gt;html, body {width: 100%;height: 100%;margin: 0;padding: 0;}&lt;/style&gt;\n",
              "    &lt;style&gt;#map {position:absolute;top:0;bottom:0;right:0;left:0;}&lt;/style&gt;\n",
              "    &lt;script src=&quot;https://cdn.jsdelivr.net/npm/leaflet@1.9.3/dist/leaflet.js&quot;&gt;&lt;/script&gt;\n",
              "    &lt;script src=&quot;https://code.jquery.com/jquery-3.7.1.min.js&quot;&gt;&lt;/script&gt;\n",
              "    &lt;script src=&quot;https://cdn.jsdelivr.net/npm/bootstrap@5.2.2/dist/js/bootstrap.bundle.min.js&quot;&gt;&lt;/script&gt;\n",
              "    &lt;script src=&quot;https://cdnjs.cloudflare.com/ajax/libs/Leaflet.awesome-markers/2.0.2/leaflet.awesome-markers.js&quot;&gt;&lt;/script&gt;\n",
              "    &lt;link rel=&quot;stylesheet&quot; href=&quot;https://cdn.jsdelivr.net/npm/leaflet@1.9.3/dist/leaflet.css&quot;/&gt;\n",
              "    &lt;link rel=&quot;stylesheet&quot; href=&quot;https://cdn.jsdelivr.net/npm/bootstrap@5.2.2/dist/css/bootstrap.min.css&quot;/&gt;\n",
              "    &lt;link rel=&quot;stylesheet&quot; href=&quot;https://netdna.bootstrapcdn.com/bootstrap/3.0.0/css/bootstrap-glyphicons.css&quot;/&gt;\n",
              "    &lt;link rel=&quot;stylesheet&quot; href=&quot;https://cdn.jsdelivr.net/npm/@fortawesome/fontawesome-free@6.2.0/css/all.min.css&quot;/&gt;\n",
              "    &lt;link rel=&quot;stylesheet&quot; href=&quot;https://cdnjs.cloudflare.com/ajax/libs/Leaflet.awesome-markers/2.0.2/leaflet.awesome-markers.css&quot;/&gt;\n",
              "    &lt;link rel=&quot;stylesheet&quot; href=&quot;https://cdn.jsdelivr.net/gh/python-visualization/folium/folium/templates/leaflet.awesome.rotate.min.css&quot;/&gt;\n",
              "    \n",
              "            &lt;meta name=&quot;viewport&quot; content=&quot;width=device-width,\n",
              "                initial-scale=1.0, maximum-scale=1.0, user-scalable=no&quot; /&gt;\n",
              "            &lt;style&gt;\n",
              "                #map_05981725d5d95d6e1fd2a85dea5ffc06 {\n",
              "                    position: relative;\n",
              "                    width: 100.0%;\n",
              "                    height: 100.0%;\n",
              "                    left: 0.0%;\n",
              "                    top: 0.0%;\n",
              "                }\n",
              "                .leaflet-container { font-size: 1rem; }\n",
              "            &lt;/style&gt;\n",
              "        \n",
              "&lt;/head&gt;\n",
              "&lt;body&gt;\n",
              "    \n",
              "    \n",
              "            &lt;div class=&quot;folium-map&quot; id=&quot;map_05981725d5d95d6e1fd2a85dea5ffc06&quot; &gt;&lt;/div&gt;\n",
              "        \n",
              "&lt;/body&gt;\n",
              "&lt;script&gt;\n",
              "    \n",
              "    \n",
              "            var map_05981725d5d95d6e1fd2a85dea5ffc06 = L.map(\n",
              "                &quot;map_05981725d5d95d6e1fd2a85dea5ffc06&quot;,\n",
              "                {\n",
              "                    center: [42.3712, -71.12532],\n",
              "                    crs: L.CRS.EPSG3857,\n",
              "                    zoom: 12,\n",
              "                    zoomControl: true,\n",
              "                    preferCanvas: false,\n",
              "                }\n",
              "            );\n",
              "\n",
              "            \n",
              "\n",
              "        \n",
              "    \n",
              "            var tile_layer_10a4e604f08f35395659e280b2a24184 = L.tileLayer(\n",
              "                &quot;https://tile.openstreetmap.org/{z}/{x}/{y}.png&quot;,\n",
              "                {&quot;attribution&quot;: &quot;\\u0026copy; \\u003ca href=\\&quot;https://www.openstreetmap.org/copyright\\&quot;\\u003eOpenStreetMap\\u003c/a\\u003e contributors&quot;, &quot;detectRetina&quot;: false, &quot;maxNativeZoom&quot;: 19, &quot;maxZoom&quot;: 19, &quot;minZoom&quot;: 0, &quot;noWrap&quot;: false, &quot;opacity&quot;: 1, &quot;subdomains&quot;: &quot;abc&quot;, &quot;tms&quot;: false}\n",
              "            );\n",
              "        \n",
              "    \n",
              "            tile_layer_10a4e604f08f35395659e280b2a24184.addTo(map_05981725d5d95d6e1fd2a85dea5ffc06);\n",
              "        \n",
              "    \n",
              "\n",
              "        function geo_json_8a0313dc938fd0f42b0aac01aa19d2bc_onEachFeature(feature, layer) {\n",
              "            layer.on({\n",
              "            });\n",
              "        };\n",
              "        var geo_json_8a0313dc938fd0f42b0aac01aa19d2bc = L.geoJson(null, {\n",
              "                onEachFeature: geo_json_8a0313dc938fd0f42b0aac01aa19d2bc_onEachFeature,\n",
              "            \n",
              "        });\n",
              "\n",
              "        function geo_json_8a0313dc938fd0f42b0aac01aa19d2bc_add (data) {\n",
              "            geo_json_8a0313dc938fd0f42b0aac01aa19d2bc\n",
              "                .addData(data);\n",
              "        }\n",
              "            geo_json_8a0313dc938fd0f42b0aac01aa19d2bc_add({&quot;coordinates&quot;: [[[-71.17965, 42.35125], [-71.08824, 42.35125], [-71.08824, 42.40584], [-71.17965, 42.40584], [-71.17965, 42.35125]]], &quot;type&quot;: &quot;Polygon&quot;});\n",
              "        geo_json_8a0313dc938fd0f42b0aac01aa19d2bc.setStyle(function(feature) {return feature.properties.style;});\n",
              "\n",
              "        \n",
              "    \n",
              "            geo_json_8a0313dc938fd0f42b0aac01aa19d2bc.addTo(map_05981725d5d95d6e1fd2a85dea5ffc06);\n",
              "        \n",
              "    \n",
              "            var tile_layer_4edd110e34e16797886bc4edfe2a6453 = L.tileLayer(\n",
              "                &quot;https://earthengine.googleapis.com/v1/projects/ee-jtantaroman/maps/7d95093737c58f061eb563331cc8d41c-5d816cbf139b77d87a25bbfb8387e297/tiles/{z}/{x}/{y}&quot;,\n",
              "                {&quot;attribution&quot;: &quot;Google Earth Engine&quot;, &quot;detectRetina&quot;: false, &quot;maxZoom&quot;: 18, &quot;minZoom&quot;: 0, &quot;noWrap&quot;: false, &quot;opacity&quot;: 1, &quot;subdomains&quot;: &quot;abc&quot;, &quot;tms&quot;: false}\n",
              "            );\n",
              "        \n",
              "    \n",
              "            tile_layer_4edd110e34e16797886bc4edfe2a6453.addTo(map_05981725d5d95d6e1fd2a85dea5ffc06);\n",
              "        \n",
              "    \n",
              "            var layer_control_c5a774a1bbf28f64e821f9c0d5fde145_layers = {\n",
              "                base_layers : {\n",
              "                    &quot;openstreetmap&quot; : tile_layer_10a4e604f08f35395659e280b2a24184,\n",
              "                },\n",
              "                overlays :  {\n",
              "                    &quot;roi&quot; : geo_json_8a0313dc938fd0f42b0aac01aa19d2bc,\n",
              "                    &quot;spatial mosaic&quot; : tile_layer_4edd110e34e16797886bc4edfe2a6453,\n",
              "                },\n",
              "            };\n",
              "            let layer_control_c5a774a1bbf28f64e821f9c0d5fde145 = L.control.layers(\n",
              "                layer_control_c5a774a1bbf28f64e821f9c0d5fde145_layers.base_layers,\n",
              "                layer_control_c5a774a1bbf28f64e821f9c0d5fde145_layers.overlays,\n",
              "                {&quot;autoZIndex&quot;: true, &quot;collapsed&quot;: true, &quot;position&quot;: &quot;topright&quot;}\n",
              "            ).addTo(map_05981725d5d95d6e1fd2a85dea5ffc06);\n",
              "\n",
              "        \n",
              "&lt;/script&gt;\n",
              "&lt;/html&gt;\" style=\"position:absolute;width:100%;height:100%;left:0;top:0;border:none !important;\" allowfullscreen webkitallowfullscreen mozallowfullscreen></iframe></div></div>"
            ]
          },
          "metadata": {},
          "execution_count": 5
        }
      ]
    },
    {
      "cell_type": "markdown",
      "metadata": {
        "id": "jqQYfxW7DtW5"
      },
      "source": [
        "### **Ejercicio:**\n",
        "**Crear un composite del año 2018, en la selva de Peru, considerando los datos de las imagenes Landsat. Automatizar el proceso mediante una funcion.**"
      ]
    },
    {
      "cell_type": "code",
      "metadata": {
        "id": "wz7-pscsKC0z"
      },
      "source": [
        "#  Parametros globales\n",
        "range_date = ['2018-01-01', '2018-12-31']\n",
        "center = [-72.628,-10.609]\n",
        "roi = ee.Geometry.Point(center)\n",
        "# Parametros de visualizacion de landat7 landsat8 y landast7 y 8\n",
        "l7_viz_params = {'bands':['SR_B5','SR_B4','SR_B3'],'min':0,'max': 0.4, 'gamma':1.2}\n",
        "l8_viz_params = {'bands':['SR_B6','SR_B5','SR_B4'],'min':0,'max': 0.4, 'gamma':1.2}\n",
        "l78_viz_params = {'bands':['SWIR','NIR','RED'],'min':0,'max': 0.4, 'gamma':1.2}"
      ],
      "execution_count": 34,
      "outputs": []
    },
    {
      "cell_type": "markdown",
      "metadata": {
        "id": "F3rowIXQyZs4"
      },
      "source": [
        "Funcion para obtener el tiempo de cada imagen"
      ]
    },
    {
      "cell_type": "code",
      "metadata": {
        "id": "cfJUvCtxKl8m"
      },
      "source": [
        "from datetime import datetime as dt\n",
        "def get_dates(ic):\n",
        "  dates = ic.aggregate_array('system:time_start').getInfo()\n",
        "  anonym = lambda x: dt.utcfromtimestamp(x/1000).strftime('%Y-%m-%d %H:%M:%S')\n",
        "  return list(map(anonym, dates))"
      ],
      "execution_count": 7,
      "outputs": []
    },
    {
      "cell_type": "code",
      "source": [
        "## Ahora ha cambiado L7 de C01 a C02 y se necesita aplicar los factores de escala en la cual se guardan los datos\n",
        "# https://developers.google.com/earth-engine/datasets/catalog/LANDSAT_LE07_C02_T1_L2#image-properties\n",
        "def applyScaleFactors(image):\n",
        "  opticalBands = image.select('SR_B.').multiply(0.0000275).add(-0.2)\n",
        "  thermalBand = image.select('ST_B6').multiply(0.00341802).add(149.0)\n",
        "\n",
        "  return image.addBands(opticalBands, None, True)\\\n",
        "              .addBands(thermalBand, None, True)"
      ],
      "metadata": {
        "id": "RR5KlEyKrI6m"
      },
      "execution_count": 8,
      "outputs": []
    },
    {
      "cell_type": "code",
      "source": [
        "# Lo mismo aplica para L8\n",
        "# https://developers.google.com/earth-engine/datasets/catalog/LANDSAT_LC08_C02_T1_L2#colab-python\n",
        "def applyScaleFactorsL8(image):\n",
        "  optical_bands = image.select('SR_B.').multiply(0.0000275).add(-0.2)\n",
        "  thermal_bands = image.select('ST_B.*').multiply(0.00341802).add(149.0)\n",
        "  return image.addBands(optical_bands, None, True).addBands(\n",
        "      thermal_bands, None, True\n",
        "  )"
      ],
      "metadata": {
        "id": "if4X5nAhTZI6"
      },
      "execution_count": 21,
      "outputs": []
    },
    {
      "cell_type": "markdown",
      "metadata": {
        "id": "7fK_1vuKJ1Rg"
      },
      "source": [
        "##### **Landsat 7 - sin mascara**\n",
        "\n",
        "Vemos que hay muchas nubes en la imagen y sombras es por eso que sera necesario aplicar una mascara"
      ]
    },
    {
      "cell_type": "code",
      "metadata": {
        "id": "-z2YdhfB5Fbk",
        "colab": {
          "base_uri": "https://localhost:8080/"
        },
        "outputId": "4c21d919-882c-4851-dd8c-338ea8d370a1"
      },
      "source": [
        "l7 = ee.ImageCollection('LANDSAT/LE07/C02/T1_L2')\\\n",
        "       .filterBounds(roi)\\\n",
        "       .filterDate(range_date[0], range_date[1])\\\n",
        "       .filterMetadata('CLOUD_COVER','less_than',20)\\\n",
        "       .map(applyScaleFactors)\n",
        "\n",
        "#Además estamos viendo que hay pocas imagenes para la selva peruana, solo 4 imagenes cumplen con la covertura de nube menor al 20%\n",
        "get_dates(l7)"
      ],
      "execution_count": 9,
      "outputs": [
        {
          "output_type": "execute_result",
          "data": {
            "text/plain": [
              "['2018-07-26 14:57:07',\n",
              " '2018-08-11 14:56:49',\n",
              " '2018-08-27 14:56:30',\n",
              " '2018-09-12 14:56:10']"
            ]
          },
          "metadata": {},
          "execution_count": 9
        }
      ]
    },
    {
      "cell_type": "code",
      "metadata": {
        "id": "d2Wjnnt_vexS",
        "colab": {
          "base_uri": "https://localhost:8080/",
          "height": 685
        },
        "outputId": "93edfb53-7f2d-4361-d0ba-0fa8033889b7"
      },
      "source": [
        "# Displaye los resultados\n",
        "to_plot_median = l7.median().getMapId(l7_viz_params)\n",
        "mapdisplay(center,{'median_l7_cloud':to_plot_median})"
      ],
      "execution_count": 10,
      "outputs": [
        {
          "output_type": "execute_result",
          "data": {
            "text/plain": [
              "<folium.folium.Map at 0x793001a838b0>"
            ],
            "text/html": [
              "<div style=\"width:100%;\"><div style=\"position:relative;width:100%;height:0;padding-bottom:60%;\"><span style=\"color:#565656\">Make this Notebook Trusted to load map: File -> Trust Notebook</span><iframe srcdoc=\"&lt;!DOCTYPE html&gt;\n",
              "&lt;html&gt;\n",
              "&lt;head&gt;\n",
              "    \n",
              "    &lt;meta http-equiv=&quot;content-type&quot; content=&quot;text/html; charset=UTF-8&quot; /&gt;\n",
              "    \n",
              "        &lt;script&gt;\n",
              "            L_NO_TOUCH = false;\n",
              "            L_DISABLE_3D = false;\n",
              "        &lt;/script&gt;\n",
              "    \n",
              "    &lt;style&gt;html, body {width: 100%;height: 100%;margin: 0;padding: 0;}&lt;/style&gt;\n",
              "    &lt;style&gt;#map {position:absolute;top:0;bottom:0;right:0;left:0;}&lt;/style&gt;\n",
              "    &lt;script src=&quot;https://cdn.jsdelivr.net/npm/leaflet@1.9.3/dist/leaflet.js&quot;&gt;&lt;/script&gt;\n",
              "    &lt;script src=&quot;https://code.jquery.com/jquery-3.7.1.min.js&quot;&gt;&lt;/script&gt;\n",
              "    &lt;script src=&quot;https://cdn.jsdelivr.net/npm/bootstrap@5.2.2/dist/js/bootstrap.bundle.min.js&quot;&gt;&lt;/script&gt;\n",
              "    &lt;script src=&quot;https://cdnjs.cloudflare.com/ajax/libs/Leaflet.awesome-markers/2.0.2/leaflet.awesome-markers.js&quot;&gt;&lt;/script&gt;\n",
              "    &lt;link rel=&quot;stylesheet&quot; href=&quot;https://cdn.jsdelivr.net/npm/leaflet@1.9.3/dist/leaflet.css&quot;/&gt;\n",
              "    &lt;link rel=&quot;stylesheet&quot; href=&quot;https://cdn.jsdelivr.net/npm/bootstrap@5.2.2/dist/css/bootstrap.min.css&quot;/&gt;\n",
              "    &lt;link rel=&quot;stylesheet&quot; href=&quot;https://netdna.bootstrapcdn.com/bootstrap/3.0.0/css/bootstrap-glyphicons.css&quot;/&gt;\n",
              "    &lt;link rel=&quot;stylesheet&quot; href=&quot;https://cdn.jsdelivr.net/npm/@fortawesome/fontawesome-free@6.2.0/css/all.min.css&quot;/&gt;\n",
              "    &lt;link rel=&quot;stylesheet&quot; href=&quot;https://cdnjs.cloudflare.com/ajax/libs/Leaflet.awesome-markers/2.0.2/leaflet.awesome-markers.css&quot;/&gt;\n",
              "    &lt;link rel=&quot;stylesheet&quot; href=&quot;https://cdn.jsdelivr.net/gh/python-visualization/folium/folium/templates/leaflet.awesome.rotate.min.css&quot;/&gt;\n",
              "    \n",
              "            &lt;meta name=&quot;viewport&quot; content=&quot;width=device-width,\n",
              "                initial-scale=1.0, maximum-scale=1.0, user-scalable=no&quot; /&gt;\n",
              "            &lt;style&gt;\n",
              "                #map_63a785051319a0dab69ea56cfd827084 {\n",
              "                    position: relative;\n",
              "                    width: 100.0%;\n",
              "                    height: 100.0%;\n",
              "                    left: 0.0%;\n",
              "                    top: 0.0%;\n",
              "                }\n",
              "                .leaflet-container { font-size: 1rem; }\n",
              "            &lt;/style&gt;\n",
              "        \n",
              "&lt;/head&gt;\n",
              "&lt;body&gt;\n",
              "    \n",
              "    \n",
              "            &lt;div class=&quot;folium-map&quot; id=&quot;map_63a785051319a0dab69ea56cfd827084&quot; &gt;&lt;/div&gt;\n",
              "        \n",
              "&lt;/body&gt;\n",
              "&lt;script&gt;\n",
              "    \n",
              "    \n",
              "            var map_63a785051319a0dab69ea56cfd827084 = L.map(\n",
              "                &quot;map_63a785051319a0dab69ea56cfd827084&quot;,\n",
              "                {\n",
              "                    center: [-10.609, -72.628],\n",
              "                    crs: L.CRS.EPSG3857,\n",
              "                    zoom: 10,\n",
              "                    zoomControl: true,\n",
              "                    preferCanvas: false,\n",
              "                }\n",
              "            );\n",
              "\n",
              "            \n",
              "\n",
              "        \n",
              "    \n",
              "            var tile_layer_db465b654bf7c91dc40e984891a877db = L.tileLayer(\n",
              "                &quot;https://tile.openstreetmap.org/{z}/{x}/{y}.png&quot;,\n",
              "                {&quot;attribution&quot;: &quot;\\u0026copy; \\u003ca href=\\&quot;https://www.openstreetmap.org/copyright\\&quot;\\u003eOpenStreetMap\\u003c/a\\u003e contributors&quot;, &quot;detectRetina&quot;: false, &quot;maxNativeZoom&quot;: 19, &quot;maxZoom&quot;: 19, &quot;minZoom&quot;: 0, &quot;noWrap&quot;: false, &quot;opacity&quot;: 1, &quot;subdomains&quot;: &quot;abc&quot;, &quot;tms&quot;: false}\n",
              "            );\n",
              "        \n",
              "    \n",
              "            tile_layer_db465b654bf7c91dc40e984891a877db.addTo(map_63a785051319a0dab69ea56cfd827084);\n",
              "        \n",
              "    \n",
              "            var tile_layer_f398006378a496906884e8f671efa3a0 = L.tileLayer(\n",
              "                &quot;https://earthengine.googleapis.com/v1/projects/ee-jtantaroman/maps/61e146745fa752b7f679b79945caad3d-30ea084d93c61b1fdf8022b514308e66/tiles/{z}/{x}/{y}&quot;,\n",
              "                {&quot;attribution&quot;: &quot;Google Earth Engine&quot;, &quot;detectRetina&quot;: false, &quot;maxZoom&quot;: 18, &quot;minZoom&quot;: 0, &quot;noWrap&quot;: false, &quot;opacity&quot;: 1, &quot;subdomains&quot;: &quot;abc&quot;, &quot;tms&quot;: false}\n",
              "            );\n",
              "        \n",
              "    \n",
              "            tile_layer_f398006378a496906884e8f671efa3a0.addTo(map_63a785051319a0dab69ea56cfd827084);\n",
              "        \n",
              "    \n",
              "            var layer_control_843e2f881d7b35c0cfe60f523e912ff0_layers = {\n",
              "                base_layers : {\n",
              "                    &quot;openstreetmap&quot; : tile_layer_db465b654bf7c91dc40e984891a877db,\n",
              "                },\n",
              "                overlays :  {\n",
              "                    &quot;median_l7_cloud&quot; : tile_layer_f398006378a496906884e8f671efa3a0,\n",
              "                },\n",
              "            };\n",
              "            let layer_control_843e2f881d7b35c0cfe60f523e912ff0 = L.control.layers(\n",
              "                layer_control_843e2f881d7b35c0cfe60f523e912ff0_layers.base_layers,\n",
              "                layer_control_843e2f881d7b35c0cfe60f523e912ff0_layers.overlays,\n",
              "                {&quot;autoZIndex&quot;: true, &quot;collapsed&quot;: true, &quot;position&quot;: &quot;topright&quot;}\n",
              "            ).addTo(map_63a785051319a0dab69ea56cfd827084);\n",
              "\n",
              "        \n",
              "&lt;/script&gt;\n",
              "&lt;/html&gt;\" style=\"position:absolute;width:100%;height:100%;left:0;top:0;border:none !important;\" allowfullscreen webkitallowfullscreen mozallowfullscreen></iframe></div></div>"
            ]
          },
          "metadata": {},
          "execution_count": 10
        }
      ]
    },
    {
      "cell_type": "markdown",
      "metadata": {
        "id": "doduTvrsM_s_"
      },
      "source": [
        "##### **Landsat 7 - con mascara**\n",
        "\n",
        "Al hacer la mascara se quian los pixeles donde encuentran todo tipo de nubes que se han enumerado en la funcion, es por eso que nos queda algunos huecos en las imagenes"
      ]
    },
    {
      "cell_type": "code",
      "metadata": {
        "id": "jQZsCmYvyo5P"
      },
      "source": [
        "def l7_maskcloud(image):\n",
        "  qa = image.select('QA_PIXEL')\n",
        "  #Generando una mascara para solo aquellos pixeles que no contienen cloud shadow, cloud y cloud confidence\n",
        "  #Ahora cambio el producto así que la mascara sería asi:  el primero es cloud (bit3) el segundo cloud shadow (bit4) , cloud confidence (bit9), cloud shadow confidence (bit11) y cirrus confidence (bit15)\n",
        "  my_mask = (1 << 3) + (1 << 4) + (1 << 9) + (1 << 11) + (1 << 15)\n",
        "  mask = qa.bitwiseAnd(my_mask).eq(0)\n",
        "  ndvi = image.normalizedDifference(['SR_B4', 'SR_B3']).rename('NDVI')\n",
        "  return image.select([\"SR_B.*\"]).addBands(ndvi).updateMask(mask).copyProperties(image, [\"system:time_start\"])"
      ],
      "execution_count": 11,
      "outputs": []
    },
    {
      "cell_type": "code",
      "metadata": {
        "id": "AYUSiGBRy9Zt",
        "colab": {
          "base_uri": "https://localhost:8080/",
          "height": 685
        },
        "outputId": "d2c8bcab-d52e-4910-fb8f-a7a67ce644ca"
      },
      "source": [
        "l7_nocloud = l7.map(l7_maskcloud)\n",
        "#El qualityMosaic ordena las imagenes al hacer una mosaico en un image collection\n",
        "l7_nocloud_nvdi = l7_nocloud.qualityMosaic('NDVI')\n",
        "l7_nocloud_getmapid = l7_nocloud_nvdi.getMapId(l7_viz_params)\n",
        "mapdisplay(center,{'ndvi_l7_nocloud':l7_nocloud_getmapid,\n",
        "                   'median_l7_cloud':to_plot_median})"
      ],
      "execution_count": 12,
      "outputs": [
        {
          "output_type": "execute_result",
          "data": {
            "text/plain": [
              "<folium.folium.Map at 0x793001890820>"
            ],
            "text/html": [
              "<div style=\"width:100%;\"><div style=\"position:relative;width:100%;height:0;padding-bottom:60%;\"><span style=\"color:#565656\">Make this Notebook Trusted to load map: File -> Trust Notebook</span><iframe srcdoc=\"&lt;!DOCTYPE html&gt;\n",
              "&lt;html&gt;\n",
              "&lt;head&gt;\n",
              "    \n",
              "    &lt;meta http-equiv=&quot;content-type&quot; content=&quot;text/html; charset=UTF-8&quot; /&gt;\n",
              "    \n",
              "        &lt;script&gt;\n",
              "            L_NO_TOUCH = false;\n",
              "            L_DISABLE_3D = false;\n",
              "        &lt;/script&gt;\n",
              "    \n",
              "    &lt;style&gt;html, body {width: 100%;height: 100%;margin: 0;padding: 0;}&lt;/style&gt;\n",
              "    &lt;style&gt;#map {position:absolute;top:0;bottom:0;right:0;left:0;}&lt;/style&gt;\n",
              "    &lt;script src=&quot;https://cdn.jsdelivr.net/npm/leaflet@1.9.3/dist/leaflet.js&quot;&gt;&lt;/script&gt;\n",
              "    &lt;script src=&quot;https://code.jquery.com/jquery-3.7.1.min.js&quot;&gt;&lt;/script&gt;\n",
              "    &lt;script src=&quot;https://cdn.jsdelivr.net/npm/bootstrap@5.2.2/dist/js/bootstrap.bundle.min.js&quot;&gt;&lt;/script&gt;\n",
              "    &lt;script src=&quot;https://cdnjs.cloudflare.com/ajax/libs/Leaflet.awesome-markers/2.0.2/leaflet.awesome-markers.js&quot;&gt;&lt;/script&gt;\n",
              "    &lt;link rel=&quot;stylesheet&quot; href=&quot;https://cdn.jsdelivr.net/npm/leaflet@1.9.3/dist/leaflet.css&quot;/&gt;\n",
              "    &lt;link rel=&quot;stylesheet&quot; href=&quot;https://cdn.jsdelivr.net/npm/bootstrap@5.2.2/dist/css/bootstrap.min.css&quot;/&gt;\n",
              "    &lt;link rel=&quot;stylesheet&quot; href=&quot;https://netdna.bootstrapcdn.com/bootstrap/3.0.0/css/bootstrap-glyphicons.css&quot;/&gt;\n",
              "    &lt;link rel=&quot;stylesheet&quot; href=&quot;https://cdn.jsdelivr.net/npm/@fortawesome/fontawesome-free@6.2.0/css/all.min.css&quot;/&gt;\n",
              "    &lt;link rel=&quot;stylesheet&quot; href=&quot;https://cdnjs.cloudflare.com/ajax/libs/Leaflet.awesome-markers/2.0.2/leaflet.awesome-markers.css&quot;/&gt;\n",
              "    &lt;link rel=&quot;stylesheet&quot; href=&quot;https://cdn.jsdelivr.net/gh/python-visualization/folium/folium/templates/leaflet.awesome.rotate.min.css&quot;/&gt;\n",
              "    \n",
              "            &lt;meta name=&quot;viewport&quot; content=&quot;width=device-width,\n",
              "                initial-scale=1.0, maximum-scale=1.0, user-scalable=no&quot; /&gt;\n",
              "            &lt;style&gt;\n",
              "                #map_04dd8a584e2e61e033d3b27a9d755c3a {\n",
              "                    position: relative;\n",
              "                    width: 100.0%;\n",
              "                    height: 100.0%;\n",
              "                    left: 0.0%;\n",
              "                    top: 0.0%;\n",
              "                }\n",
              "                .leaflet-container { font-size: 1rem; }\n",
              "            &lt;/style&gt;\n",
              "        \n",
              "&lt;/head&gt;\n",
              "&lt;body&gt;\n",
              "    \n",
              "    \n",
              "            &lt;div class=&quot;folium-map&quot; id=&quot;map_04dd8a584e2e61e033d3b27a9d755c3a&quot; &gt;&lt;/div&gt;\n",
              "        \n",
              "&lt;/body&gt;\n",
              "&lt;script&gt;\n",
              "    \n",
              "    \n",
              "            var map_04dd8a584e2e61e033d3b27a9d755c3a = L.map(\n",
              "                &quot;map_04dd8a584e2e61e033d3b27a9d755c3a&quot;,\n",
              "                {\n",
              "                    center: [-10.609, -72.628],\n",
              "                    crs: L.CRS.EPSG3857,\n",
              "                    zoom: 10,\n",
              "                    zoomControl: true,\n",
              "                    preferCanvas: false,\n",
              "                }\n",
              "            );\n",
              "\n",
              "            \n",
              "\n",
              "        \n",
              "    \n",
              "            var tile_layer_d75eb0fce3d20eeeb34a8c537a5e4a3b = L.tileLayer(\n",
              "                &quot;https://tile.openstreetmap.org/{z}/{x}/{y}.png&quot;,\n",
              "                {&quot;attribution&quot;: &quot;\\u0026copy; \\u003ca href=\\&quot;https://www.openstreetmap.org/copyright\\&quot;\\u003eOpenStreetMap\\u003c/a\\u003e contributors&quot;, &quot;detectRetina&quot;: false, &quot;maxNativeZoom&quot;: 19, &quot;maxZoom&quot;: 19, &quot;minZoom&quot;: 0, &quot;noWrap&quot;: false, &quot;opacity&quot;: 1, &quot;subdomains&quot;: &quot;abc&quot;, &quot;tms&quot;: false}\n",
              "            );\n",
              "        \n",
              "    \n",
              "            tile_layer_d75eb0fce3d20eeeb34a8c537a5e4a3b.addTo(map_04dd8a584e2e61e033d3b27a9d755c3a);\n",
              "        \n",
              "    \n",
              "            var tile_layer_880babab03a2994a1773f51c311b75ae = L.tileLayer(\n",
              "                &quot;https://earthengine.googleapis.com/v1/projects/ee-jtantaroman/maps/c95d20f1ec51aa149fa0e87464d0d68c-3c970dc3d191c15492918fff87dee2a0/tiles/{z}/{x}/{y}&quot;,\n",
              "                {&quot;attribution&quot;: &quot;Google Earth Engine&quot;, &quot;detectRetina&quot;: false, &quot;maxZoom&quot;: 18, &quot;minZoom&quot;: 0, &quot;noWrap&quot;: false, &quot;opacity&quot;: 1, &quot;subdomains&quot;: &quot;abc&quot;, &quot;tms&quot;: false}\n",
              "            );\n",
              "        \n",
              "    \n",
              "            tile_layer_880babab03a2994a1773f51c311b75ae.addTo(map_04dd8a584e2e61e033d3b27a9d755c3a);\n",
              "        \n",
              "    \n",
              "            var tile_layer_62ed791ff7cf9be0426cbd76d2b9f363 = L.tileLayer(\n",
              "                &quot;https://earthengine.googleapis.com/v1/projects/ee-jtantaroman/maps/61e146745fa752b7f679b79945caad3d-30ea084d93c61b1fdf8022b514308e66/tiles/{z}/{x}/{y}&quot;,\n",
              "                {&quot;attribution&quot;: &quot;Google Earth Engine&quot;, &quot;detectRetina&quot;: false, &quot;maxZoom&quot;: 18, &quot;minZoom&quot;: 0, &quot;noWrap&quot;: false, &quot;opacity&quot;: 1, &quot;subdomains&quot;: &quot;abc&quot;, &quot;tms&quot;: false}\n",
              "            );\n",
              "        \n",
              "    \n",
              "            tile_layer_62ed791ff7cf9be0426cbd76d2b9f363.addTo(map_04dd8a584e2e61e033d3b27a9d755c3a);\n",
              "        \n",
              "    \n",
              "            var layer_control_007e74905270b0316944a775b6a0a1dd_layers = {\n",
              "                base_layers : {\n",
              "                    &quot;openstreetmap&quot; : tile_layer_d75eb0fce3d20eeeb34a8c537a5e4a3b,\n",
              "                },\n",
              "                overlays :  {\n",
              "                    &quot;ndvi_l7_nocloud&quot; : tile_layer_880babab03a2994a1773f51c311b75ae,\n",
              "                    &quot;median_l7_cloud&quot; : tile_layer_62ed791ff7cf9be0426cbd76d2b9f363,\n",
              "                },\n",
              "            };\n",
              "            let layer_control_007e74905270b0316944a775b6a0a1dd = L.control.layers(\n",
              "                layer_control_007e74905270b0316944a775b6a0a1dd_layers.base_layers,\n",
              "                layer_control_007e74905270b0316944a775b6a0a1dd_layers.overlays,\n",
              "                {&quot;autoZIndex&quot;: true, &quot;collapsed&quot;: true, &quot;position&quot;: &quot;topright&quot;}\n",
              "            ).addTo(map_04dd8a584e2e61e033d3b27a9d755c3a);\n",
              "\n",
              "        \n",
              "&lt;/script&gt;\n",
              "&lt;/html&gt;\" style=\"position:absolute;width:100%;height:100%;left:0;top:0;border:none !important;\" allowfullscreen webkitallowfullscreen mozallowfullscreen></iframe></div></div>"
            ]
          },
          "metadata": {},
          "execution_count": 12
        }
      ]
    },
    {
      "cell_type": "markdown",
      "source": [
        "Para completar estos datos faltantes o vacios en nuestro mosaico existen diferentes metodos:\n",
        "\n",
        "1. Interpolacion o gap filling de forma temporal, es decir, para nuestro caso tratar de completar los datos del 2018 con lo que se obtuvo en el 2017.\n",
        "2. Llenar vacios con Landsat8, articulos mencionan que existen diferencias radiometricas entre L7 y L8, sin embargo estas diferencias se pueden tratar de minimizar utilizando la topologia en las imagenes.\n",
        "\n",
        "Primero aplicaremos el metodo2, pero para esto debemos analizar si es que hay imagenes landsat8 disponibles para este mismo ámbito."
      ],
      "metadata": {
        "id": "vBTJHIdlQhLy"
      }
    },
    {
      "cell_type": "markdown",
      "metadata": {
        "id": "K_A_mnLZSc9_"
      },
      "source": [
        "##### **Landsat 8 - sin mascara**"
      ]
    },
    {
      "cell_type": "code",
      "metadata": {
        "id": "Ow6xcEmG3TbH",
        "outputId": "a9ad70be-1aa0-4e1f-c5f9-b3b65089ef45",
        "colab": {
          "base_uri": "https://localhost:8080/"
        }
      },
      "source": [
        "l8 = ee.ImageCollection(\"LANDSAT/LC08/C02/T1_L2\")\\\n",
        "       .filterBounds(roi)\\\n",
        "       .filterDate(range_date[0], range_date[1])\\\n",
        "       .filterMetadata('CLOUD_COVER','less_than',20)\\\n",
        "       .map(applyScaleFactorsL8)\n",
        "\n",
        "get_dates(l8)"
      ],
      "execution_count": 32,
      "outputs": [
        {
          "output_type": "execute_result",
          "data": {
            "text/plain": [
              "['2018-07-02 14:57:15',\n",
              " '2018-08-19 14:57:39',\n",
              " '2018-09-04 14:57:46',\n",
              " '2018-09-20 14:57:50']"
            ]
          },
          "metadata": {},
          "execution_count": 32
        }
      ]
    },
    {
      "cell_type": "code",
      "metadata": {
        "id": "Pf7R78U8UzqQ",
        "outputId": "84b5f3d8-221e-4139-efbe-2a15152bb396",
        "colab": {
          "base_uri": "https://localhost:8080/",
          "height": 685
        }
      },
      "source": [
        "# Displaye los resultados\n",
        "l8_to_plot_median = l8.median().getMapId(l8_viz_params)\n",
        "mapdisplay(center,{'median_l8_cloud':l8_to_plot_median})"
      ],
      "execution_count": 27,
      "outputs": [
        {
          "output_type": "execute_result",
          "data": {
            "text/plain": [
              "<folium.folium.Map at 0x7930017f2f50>"
            ],
            "text/html": [
              "<div style=\"width:100%;\"><div style=\"position:relative;width:100%;height:0;padding-bottom:60%;\"><span style=\"color:#565656\">Make this Notebook Trusted to load map: File -> Trust Notebook</span><iframe srcdoc=\"&lt;!DOCTYPE html&gt;\n",
              "&lt;html&gt;\n",
              "&lt;head&gt;\n",
              "    \n",
              "    &lt;meta http-equiv=&quot;content-type&quot; content=&quot;text/html; charset=UTF-8&quot; /&gt;\n",
              "    \n",
              "        &lt;script&gt;\n",
              "            L_NO_TOUCH = false;\n",
              "            L_DISABLE_3D = false;\n",
              "        &lt;/script&gt;\n",
              "    \n",
              "    &lt;style&gt;html, body {width: 100%;height: 100%;margin: 0;padding: 0;}&lt;/style&gt;\n",
              "    &lt;style&gt;#map {position:absolute;top:0;bottom:0;right:0;left:0;}&lt;/style&gt;\n",
              "    &lt;script src=&quot;https://cdn.jsdelivr.net/npm/leaflet@1.9.3/dist/leaflet.js&quot;&gt;&lt;/script&gt;\n",
              "    &lt;script src=&quot;https://code.jquery.com/jquery-3.7.1.min.js&quot;&gt;&lt;/script&gt;\n",
              "    &lt;script src=&quot;https://cdn.jsdelivr.net/npm/bootstrap@5.2.2/dist/js/bootstrap.bundle.min.js&quot;&gt;&lt;/script&gt;\n",
              "    &lt;script src=&quot;https://cdnjs.cloudflare.com/ajax/libs/Leaflet.awesome-markers/2.0.2/leaflet.awesome-markers.js&quot;&gt;&lt;/script&gt;\n",
              "    &lt;link rel=&quot;stylesheet&quot; href=&quot;https://cdn.jsdelivr.net/npm/leaflet@1.9.3/dist/leaflet.css&quot;/&gt;\n",
              "    &lt;link rel=&quot;stylesheet&quot; href=&quot;https://cdn.jsdelivr.net/npm/bootstrap@5.2.2/dist/css/bootstrap.min.css&quot;/&gt;\n",
              "    &lt;link rel=&quot;stylesheet&quot; href=&quot;https://netdna.bootstrapcdn.com/bootstrap/3.0.0/css/bootstrap-glyphicons.css&quot;/&gt;\n",
              "    &lt;link rel=&quot;stylesheet&quot; href=&quot;https://cdn.jsdelivr.net/npm/@fortawesome/fontawesome-free@6.2.0/css/all.min.css&quot;/&gt;\n",
              "    &lt;link rel=&quot;stylesheet&quot; href=&quot;https://cdnjs.cloudflare.com/ajax/libs/Leaflet.awesome-markers/2.0.2/leaflet.awesome-markers.css&quot;/&gt;\n",
              "    &lt;link rel=&quot;stylesheet&quot; href=&quot;https://cdn.jsdelivr.net/gh/python-visualization/folium/folium/templates/leaflet.awesome.rotate.min.css&quot;/&gt;\n",
              "    \n",
              "            &lt;meta name=&quot;viewport&quot; content=&quot;width=device-width,\n",
              "                initial-scale=1.0, maximum-scale=1.0, user-scalable=no&quot; /&gt;\n",
              "            &lt;style&gt;\n",
              "                #map_7b766e719713e3a2e9d8ce2f975e978f {\n",
              "                    position: relative;\n",
              "                    width: 100.0%;\n",
              "                    height: 100.0%;\n",
              "                    left: 0.0%;\n",
              "                    top: 0.0%;\n",
              "                }\n",
              "                .leaflet-container { font-size: 1rem; }\n",
              "            &lt;/style&gt;\n",
              "        \n",
              "&lt;/head&gt;\n",
              "&lt;body&gt;\n",
              "    \n",
              "    \n",
              "            &lt;div class=&quot;folium-map&quot; id=&quot;map_7b766e719713e3a2e9d8ce2f975e978f&quot; &gt;&lt;/div&gt;\n",
              "        \n",
              "&lt;/body&gt;\n",
              "&lt;script&gt;\n",
              "    \n",
              "    \n",
              "            var map_7b766e719713e3a2e9d8ce2f975e978f = L.map(\n",
              "                &quot;map_7b766e719713e3a2e9d8ce2f975e978f&quot;,\n",
              "                {\n",
              "                    center: [-10.609, -72.628],\n",
              "                    crs: L.CRS.EPSG3857,\n",
              "                    zoom: 10,\n",
              "                    zoomControl: true,\n",
              "                    preferCanvas: false,\n",
              "                }\n",
              "            );\n",
              "\n",
              "            \n",
              "\n",
              "        \n",
              "    \n",
              "            var tile_layer_c8ab99a3a54454e192cd4c1d2e211da0 = L.tileLayer(\n",
              "                &quot;https://tile.openstreetmap.org/{z}/{x}/{y}.png&quot;,\n",
              "                {&quot;attribution&quot;: &quot;\\u0026copy; \\u003ca href=\\&quot;https://www.openstreetmap.org/copyright\\&quot;\\u003eOpenStreetMap\\u003c/a\\u003e contributors&quot;, &quot;detectRetina&quot;: false, &quot;maxNativeZoom&quot;: 19, &quot;maxZoom&quot;: 19, &quot;minZoom&quot;: 0, &quot;noWrap&quot;: false, &quot;opacity&quot;: 1, &quot;subdomains&quot;: &quot;abc&quot;, &quot;tms&quot;: false}\n",
              "            );\n",
              "        \n",
              "    \n",
              "            tile_layer_c8ab99a3a54454e192cd4c1d2e211da0.addTo(map_7b766e719713e3a2e9d8ce2f975e978f);\n",
              "        \n",
              "    \n",
              "            var tile_layer_d75b68ea86f3d6716a0a9795d4963d0c = L.tileLayer(\n",
              "                &quot;https://earthengine.googleapis.com/v1/projects/ee-jtantaroman/maps/844f2427a6626a3ba201dc14f3bde0f6-211d24f06b762dcf46396a42ec5b788c/tiles/{z}/{x}/{y}&quot;,\n",
              "                {&quot;attribution&quot;: &quot;Google Earth Engine&quot;, &quot;detectRetina&quot;: false, &quot;maxZoom&quot;: 18, &quot;minZoom&quot;: 0, &quot;noWrap&quot;: false, &quot;opacity&quot;: 1, &quot;subdomains&quot;: &quot;abc&quot;, &quot;tms&quot;: false}\n",
              "            );\n",
              "        \n",
              "    \n",
              "            tile_layer_d75b68ea86f3d6716a0a9795d4963d0c.addTo(map_7b766e719713e3a2e9d8ce2f975e978f);\n",
              "        \n",
              "    \n",
              "            var layer_control_34cea8b8268a301de0fbfd995599ebfb_layers = {\n",
              "                base_layers : {\n",
              "                    &quot;openstreetmap&quot; : tile_layer_c8ab99a3a54454e192cd4c1d2e211da0,\n",
              "                },\n",
              "                overlays :  {\n",
              "                    &quot;median_l8_cloud&quot; : tile_layer_d75b68ea86f3d6716a0a9795d4963d0c,\n",
              "                },\n",
              "            };\n",
              "            let layer_control_34cea8b8268a301de0fbfd995599ebfb = L.control.layers(\n",
              "                layer_control_34cea8b8268a301de0fbfd995599ebfb_layers.base_layers,\n",
              "                layer_control_34cea8b8268a301de0fbfd995599ebfb_layers.overlays,\n",
              "                {&quot;autoZIndex&quot;: true, &quot;collapsed&quot;: true, &quot;position&quot;: &quot;topright&quot;}\n",
              "            ).addTo(map_7b766e719713e3a2e9d8ce2f975e978f);\n",
              "\n",
              "        \n",
              "&lt;/script&gt;\n",
              "&lt;/html&gt;\" style=\"position:absolute;width:100%;height:100%;left:0;top:0;border:none !important;\" allowfullscreen webkitallowfullscreen mozallowfullscreen></iframe></div></div>"
            ]
          },
          "metadata": {},
          "execution_count": 27
        }
      ]
    },
    {
      "cell_type": "markdown",
      "source": [
        "Como se puede ver en la imagen L8 justo en la parte inferior izquierda no hay nubes, justo en la zona donde está la mayor presencia de nubes en L7, asi que nos servirá bastante esta imagen para completar esa zona. Si las diferencias radiometricas son muy altas podriamos tratar de trabajar topologia con ee.kernel, podemos escribir ee.kernel google earth engine"
      ],
      "metadata": {
        "id": "CSC9cOM4U-OX"
      }
    },
    {
      "cell_type": "markdown",
      "metadata": {
        "id": "lgYwqqwAV76J"
      },
      "source": [
        "##### **Landsat 8 - con mascara**"
      ]
    },
    {
      "cell_type": "code",
      "metadata": {
        "id": "K36w0xXiV87Z"
      },
      "source": [
        "def l8_maskcloud(image):\n",
        "  qa = image.select('QA_PIXEL')\n",
        "  #Generando una mascara para solo aquellos pixeles que no contienen cloud shadow, cloud, cloud confidence y cirrus confidence\n",
        "  #Ahora con la nueva version de la coleccion 2 de landsat se hara una mascara para aquellos pixeles que no contienen:\n",
        "  #Bit 2: Cirrus (high confidence), Bit 3: Cloud, Bit 4: Cloud Shadow, Bits 8-9: Cloud Confidence, Bits 10-11: Cloud Shadow Confidence,Bits 14-15: Cirrus Confidence\n",
        "  my_mask = (1 << 2) + (1 << 3) + (1 << 4) + (1 << 9) + (1 << 11) + (1 << 15)\n",
        "  mask = qa.bitwiseAnd(my_mask).eq(0)\n",
        "  ndvi = image.normalizedDifference(['SR_B4', 'SR_B3']).rename('NDVI')\n",
        "  return image.select([\"SR_B.*\"]).addBands(ndvi).updateMask(mask).copyProperties(image, [\"system:time_start\"])"
      ],
      "execution_count": 29,
      "outputs": []
    },
    {
      "cell_type": "code",
      "metadata": {
        "id": "aCYCBZprWg-t",
        "outputId": "44684045-9f9f-4723-91f4-264c42546176",
        "colab": {
          "base_uri": "https://localhost:8080/",
          "height": 685
        }
      },
      "source": [
        "l8_nocloud = l8.map(l8_maskcloud)\n",
        "#Si bien es cierto mejora la imagen L8, el problema que hay con el mosaico y trabajar con imagenes de periodo fenologico amplio o diferentes temporadas,\n",
        "# es decir, dos o tres meses de diferencia, entonces va a haber problemas de saturacion entre las imagenes, por lo que se recomienda,\n",
        "# al estar haciendo un mosaico y alguna de los pixeles de nube se estan reemplazando por otras imagenes de otra temporada, sería mejor utilizar una mediana\n",
        "# la mediana va a normalizar mejor los valores de los pixeles\n",
        "l8_nocloud_nvdi = l8_nocloud.median() #l8_nocloud.qualityMosaic('NDVI')\n",
        "#Ahora la imagen se ve mas limpia\n",
        "l8_nocloud_getmapid = l8_nocloud_nvdi.getMapId(l8_viz_params)\n",
        "mapdisplay(center,{'ndvi_l8_nocloud':l8_nocloud_getmapid,\n",
        "                   'median_l8_cloud':l8_to_plot_median})"
      ],
      "execution_count": 31,
      "outputs": [
        {
          "output_type": "execute_result",
          "data": {
            "text/plain": [
              "<folium.folium.Map at 0x79301555b490>"
            ],
            "text/html": [
              "<div style=\"width:100%;\"><div style=\"position:relative;width:100%;height:0;padding-bottom:60%;\"><span style=\"color:#565656\">Make this Notebook Trusted to load map: File -> Trust Notebook</span><iframe srcdoc=\"&lt;!DOCTYPE html&gt;\n",
              "&lt;html&gt;\n",
              "&lt;head&gt;\n",
              "    \n",
              "    &lt;meta http-equiv=&quot;content-type&quot; content=&quot;text/html; charset=UTF-8&quot; /&gt;\n",
              "    \n",
              "        &lt;script&gt;\n",
              "            L_NO_TOUCH = false;\n",
              "            L_DISABLE_3D = false;\n",
              "        &lt;/script&gt;\n",
              "    \n",
              "    &lt;style&gt;html, body {width: 100%;height: 100%;margin: 0;padding: 0;}&lt;/style&gt;\n",
              "    &lt;style&gt;#map {position:absolute;top:0;bottom:0;right:0;left:0;}&lt;/style&gt;\n",
              "    &lt;script src=&quot;https://cdn.jsdelivr.net/npm/leaflet@1.9.3/dist/leaflet.js&quot;&gt;&lt;/script&gt;\n",
              "    &lt;script src=&quot;https://code.jquery.com/jquery-3.7.1.min.js&quot;&gt;&lt;/script&gt;\n",
              "    &lt;script src=&quot;https://cdn.jsdelivr.net/npm/bootstrap@5.2.2/dist/js/bootstrap.bundle.min.js&quot;&gt;&lt;/script&gt;\n",
              "    &lt;script src=&quot;https://cdnjs.cloudflare.com/ajax/libs/Leaflet.awesome-markers/2.0.2/leaflet.awesome-markers.js&quot;&gt;&lt;/script&gt;\n",
              "    &lt;link rel=&quot;stylesheet&quot; href=&quot;https://cdn.jsdelivr.net/npm/leaflet@1.9.3/dist/leaflet.css&quot;/&gt;\n",
              "    &lt;link rel=&quot;stylesheet&quot; href=&quot;https://cdn.jsdelivr.net/npm/bootstrap@5.2.2/dist/css/bootstrap.min.css&quot;/&gt;\n",
              "    &lt;link rel=&quot;stylesheet&quot; href=&quot;https://netdna.bootstrapcdn.com/bootstrap/3.0.0/css/bootstrap-glyphicons.css&quot;/&gt;\n",
              "    &lt;link rel=&quot;stylesheet&quot; href=&quot;https://cdn.jsdelivr.net/npm/@fortawesome/fontawesome-free@6.2.0/css/all.min.css&quot;/&gt;\n",
              "    &lt;link rel=&quot;stylesheet&quot; href=&quot;https://cdnjs.cloudflare.com/ajax/libs/Leaflet.awesome-markers/2.0.2/leaflet.awesome-markers.css&quot;/&gt;\n",
              "    &lt;link rel=&quot;stylesheet&quot; href=&quot;https://cdn.jsdelivr.net/gh/python-visualization/folium/folium/templates/leaflet.awesome.rotate.min.css&quot;/&gt;\n",
              "    \n",
              "            &lt;meta name=&quot;viewport&quot; content=&quot;width=device-width,\n",
              "                initial-scale=1.0, maximum-scale=1.0, user-scalable=no&quot; /&gt;\n",
              "            &lt;style&gt;\n",
              "                #map_f8c540264a98e6e47707f2016bf4f03a {\n",
              "                    position: relative;\n",
              "                    width: 100.0%;\n",
              "                    height: 100.0%;\n",
              "                    left: 0.0%;\n",
              "                    top: 0.0%;\n",
              "                }\n",
              "                .leaflet-container { font-size: 1rem; }\n",
              "            &lt;/style&gt;\n",
              "        \n",
              "&lt;/head&gt;\n",
              "&lt;body&gt;\n",
              "    \n",
              "    \n",
              "            &lt;div class=&quot;folium-map&quot; id=&quot;map_f8c540264a98e6e47707f2016bf4f03a&quot; &gt;&lt;/div&gt;\n",
              "        \n",
              "&lt;/body&gt;\n",
              "&lt;script&gt;\n",
              "    \n",
              "    \n",
              "            var map_f8c540264a98e6e47707f2016bf4f03a = L.map(\n",
              "                &quot;map_f8c540264a98e6e47707f2016bf4f03a&quot;,\n",
              "                {\n",
              "                    center: [-10.609, -72.628],\n",
              "                    crs: L.CRS.EPSG3857,\n",
              "                    zoom: 10,\n",
              "                    zoomControl: true,\n",
              "                    preferCanvas: false,\n",
              "                }\n",
              "            );\n",
              "\n",
              "            \n",
              "\n",
              "        \n",
              "    \n",
              "            var tile_layer_291a537e501c988b02d523582f27a6d3 = L.tileLayer(\n",
              "                &quot;https://tile.openstreetmap.org/{z}/{x}/{y}.png&quot;,\n",
              "                {&quot;attribution&quot;: &quot;\\u0026copy; \\u003ca href=\\&quot;https://www.openstreetmap.org/copyright\\&quot;\\u003eOpenStreetMap\\u003c/a\\u003e contributors&quot;, &quot;detectRetina&quot;: false, &quot;maxNativeZoom&quot;: 19, &quot;maxZoom&quot;: 19, &quot;minZoom&quot;: 0, &quot;noWrap&quot;: false, &quot;opacity&quot;: 1, &quot;subdomains&quot;: &quot;abc&quot;, &quot;tms&quot;: false}\n",
              "            );\n",
              "        \n",
              "    \n",
              "            tile_layer_291a537e501c988b02d523582f27a6d3.addTo(map_f8c540264a98e6e47707f2016bf4f03a);\n",
              "        \n",
              "    \n",
              "            var tile_layer_df73914bc583a1085236a9de78a10cae = L.tileLayer(\n",
              "                &quot;https://earthengine.googleapis.com/v1/projects/ee-jtantaroman/maps/f8854214b6125f919a67521b1e27aca5-bfc7574762b1a7e15ebeec61ea1a35ec/tiles/{z}/{x}/{y}&quot;,\n",
              "                {&quot;attribution&quot;: &quot;Google Earth Engine&quot;, &quot;detectRetina&quot;: false, &quot;maxZoom&quot;: 18, &quot;minZoom&quot;: 0, &quot;noWrap&quot;: false, &quot;opacity&quot;: 1, &quot;subdomains&quot;: &quot;abc&quot;, &quot;tms&quot;: false}\n",
              "            );\n",
              "        \n",
              "    \n",
              "            tile_layer_df73914bc583a1085236a9de78a10cae.addTo(map_f8c540264a98e6e47707f2016bf4f03a);\n",
              "        \n",
              "    \n",
              "            var tile_layer_1790d7cdd28108ced739db44b8df5f51 = L.tileLayer(\n",
              "                &quot;https://earthengine.googleapis.com/v1/projects/ee-jtantaroman/maps/844f2427a6626a3ba201dc14f3bde0f6-211d24f06b762dcf46396a42ec5b788c/tiles/{z}/{x}/{y}&quot;,\n",
              "                {&quot;attribution&quot;: &quot;Google Earth Engine&quot;, &quot;detectRetina&quot;: false, &quot;maxZoom&quot;: 18, &quot;minZoom&quot;: 0, &quot;noWrap&quot;: false, &quot;opacity&quot;: 1, &quot;subdomains&quot;: &quot;abc&quot;, &quot;tms&quot;: false}\n",
              "            );\n",
              "        \n",
              "    \n",
              "            tile_layer_1790d7cdd28108ced739db44b8df5f51.addTo(map_f8c540264a98e6e47707f2016bf4f03a);\n",
              "        \n",
              "    \n",
              "            var layer_control_578499215779c2e5f96bc3ec16baa398_layers = {\n",
              "                base_layers : {\n",
              "                    &quot;openstreetmap&quot; : tile_layer_291a537e501c988b02d523582f27a6d3,\n",
              "                },\n",
              "                overlays :  {\n",
              "                    &quot;ndvi_l8_nocloud&quot; : tile_layer_df73914bc583a1085236a9de78a10cae,\n",
              "                    &quot;median_l8_cloud&quot; : tile_layer_1790d7cdd28108ced739db44b8df5f51,\n",
              "                },\n",
              "            };\n",
              "            let layer_control_578499215779c2e5f96bc3ec16baa398 = L.control.layers(\n",
              "                layer_control_578499215779c2e5f96bc3ec16baa398_layers.base_layers,\n",
              "                layer_control_578499215779c2e5f96bc3ec16baa398_layers.overlays,\n",
              "                {&quot;autoZIndex&quot;: true, &quot;collapsed&quot;: true, &quot;position&quot;: &quot;topright&quot;}\n",
              "            ).addTo(map_f8c540264a98e6e47707f2016bf4f03a);\n",
              "\n",
              "        \n",
              "&lt;/script&gt;\n",
              "&lt;/html&gt;\" style=\"position:absolute;width:100%;height:100%;left:0;top:0;border:none !important;\" allowfullscreen webkitallowfullscreen mozallowfullscreen></iframe></div></div>"
            ]
          },
          "metadata": {},
          "execution_count": 31
        }
      ]
    },
    {
      "cell_type": "markdown",
      "metadata": {
        "id": "wB6szwF-XXl7"
      },
      "source": [
        "##### **Landsat 7 y 8 - con mascara**"
      ]
    },
    {
      "cell_type": "code",
      "metadata": {
        "id": "0diV3pDmXbl3"
      },
      "source": [
        "#Aca estamos renombrando los nombres de las bandas para combinar L7 y L8,\n",
        "#Las diferencias radiometricas mas importantes estan en la SWIR, B6 y B5 de L8 Y L7 respectivamente\n",
        "#Para estudios de NDVI estas diferencias son minimas, siempre y cuando sean validadas\n",
        "def select_image_l8(img):\n",
        "  return img.select(['SR_B6','SR_B5','SR_B4','NDVI']).rename('SWIR','NIR','RED','NDVI')\n",
        "def select_image_l7(img):\n",
        "  return img.select(['SR_B5','SR_B4','SR_B3','NDVI']).rename('SWIR','NIR','RED','NDVI')\n",
        "\n",
        "l7_veg = l7_nocloud.map(select_image_l7)\n",
        "l8_veg = l8_nocloud.map(select_image_l8)\n",
        "#Juntamos dos image collection con el comando merge\n",
        "l78 =l8_veg.merge(l7_veg)"
      ],
      "execution_count": 33,
      "outputs": []
    },
    {
      "cell_type": "code",
      "metadata": {
        "id": "x-wYFi3DYJBT",
        "outputId": "f9897a9a-5919-42ad-e20b-ff1b93d3e491",
        "colab": {
          "base_uri": "https://localhost:8080/",
          "height": 685
        }
      },
      "source": [
        "l78_nocloud_nvdi = l78.qualityMosaic('NDVI') #Mosaico de los pixeles en funcion a los valores mas altos del ndvi (es decir el pixel con mas alto valor de ndvi quedará al igual que sus valores de todas sus bandas)\n",
        "l78_nocloud_median = l78.median()\n",
        "l78_nocloud_getmapid_ndvi = l78_nocloud_nvdi.getMapId(l78_viz_params)\n",
        "l78_nocloud_getmapid_median = l78_nocloud_median.getMapId(l78_viz_params)\n",
        "mapdisplay(center,{'l78_nocloud_getmapid_ndvi':l78_nocloud_getmapid_ndvi,\n",
        "                   'l78_nocloud_getmapid_median':l78_nocloud_getmapid_median})"
      ],
      "execution_count": 35,
      "outputs": [
        {
          "output_type": "execute_result",
          "data": {
            "text/plain": [
              "<folium.folium.Map at 0x7930018dac50>"
            ],
            "text/html": [
              "<div style=\"width:100%;\"><div style=\"position:relative;width:100%;height:0;padding-bottom:60%;\"><span style=\"color:#565656\">Make this Notebook Trusted to load map: File -> Trust Notebook</span><iframe srcdoc=\"&lt;!DOCTYPE html&gt;\n",
              "&lt;html&gt;\n",
              "&lt;head&gt;\n",
              "    \n",
              "    &lt;meta http-equiv=&quot;content-type&quot; content=&quot;text/html; charset=UTF-8&quot; /&gt;\n",
              "    \n",
              "        &lt;script&gt;\n",
              "            L_NO_TOUCH = false;\n",
              "            L_DISABLE_3D = false;\n",
              "        &lt;/script&gt;\n",
              "    \n",
              "    &lt;style&gt;html, body {width: 100%;height: 100%;margin: 0;padding: 0;}&lt;/style&gt;\n",
              "    &lt;style&gt;#map {position:absolute;top:0;bottom:0;right:0;left:0;}&lt;/style&gt;\n",
              "    &lt;script src=&quot;https://cdn.jsdelivr.net/npm/leaflet@1.9.3/dist/leaflet.js&quot;&gt;&lt;/script&gt;\n",
              "    &lt;script src=&quot;https://code.jquery.com/jquery-3.7.1.min.js&quot;&gt;&lt;/script&gt;\n",
              "    &lt;script src=&quot;https://cdn.jsdelivr.net/npm/bootstrap@5.2.2/dist/js/bootstrap.bundle.min.js&quot;&gt;&lt;/script&gt;\n",
              "    &lt;script src=&quot;https://cdnjs.cloudflare.com/ajax/libs/Leaflet.awesome-markers/2.0.2/leaflet.awesome-markers.js&quot;&gt;&lt;/script&gt;\n",
              "    &lt;link rel=&quot;stylesheet&quot; href=&quot;https://cdn.jsdelivr.net/npm/leaflet@1.9.3/dist/leaflet.css&quot;/&gt;\n",
              "    &lt;link rel=&quot;stylesheet&quot; href=&quot;https://cdn.jsdelivr.net/npm/bootstrap@5.2.2/dist/css/bootstrap.min.css&quot;/&gt;\n",
              "    &lt;link rel=&quot;stylesheet&quot; href=&quot;https://netdna.bootstrapcdn.com/bootstrap/3.0.0/css/bootstrap-glyphicons.css&quot;/&gt;\n",
              "    &lt;link rel=&quot;stylesheet&quot; href=&quot;https://cdn.jsdelivr.net/npm/@fortawesome/fontawesome-free@6.2.0/css/all.min.css&quot;/&gt;\n",
              "    &lt;link rel=&quot;stylesheet&quot; href=&quot;https://cdnjs.cloudflare.com/ajax/libs/Leaflet.awesome-markers/2.0.2/leaflet.awesome-markers.css&quot;/&gt;\n",
              "    &lt;link rel=&quot;stylesheet&quot; href=&quot;https://cdn.jsdelivr.net/gh/python-visualization/folium/folium/templates/leaflet.awesome.rotate.min.css&quot;/&gt;\n",
              "    \n",
              "            &lt;meta name=&quot;viewport&quot; content=&quot;width=device-width,\n",
              "                initial-scale=1.0, maximum-scale=1.0, user-scalable=no&quot; /&gt;\n",
              "            &lt;style&gt;\n",
              "                #map_1cabde43a8c6c6f4664c48c4482acc20 {\n",
              "                    position: relative;\n",
              "                    width: 100.0%;\n",
              "                    height: 100.0%;\n",
              "                    left: 0.0%;\n",
              "                    top: 0.0%;\n",
              "                }\n",
              "                .leaflet-container { font-size: 1rem; }\n",
              "            &lt;/style&gt;\n",
              "        \n",
              "&lt;/head&gt;\n",
              "&lt;body&gt;\n",
              "    \n",
              "    \n",
              "            &lt;div class=&quot;folium-map&quot; id=&quot;map_1cabde43a8c6c6f4664c48c4482acc20&quot; &gt;&lt;/div&gt;\n",
              "        \n",
              "&lt;/body&gt;\n",
              "&lt;script&gt;\n",
              "    \n",
              "    \n",
              "            var map_1cabde43a8c6c6f4664c48c4482acc20 = L.map(\n",
              "                &quot;map_1cabde43a8c6c6f4664c48c4482acc20&quot;,\n",
              "                {\n",
              "                    center: [-10.609, -72.628],\n",
              "                    crs: L.CRS.EPSG3857,\n",
              "                    zoom: 10,\n",
              "                    zoomControl: true,\n",
              "                    preferCanvas: false,\n",
              "                }\n",
              "            );\n",
              "\n",
              "            \n",
              "\n",
              "        \n",
              "    \n",
              "            var tile_layer_a1a0ca794f12e500139ff278a0cf1123 = L.tileLayer(\n",
              "                &quot;https://tile.openstreetmap.org/{z}/{x}/{y}.png&quot;,\n",
              "                {&quot;attribution&quot;: &quot;\\u0026copy; \\u003ca href=\\&quot;https://www.openstreetmap.org/copyright\\&quot;\\u003eOpenStreetMap\\u003c/a\\u003e contributors&quot;, &quot;detectRetina&quot;: false, &quot;maxNativeZoom&quot;: 19, &quot;maxZoom&quot;: 19, &quot;minZoom&quot;: 0, &quot;noWrap&quot;: false, &quot;opacity&quot;: 1, &quot;subdomains&quot;: &quot;abc&quot;, &quot;tms&quot;: false}\n",
              "            );\n",
              "        \n",
              "    \n",
              "            tile_layer_a1a0ca794f12e500139ff278a0cf1123.addTo(map_1cabde43a8c6c6f4664c48c4482acc20);\n",
              "        \n",
              "    \n",
              "            var tile_layer_79febb8dbdb23c0c313e5f5d845e5c58 = L.tileLayer(\n",
              "                &quot;https://earthengine.googleapis.com/v1/projects/ee-jtantaroman/maps/e3d0260b93198b0da399cac6eb01137a-02dc1e9c7f0561dd60f84518309fb558/tiles/{z}/{x}/{y}&quot;,\n",
              "                {&quot;attribution&quot;: &quot;Google Earth Engine&quot;, &quot;detectRetina&quot;: false, &quot;maxZoom&quot;: 18, &quot;minZoom&quot;: 0, &quot;noWrap&quot;: false, &quot;opacity&quot;: 1, &quot;subdomains&quot;: &quot;abc&quot;, &quot;tms&quot;: false}\n",
              "            );\n",
              "        \n",
              "    \n",
              "            tile_layer_79febb8dbdb23c0c313e5f5d845e5c58.addTo(map_1cabde43a8c6c6f4664c48c4482acc20);\n",
              "        \n",
              "    \n",
              "            var tile_layer_7e31b02360b125f5fd94299707ac7aff = L.tileLayer(\n",
              "                &quot;https://earthengine.googleapis.com/v1/projects/ee-jtantaroman/maps/8baef3470ff23ef1688752beaac759bb-c4db0505590b8d49946e478fc640fe35/tiles/{z}/{x}/{y}&quot;,\n",
              "                {&quot;attribution&quot;: &quot;Google Earth Engine&quot;, &quot;detectRetina&quot;: false, &quot;maxZoom&quot;: 18, &quot;minZoom&quot;: 0, &quot;noWrap&quot;: false, &quot;opacity&quot;: 1, &quot;subdomains&quot;: &quot;abc&quot;, &quot;tms&quot;: false}\n",
              "            );\n",
              "        \n",
              "    \n",
              "            tile_layer_7e31b02360b125f5fd94299707ac7aff.addTo(map_1cabde43a8c6c6f4664c48c4482acc20);\n",
              "        \n",
              "    \n",
              "            var layer_control_6052ddf8622e8927031e0544812c495a_layers = {\n",
              "                base_layers : {\n",
              "                    &quot;openstreetmap&quot; : tile_layer_a1a0ca794f12e500139ff278a0cf1123,\n",
              "                },\n",
              "                overlays :  {\n",
              "                    &quot;l78_nocloud_getmapid_ndvi&quot; : tile_layer_79febb8dbdb23c0c313e5f5d845e5c58,\n",
              "                    &quot;l78_nocloud_getmapid_median&quot; : tile_layer_7e31b02360b125f5fd94299707ac7aff,\n",
              "                },\n",
              "            };\n",
              "            let layer_control_6052ddf8622e8927031e0544812c495a = L.control.layers(\n",
              "                layer_control_6052ddf8622e8927031e0544812c495a_layers.base_layers,\n",
              "                layer_control_6052ddf8622e8927031e0544812c495a_layers.overlays,\n",
              "                {&quot;autoZIndex&quot;: true, &quot;collapsed&quot;: true, &quot;position&quot;: &quot;topright&quot;}\n",
              "            ).addTo(map_1cabde43a8c6c6f4664c48c4482acc20);\n",
              "\n",
              "        \n",
              "&lt;/script&gt;\n",
              "&lt;/html&gt;\" style=\"position:absolute;width:100%;height:100%;left:0;top:0;border:none !important;\" allowfullscreen webkitallowfullscreen mozallowfullscreen></iframe></div></div>"
            ]
          },
          "metadata": {},
          "execution_count": 35
        }
      ]
    },
    {
      "cell_type": "markdown",
      "source": [
        "Visualizando ambas imagenes el mosaico y la mediana, vemos que la mediana nos arroja un mejor resultado"
      ],
      "metadata": {
        "id": "1dwAauQQjpyU"
      }
    },
    {
      "cell_type": "markdown",
      "metadata": {
        "id": "awgpXjgKy6cF"
      },
      "source": [
        "### **Funcion para generar composites a partir de L7 y L8 - vegetacion**"
      ]
    },
    {
      "cell_type": "code",
      "metadata": {
        "id": "KBvHCLMCzCxC"
      },
      "source": [
        "def applyScaleFactors(image):\n",
        "  opticalBands = image.select('SR_B.').multiply(0.0000275).add(-0.2)\n",
        "  thermalBand = image.select('ST_B6').multiply(0.00341802).add(149.0)\n",
        "\n",
        "  return image.addBands(opticalBands, None, True)\\\n",
        "              .addBands(thermalBand, None, True)\n",
        "\n",
        "def applyScaleFactorsL8(image):\n",
        "  optical_bands = image.select('SR_B.').multiply(0.0000275).add(-0.2)\n",
        "  thermal_bands = image.select('ST_B.*').multiply(0.00341802).add(149.0)\n",
        "  return image.addBands(optical_bands, None, True).addBands(\n",
        "      thermal_bands, None, True\n",
        "  )\n",
        "\n",
        "\n",
        "\n",
        "def composite_l7l8_vegetation(init_date, last_date, roi, cloud_per, calendar, composite = 'median'):\n",
        "  '''\n",
        "  Crear un composite de vegetacion a partir de datos Landsat 8 y Landsat  7\n",
        "\n",
        "  init_date: Fecha de inicio\n",
        "  last_date: Fecha de fin\n",
        "  roi: Ambito de estudio\n",
        "  cloud_per: Porcentaje de nubes\n",
        "  calendar: Lista numerica de dos elementos. Que indica los meses a filtrar.\n",
        "  composite: Funcion utilizada para realizar el composite. Actualmente\n",
        "             disponible: mean, ndvi (max) y none (no composite).\n",
        "  '''\n",
        "  def l7_maskcloud(image):\n",
        "    qa = image.select('QA_PIXEL')\n",
        "    my_mask = (1 << 3) + (1 << 4) + (1 << 9) + (1 << 11) + (1 << 15)\n",
        "    mask = qa.bitwiseAnd(my_mask).eq(0)\n",
        "    ndvi = image.normalizedDifference(['SR_B4', 'SR_B3']).rename('NDVI')\n",
        "    return image.addBands(ndvi)\\\n",
        "                .select(['SR_B5','SR_B4','SR_B3','NDVI'])\\\n",
        "                .rename('SWIR','NIR','RED','NDVI')\\\n",
        "                .updateMask(mask)\\\n",
        "                .copyProperties(image, [\"system:time_start\"])\n",
        "  def l8_maskcloud(image):\n",
        "    qa = image.select('QA_PIXEL')\n",
        "    my_mask = (1 << 2) + (1 << 3) + (1 << 4) + (1 << 9) + (1 << 11) + (1 << 15)\n",
        "    mask = qa.bitwiseAnd(my_mask).eq(0)\n",
        "    ndvi = image.normalizedDifference(['SR_B5', 'SR_B4']).rename('NDVI')\n",
        "    return image.addBands(ndvi)\\\n",
        "                .select(['SR_B6','SR_B5','SR_B4','NDVI'])\\\n",
        "                .rename('SWIR','NIR','RED','NDVI')\\\n",
        "                .updateMask(mask)\\\n",
        "                .copyProperties(image, [\"system:time_start\"])\n",
        "  l7 = ee.ImageCollection('LANDSAT/LE07/C02/T1_L2')\\\n",
        "        .filterBounds(roi)\\\n",
        "        .filterDate(init_date, last_date)\\\n",
        "        .filterMetadata('CLOUD_COVER','less_than',cloud_per)\\\n",
        "        .filter(ee.Filter.calendarRange(calendar[0], calendar[1],'month'))\\\n",
        "        .map(applyScaleFactors)\n",
        "  l7 = l7.map(l7_maskcloud)\n",
        "  l8 = ee.ImageCollection(\"LANDSAT/LC08/C02/T1_L2\")\\\n",
        "        .filterBounds(roi)\\\n",
        "        .filterDate(init_date, last_date)\\\n",
        "        .filterMetadata('CLOUD_COVER','less_than',cloud_per)\\\n",
        "        .filter(ee.Filter.calendarRange(calendar[0], calendar[1],'month'))\\\n",
        "        .map(applyScaleFactorsL8)\n",
        "  l8 = l8.map(l8_maskcloud)\n",
        "\n",
        "  l78 =l8.merge(l7)\n",
        "  if composite == 'median':\n",
        "    return l78.median()\n",
        "  elif composite == 'ndvi':\n",
        "    return l78.qualityMosaic('NDVI')\n",
        "  else:\n",
        "    return l78"
      ],
      "execution_count": 45,
      "outputs": []
    },
    {
      "cell_type": "markdown",
      "metadata": {
        "id": "moB5nKly90kA"
      },
      "source": [
        "Correr **composite_l7l8_vegetation** para una area determinada"
      ]
    },
    {
      "cell_type": "code",
      "metadata": {
        "id": "EjLI571z8rl_"
      },
      "source": [
        "# ------------------------------\n",
        "#  PARAMETROS GLOBALES\n",
        "# ------------------------------\n",
        "range_date = ['2019-01-01', '2019-12-31'] #fecha de inicio y fin\n",
        "center = [-72.628,-10.609]\n",
        "roi = ee.Geometry.Point(center) #Area de interes (seleccione el path and row)\n",
        "calendar = [4,11] # Seleccionar imagenes de Abril a Noviembre\n",
        "cloud_per = 20 # Maximo porcentaje de cobertura de nubes a considerar\n",
        "composite = 'median' # Funcion para generar el composite (median, ndvi)"
      ],
      "execution_count": 46,
      "outputs": []
    },
    {
      "cell_type": "code",
      "metadata": {
        "id": "yDFraqsT9phW"
      },
      "source": [
        "composite_2019 = composite_l7l8_vegetation(init_date=range_date[0],\n",
        "                                           last_date=range_date[1],\n",
        "                                           roi=roi,\n",
        "                                           cloud_per=cloud_per,\n",
        "                                           calendar=calendar,\n",
        "                                           composite=composite)\n",
        "\n",
        "\n",
        "composite_2013 = composite_l7l8_vegetation(init_date='2013-01-01',\n",
        "                                           last_date='2013-12-31',\n",
        "                                           roi=roi,\n",
        "                                           cloud_per=cloud_per,\n",
        "                                           calendar=calendar,\n",
        "                                           composite=composite)"
      ],
      "execution_count": 47,
      "outputs": []
    },
    {
      "cell_type": "code",
      "metadata": {
        "id": "08mU6tAP-_LD",
        "outputId": "20533d54-e4e2-43a8-b7a0-31c711cf41f7",
        "colab": {
          "base_uri": "https://localhost:8080/",
          "height": 685
        }
      },
      "source": [
        "l78_viz_params = {'bands':['SWIR','NIR','RED'],'min':0,'max': 0.4, 'gamma':1.2}\n",
        "mapdisplay(center,{'composite_median_2019':composite_2019.getMapId(l78_viz_params),\n",
        "                   'composite_median_2013':composite_2013.getMapId(l78_viz_params)})"
      ],
      "execution_count": 48,
      "outputs": [
        {
          "output_type": "execute_result",
          "data": {
            "text/plain": [
              "<folium.folium.Map at 0x79300181f460>"
            ],
            "text/html": [
              "<div style=\"width:100%;\"><div style=\"position:relative;width:100%;height:0;padding-bottom:60%;\"><span style=\"color:#565656\">Make this Notebook Trusted to load map: File -> Trust Notebook</span><iframe srcdoc=\"&lt;!DOCTYPE html&gt;\n",
              "&lt;html&gt;\n",
              "&lt;head&gt;\n",
              "    \n",
              "    &lt;meta http-equiv=&quot;content-type&quot; content=&quot;text/html; charset=UTF-8&quot; /&gt;\n",
              "    \n",
              "        &lt;script&gt;\n",
              "            L_NO_TOUCH = false;\n",
              "            L_DISABLE_3D = false;\n",
              "        &lt;/script&gt;\n",
              "    \n",
              "    &lt;style&gt;html, body {width: 100%;height: 100%;margin: 0;padding: 0;}&lt;/style&gt;\n",
              "    &lt;style&gt;#map {position:absolute;top:0;bottom:0;right:0;left:0;}&lt;/style&gt;\n",
              "    &lt;script src=&quot;https://cdn.jsdelivr.net/npm/leaflet@1.9.3/dist/leaflet.js&quot;&gt;&lt;/script&gt;\n",
              "    &lt;script src=&quot;https://code.jquery.com/jquery-3.7.1.min.js&quot;&gt;&lt;/script&gt;\n",
              "    &lt;script src=&quot;https://cdn.jsdelivr.net/npm/bootstrap@5.2.2/dist/js/bootstrap.bundle.min.js&quot;&gt;&lt;/script&gt;\n",
              "    &lt;script src=&quot;https://cdnjs.cloudflare.com/ajax/libs/Leaflet.awesome-markers/2.0.2/leaflet.awesome-markers.js&quot;&gt;&lt;/script&gt;\n",
              "    &lt;link rel=&quot;stylesheet&quot; href=&quot;https://cdn.jsdelivr.net/npm/leaflet@1.9.3/dist/leaflet.css&quot;/&gt;\n",
              "    &lt;link rel=&quot;stylesheet&quot; href=&quot;https://cdn.jsdelivr.net/npm/bootstrap@5.2.2/dist/css/bootstrap.min.css&quot;/&gt;\n",
              "    &lt;link rel=&quot;stylesheet&quot; href=&quot;https://netdna.bootstrapcdn.com/bootstrap/3.0.0/css/bootstrap-glyphicons.css&quot;/&gt;\n",
              "    &lt;link rel=&quot;stylesheet&quot; href=&quot;https://cdn.jsdelivr.net/npm/@fortawesome/fontawesome-free@6.2.0/css/all.min.css&quot;/&gt;\n",
              "    &lt;link rel=&quot;stylesheet&quot; href=&quot;https://cdnjs.cloudflare.com/ajax/libs/Leaflet.awesome-markers/2.0.2/leaflet.awesome-markers.css&quot;/&gt;\n",
              "    &lt;link rel=&quot;stylesheet&quot; href=&quot;https://cdn.jsdelivr.net/gh/python-visualization/folium/folium/templates/leaflet.awesome.rotate.min.css&quot;/&gt;\n",
              "    \n",
              "            &lt;meta name=&quot;viewport&quot; content=&quot;width=device-width,\n",
              "                initial-scale=1.0, maximum-scale=1.0, user-scalable=no&quot; /&gt;\n",
              "            &lt;style&gt;\n",
              "                #map_99cbf46baa89342902e84a821eb58dd1 {\n",
              "                    position: relative;\n",
              "                    width: 100.0%;\n",
              "                    height: 100.0%;\n",
              "                    left: 0.0%;\n",
              "                    top: 0.0%;\n",
              "                }\n",
              "                .leaflet-container { font-size: 1rem; }\n",
              "            &lt;/style&gt;\n",
              "        \n",
              "&lt;/head&gt;\n",
              "&lt;body&gt;\n",
              "    \n",
              "    \n",
              "            &lt;div class=&quot;folium-map&quot; id=&quot;map_99cbf46baa89342902e84a821eb58dd1&quot; &gt;&lt;/div&gt;\n",
              "        \n",
              "&lt;/body&gt;\n",
              "&lt;script&gt;\n",
              "    \n",
              "    \n",
              "            var map_99cbf46baa89342902e84a821eb58dd1 = L.map(\n",
              "                &quot;map_99cbf46baa89342902e84a821eb58dd1&quot;,\n",
              "                {\n",
              "                    center: [-10.609, -72.628],\n",
              "                    crs: L.CRS.EPSG3857,\n",
              "                    zoom: 10,\n",
              "                    zoomControl: true,\n",
              "                    preferCanvas: false,\n",
              "                }\n",
              "            );\n",
              "\n",
              "            \n",
              "\n",
              "        \n",
              "    \n",
              "            var tile_layer_b44e6ad2ab9ca406c49f1614e690119e = L.tileLayer(\n",
              "                &quot;https://tile.openstreetmap.org/{z}/{x}/{y}.png&quot;,\n",
              "                {&quot;attribution&quot;: &quot;\\u0026copy; \\u003ca href=\\&quot;https://www.openstreetmap.org/copyright\\&quot;\\u003eOpenStreetMap\\u003c/a\\u003e contributors&quot;, &quot;detectRetina&quot;: false, &quot;maxNativeZoom&quot;: 19, &quot;maxZoom&quot;: 19, &quot;minZoom&quot;: 0, &quot;noWrap&quot;: false, &quot;opacity&quot;: 1, &quot;subdomains&quot;: &quot;abc&quot;, &quot;tms&quot;: false}\n",
              "            );\n",
              "        \n",
              "    \n",
              "            tile_layer_b44e6ad2ab9ca406c49f1614e690119e.addTo(map_99cbf46baa89342902e84a821eb58dd1);\n",
              "        \n",
              "    \n",
              "            var tile_layer_0326333096acbc48ce2ec40de5267f31 = L.tileLayer(\n",
              "                &quot;https://earthengine.googleapis.com/v1/projects/ee-jtantaroman/maps/194e4583535fc5e700d81ab7d2ba8702-5b24d645e7d4228134af691b8da43a25/tiles/{z}/{x}/{y}&quot;,\n",
              "                {&quot;attribution&quot;: &quot;Google Earth Engine&quot;, &quot;detectRetina&quot;: false, &quot;maxZoom&quot;: 18, &quot;minZoom&quot;: 0, &quot;noWrap&quot;: false, &quot;opacity&quot;: 1, &quot;subdomains&quot;: &quot;abc&quot;, &quot;tms&quot;: false}\n",
              "            );\n",
              "        \n",
              "    \n",
              "            tile_layer_0326333096acbc48ce2ec40de5267f31.addTo(map_99cbf46baa89342902e84a821eb58dd1);\n",
              "        \n",
              "    \n",
              "            var tile_layer_447d7630dd13be72b0c2d25ac36ed457 = L.tileLayer(\n",
              "                &quot;https://earthengine.googleapis.com/v1/projects/ee-jtantaroman/maps/985d5ca6458cef21d3948addd25e5d7f-343955b1ccddc4cf959c530e9462329d/tiles/{z}/{x}/{y}&quot;,\n",
              "                {&quot;attribution&quot;: &quot;Google Earth Engine&quot;, &quot;detectRetina&quot;: false, &quot;maxZoom&quot;: 18, &quot;minZoom&quot;: 0, &quot;noWrap&quot;: false, &quot;opacity&quot;: 1, &quot;subdomains&quot;: &quot;abc&quot;, &quot;tms&quot;: false}\n",
              "            );\n",
              "        \n",
              "    \n",
              "            tile_layer_447d7630dd13be72b0c2d25ac36ed457.addTo(map_99cbf46baa89342902e84a821eb58dd1);\n",
              "        \n",
              "    \n",
              "            var layer_control_0d4c8d9b4b8c406e1f16b65c38bdd2af_layers = {\n",
              "                base_layers : {\n",
              "                    &quot;openstreetmap&quot; : tile_layer_b44e6ad2ab9ca406c49f1614e690119e,\n",
              "                },\n",
              "                overlays :  {\n",
              "                    &quot;composite_median_2019&quot; : tile_layer_0326333096acbc48ce2ec40de5267f31,\n",
              "                    &quot;composite_median_2013&quot; : tile_layer_447d7630dd13be72b0c2d25ac36ed457,\n",
              "                },\n",
              "            };\n",
              "            let layer_control_0d4c8d9b4b8c406e1f16b65c38bdd2af = L.control.layers(\n",
              "                layer_control_0d4c8d9b4b8c406e1f16b65c38bdd2af_layers.base_layers,\n",
              "                layer_control_0d4c8d9b4b8c406e1f16b65c38bdd2af_layers.overlays,\n",
              "                {&quot;autoZIndex&quot;: true, &quot;collapsed&quot;: true, &quot;position&quot;: &quot;topright&quot;}\n",
              "            ).addTo(map_99cbf46baa89342902e84a821eb58dd1);\n",
              "\n",
              "        \n",
              "&lt;/script&gt;\n",
              "&lt;/html&gt;\" style=\"position:absolute;width:100%;height:100%;left:0;top:0;border:none !important;\" allowfullscreen webkitallowfullscreen mozallowfullscreen></iframe></div></div>"
            ]
          },
          "metadata": {},
          "execution_count": 48
        }
      ]
    },
    {
      "cell_type": "markdown",
      "metadata": {
        "id": "0HoK5tSWa8Nq"
      },
      "source": [
        "### **¿Dudas con este Jupyer-Notebook?**\n",
        "\n",
        "Estaremos felices de ayudarte!. Create una cuenta Github si es que no la tienes, luego detalla tu problema ampliamente en: https://github.com/csaybar/EarthEngineMasterGIS/issues\n",
        "\n",
        "**Tienes que dar clic en el boton verde!**\n",
        "\n",
        "<center>\n",
        "<img src=\"https://user-images.githubusercontent.com/16768318/79680748-d5511000-81d8-11ea-9f89-44bd010adf69.png\" width = 70%>\n",
        "</center>"
      ]
    }
  ]
}